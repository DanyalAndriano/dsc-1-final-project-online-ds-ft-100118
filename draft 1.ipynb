{
 "cells": [
  {
   "cell_type": "markdown",
   "metadata": {},
   "source": [
    "## Final Project Submission\n",
    "\n",
    "Please fill out:\n",
    "* Student name: Danyal Andriano\n",
    "* Student pace: self paced / part time / full time\n",
    "* Scheduled project review date/time: \n",
    "* Instructor name: \n"
   ]
  },
  {
   "cell_type": "code",
   "execution_count": null,
   "metadata": {},
   "outputs": [],
   "source": [
    "#!pip install folium\n",
    "#!pip install geopy"
   ]
  },
  {
   "cell_type": "code",
   "execution_count": 1,
   "metadata": {
    "scrolled": true
   },
   "outputs": [],
   "source": [
    "#Import libraries\n",
    "import pandas as pd\n",
    "import matplotlib.pyplot as plt\n",
    "import numpy as np\n",
    "import scipy\n",
    "from scipy import stats\n",
    "from scipy.stats import boxcox\n",
    "from math import sqrt\n",
    "import sqlite3\n",
    "import seaborn as sns\n",
    "import statsmodels.api as sm\n",
    "from statsmodels.formula.api import ols\n",
    "import statsmodels.api as sm\n",
    "from statsmodels.graphics.regressionplots import *\n",
    "import statsmodels.stats.outliers_influence as st_inf\n",
    "from statsmodels.stats.anova import anova_lm\n",
    "import missingno as msno\n",
    "import folium\n",
    "from folium import plugins\n",
    "from folium.plugins import HeatMap\n",
    "import geopy.distance\n",
    "from pandasql import sqldf\n",
    "%matplotlib inline\n",
    "#%matplotlib qt"
   ]
  },
  {
   "cell_type": "code",
   "execution_count": 2,
   "metadata": {
    "scrolled": true
   },
   "outputs": [
    {
     "data": {
      "text/html": [
       "<div>\n",
       "<style scoped>\n",
       "    .dataframe tbody tr th:only-of-type {\n",
       "        vertical-align: middle;\n",
       "    }\n",
       "\n",
       "    .dataframe tbody tr th {\n",
       "        vertical-align: top;\n",
       "    }\n",
       "\n",
       "    .dataframe thead th {\n",
       "        text-align: right;\n",
       "    }\n",
       "</style>\n",
       "<table border=\"1\" class=\"dataframe\">\n",
       "  <thead>\n",
       "    <tr style=\"text-align: right;\">\n",
       "      <th></th>\n",
       "      <th>id</th>\n",
       "      <th>date</th>\n",
       "      <th>price</th>\n",
       "      <th>bedrooms</th>\n",
       "      <th>bathrooms</th>\n",
       "      <th>sqft_living</th>\n",
       "      <th>sqft_lot</th>\n",
       "      <th>floors</th>\n",
       "      <th>waterfront</th>\n",
       "      <th>view</th>\n",
       "      <th>...</th>\n",
       "      <th>grade</th>\n",
       "      <th>sqft_above</th>\n",
       "      <th>sqft_basement</th>\n",
       "      <th>yr_built</th>\n",
       "      <th>yr_renovated</th>\n",
       "      <th>zipcode</th>\n",
       "      <th>lat</th>\n",
       "      <th>long</th>\n",
       "      <th>sqft_living15</th>\n",
       "      <th>sqft_lot15</th>\n",
       "    </tr>\n",
       "  </thead>\n",
       "  <tbody>\n",
       "    <tr>\n",
       "      <th>0</th>\n",
       "      <td>7129300520</td>\n",
       "      <td>10/13/2014</td>\n",
       "      <td>221900.0</td>\n",
       "      <td>3</td>\n",
       "      <td>1.00</td>\n",
       "      <td>1180</td>\n",
       "      <td>5650</td>\n",
       "      <td>1.0</td>\n",
       "      <td>NaN</td>\n",
       "      <td>0.0</td>\n",
       "      <td>...</td>\n",
       "      <td>7</td>\n",
       "      <td>1180</td>\n",
       "      <td>0.0</td>\n",
       "      <td>1955</td>\n",
       "      <td>0.0</td>\n",
       "      <td>98178</td>\n",
       "      <td>47.5112</td>\n",
       "      <td>-122.257</td>\n",
       "      <td>1340</td>\n",
       "      <td>5650</td>\n",
       "    </tr>\n",
       "    <tr>\n",
       "      <th>1</th>\n",
       "      <td>6414100192</td>\n",
       "      <td>12/9/2014</td>\n",
       "      <td>538000.0</td>\n",
       "      <td>3</td>\n",
       "      <td>2.25</td>\n",
       "      <td>2570</td>\n",
       "      <td>7242</td>\n",
       "      <td>2.0</td>\n",
       "      <td>0.0</td>\n",
       "      <td>0.0</td>\n",
       "      <td>...</td>\n",
       "      <td>7</td>\n",
       "      <td>2170</td>\n",
       "      <td>400.0</td>\n",
       "      <td>1951</td>\n",
       "      <td>1991.0</td>\n",
       "      <td>98125</td>\n",
       "      <td>47.7210</td>\n",
       "      <td>-122.319</td>\n",
       "      <td>1690</td>\n",
       "      <td>7639</td>\n",
       "    </tr>\n",
       "    <tr>\n",
       "      <th>2</th>\n",
       "      <td>5631500400</td>\n",
       "      <td>2/25/2015</td>\n",
       "      <td>180000.0</td>\n",
       "      <td>2</td>\n",
       "      <td>1.00</td>\n",
       "      <td>770</td>\n",
       "      <td>10000</td>\n",
       "      <td>1.0</td>\n",
       "      <td>0.0</td>\n",
       "      <td>0.0</td>\n",
       "      <td>...</td>\n",
       "      <td>6</td>\n",
       "      <td>770</td>\n",
       "      <td>0.0</td>\n",
       "      <td>1933</td>\n",
       "      <td>NaN</td>\n",
       "      <td>98028</td>\n",
       "      <td>47.7379</td>\n",
       "      <td>-122.233</td>\n",
       "      <td>2720</td>\n",
       "      <td>8062</td>\n",
       "    </tr>\n",
       "    <tr>\n",
       "      <th>3</th>\n",
       "      <td>2487200875</td>\n",
       "      <td>12/9/2014</td>\n",
       "      <td>604000.0</td>\n",
       "      <td>4</td>\n",
       "      <td>3.00</td>\n",
       "      <td>1960</td>\n",
       "      <td>5000</td>\n",
       "      <td>1.0</td>\n",
       "      <td>0.0</td>\n",
       "      <td>0.0</td>\n",
       "      <td>...</td>\n",
       "      <td>7</td>\n",
       "      <td>1050</td>\n",
       "      <td>910.0</td>\n",
       "      <td>1965</td>\n",
       "      <td>0.0</td>\n",
       "      <td>98136</td>\n",
       "      <td>47.5208</td>\n",
       "      <td>-122.393</td>\n",
       "      <td>1360</td>\n",
       "      <td>5000</td>\n",
       "    </tr>\n",
       "    <tr>\n",
       "      <th>4</th>\n",
       "      <td>1954400510</td>\n",
       "      <td>2/18/2015</td>\n",
       "      <td>510000.0</td>\n",
       "      <td>3</td>\n",
       "      <td>2.00</td>\n",
       "      <td>1680</td>\n",
       "      <td>8080</td>\n",
       "      <td>1.0</td>\n",
       "      <td>0.0</td>\n",
       "      <td>0.0</td>\n",
       "      <td>...</td>\n",
       "      <td>8</td>\n",
       "      <td>1680</td>\n",
       "      <td>0.0</td>\n",
       "      <td>1987</td>\n",
       "      <td>0.0</td>\n",
       "      <td>98074</td>\n",
       "      <td>47.6168</td>\n",
       "      <td>-122.045</td>\n",
       "      <td>1800</td>\n",
       "      <td>7503</td>\n",
       "    </tr>\n",
       "  </tbody>\n",
       "</table>\n",
       "<p>5 rows × 21 columns</p>\n",
       "</div>"
      ],
      "text/plain": [
       "           id        date     price  bedrooms  bathrooms  sqft_living  \\\n",
       "0  7129300520  10/13/2014  221900.0         3       1.00         1180   \n",
       "1  6414100192   12/9/2014  538000.0         3       2.25         2570   \n",
       "2  5631500400   2/25/2015  180000.0         2       1.00          770   \n",
       "3  2487200875   12/9/2014  604000.0         4       3.00         1960   \n",
       "4  1954400510   2/18/2015  510000.0         3       2.00         1680   \n",
       "\n",
       "   sqft_lot  floors  waterfront  view     ...      grade  sqft_above  \\\n",
       "0      5650     1.0         NaN   0.0     ...          7        1180   \n",
       "1      7242     2.0         0.0   0.0     ...          7        2170   \n",
       "2     10000     1.0         0.0   0.0     ...          6         770   \n",
       "3      5000     1.0         0.0   0.0     ...          7        1050   \n",
       "4      8080     1.0         0.0   0.0     ...          8        1680   \n",
       "\n",
       "   sqft_basement yr_built  yr_renovated  zipcode      lat     long  \\\n",
       "0            0.0     1955           0.0    98178  47.5112 -122.257   \n",
       "1          400.0     1951        1991.0    98125  47.7210 -122.319   \n",
       "2            0.0     1933           NaN    98028  47.7379 -122.233   \n",
       "3          910.0     1965           0.0    98136  47.5208 -122.393   \n",
       "4            0.0     1987           0.0    98074  47.6168 -122.045   \n",
       "\n",
       "   sqft_living15  sqft_lot15  \n",
       "0           1340        5650  \n",
       "1           1690        7639  \n",
       "2           2720        8062  \n",
       "3           1360        5000  \n",
       "4           1800        7503  \n",
       "\n",
       "[5 rows x 21 columns]"
      ]
     },
     "execution_count": 2,
     "metadata": {},
     "output_type": "execute_result"
    }
   ],
   "source": [
    "#Import data \n",
    "df = pd.read_csv('kc_house_data.csv')\n",
    "df.head()\n"
   ]
  },
  {
   "cell_type": "markdown",
   "metadata": {},
   "source": [
    "The data consists of 20 variable columns and an index. There are 21596 entries. Since n far exceeds p (the number of variables in the set) we should have no power issues.\n",
    "\n",
    "- sqft_basement is float, but contains place holders for unknown data. Explore further below for decision to be made. \n",
    "- waterfront appears to be bool, but to have missing values; left for further exploration below\n",
    "- view appears to be bool but to also have some missing values; left for further analysis below\n",
    "- year data is interval; further analysis to determine how feature will be used for modeling\n",
    "- zipcode and location data will be removed from the main dataset for now and returned to later... there are too many cities and zipcodes to use as a categorical set of predictors in the model. However, location data could be used to access other demographic data and zipcodes can be used grossly to divide the county into 4 segments (East, West, North, South) if time permits. "
   ]
  },
  {
   "cell_type": "markdown",
   "metadata": {},
   "source": [
    "## Data Clean-up"
   ]
  },
  {
   "cell_type": "code",
   "execution_count": 3,
   "metadata": {
    "scrolled": true
   },
   "outputs": [
    {
     "data": {
      "text/plain": [
       "Index(['id', 'date', 'price', 'bedrooms', 'bathrooms', 'sqft_living',\n",
       "       'sqft_lot', 'floors', 'waterfront', 'view', 'condition', 'grade',\n",
       "       'sqft_above', 'sqft_basement', 'yr_built', 'yr_renovated', 'zipcode',\n",
       "       'lat', 'long', 'sqft_living15', 'sqft_lot15'],\n",
       "      dtype='object')"
      ]
     },
     "execution_count": 3,
     "metadata": {},
     "output_type": "execute_result"
    }
   ],
   "source": [
    "# Column headings stripped of white spaces and made lower case for easier processing\n",
    "df.columns.str.lower().str.strip()"
   ]
  },
  {
   "cell_type": "markdown",
   "metadata": {},
   "source": [
    "## Location Data\n",
    "\n",
    "### QUESTION: How can the location data be best used to predict house price? \n",
    "- Does distance from the most desirable residential area predict house value?\n",
    "- what can the zipcodes tell us about the average price for houses in an area?"
   ]
  },
  {
   "cell_type": "code",
   "execution_count": 4,
   "metadata": {
    "scrolled": true
   },
   "outputs": [
    {
     "data": {
      "text/plain": [
       "-122.23100000000001"
      ]
     },
     "execution_count": 4,
     "metadata": {},
     "output_type": "execute_result"
    }
   ],
   "source": [
    "df.lat.median()\n",
    "df.long.median()"
   ]
  },
  {
   "cell_type": "code",
   "execution_count": 5,
   "metadata": {},
   "outputs": [],
   "source": [
    "df.zipcode.astype(int);\n",
    "df.zipcode = df['zipcode'].astype(str);"
   ]
  },
  {
   "cell_type": "code",
   "execution_count": 6,
   "metadata": {
    "scrolled": true
   },
   "outputs": [
    {
     "data": {
      "text/plain": [
       "234284.0"
      ]
     },
     "execution_count": 6,
     "metadata": {},
     "output_type": "execute_result"
    }
   ],
   "source": [
    "zips_df = df.groupby(['zipcode']).mean()\n",
    "zips_df.reset_index(level=0, inplace=True)\n",
    "zips_df.price.min().round()"
   ]
  },
  {
   "cell_type": "code",
   "execution_count": 7,
   "metadata": {
    "scrolled": true
   },
   "outputs": [
    {
     "data": {
      "text/html": [
       "<div>\n",
       "<style scoped>\n",
       "    .dataframe tbody tr th:only-of-type {\n",
       "        vertical-align: middle;\n",
       "    }\n",
       "\n",
       "    .dataframe tbody tr th {\n",
       "        vertical-align: top;\n",
       "    }\n",
       "\n",
       "    .dataframe thead th {\n",
       "        text-align: right;\n",
       "    }\n",
       "</style>\n",
       "<table border=\"1\" class=\"dataframe\">\n",
       "  <thead>\n",
       "    <tr style=\"text-align: right;\">\n",
       "      <th></th>\n",
       "      <th>zipcode</th>\n",
       "      <th>id</th>\n",
       "      <th>price</th>\n",
       "      <th>bedrooms</th>\n",
       "      <th>bathrooms</th>\n",
       "      <th>sqft_living</th>\n",
       "      <th>sqft_lot</th>\n",
       "      <th>floors</th>\n",
       "      <th>waterfront</th>\n",
       "      <th>view</th>\n",
       "      <th>condition</th>\n",
       "      <th>grade</th>\n",
       "      <th>sqft_above</th>\n",
       "      <th>yr_built</th>\n",
       "      <th>yr_renovated</th>\n",
       "      <th>lat</th>\n",
       "      <th>long</th>\n",
       "      <th>sqft_living15</th>\n",
       "      <th>sqft_lot15</th>\n",
       "    </tr>\n",
       "  </thead>\n",
       "  <tbody>\n",
       "    <tr>\n",
       "      <th>0</th>\n",
       "      <td>98001</td>\n",
       "      <td>4.651274e+09</td>\n",
       "      <td>2.811949e+05</td>\n",
       "      <td>3.393352</td>\n",
       "      <td>2.011773</td>\n",
       "      <td>1903.783934</td>\n",
       "      <td>14967.002770</td>\n",
       "      <td>1.430748</td>\n",
       "      <td>0.000000</td>\n",
       "      <td>0.094708</td>\n",
       "      <td>3.335180</td>\n",
       "      <td>7.296399</td>\n",
       "      <td>1723.756233</td>\n",
       "      <td>1980.867036</td>\n",
       "      <td>28.038732</td>\n",
       "      <td>47.309106</td>\n",
       "      <td>-122.270704</td>\n",
       "      <td>1830.099723</td>\n",
       "      <td>11218.875346</td>\n",
       "    </tr>\n",
       "    <tr>\n",
       "      <th>1</th>\n",
       "      <td>98002</td>\n",
       "      <td>4.850894e+09</td>\n",
       "      <td>2.342840e+05</td>\n",
       "      <td>3.326633</td>\n",
       "      <td>1.839196</td>\n",
       "      <td>1627.743719</td>\n",
       "      <td>7517.633166</td>\n",
       "      <td>1.334171</td>\n",
       "      <td>0.000000</td>\n",
       "      <td>0.010050</td>\n",
       "      <td>3.743719</td>\n",
       "      <td>6.693467</td>\n",
       "      <td>1522.537688</td>\n",
       "      <td>1967.773869</td>\n",
       "      <td>60.212121</td>\n",
       "      <td>47.308780</td>\n",
       "      <td>-122.213357</td>\n",
       "      <td>1479.030151</td>\n",
       "      <td>7585.482412</td>\n",
       "    </tr>\n",
       "    <tr>\n",
       "      <th>2</th>\n",
       "      <td>98003</td>\n",
       "      <td>4.674182e+09</td>\n",
       "      <td>2.941113e+05</td>\n",
       "      <td>3.357143</td>\n",
       "      <td>2.047321</td>\n",
       "      <td>1928.882143</td>\n",
       "      <td>10603.096429</td>\n",
       "      <td>1.310714</td>\n",
       "      <td>0.000000</td>\n",
       "      <td>0.214286</td>\n",
       "      <td>3.371429</td>\n",
       "      <td>7.542857</td>\n",
       "      <td>1663.550000</td>\n",
       "      <td>1976.885714</td>\n",
       "      <td>16.641667</td>\n",
       "      <td>47.315741</td>\n",
       "      <td>-122.310054</td>\n",
       "      <td>1876.196429</td>\n",
       "      <td>9746.178571</td>\n",
       "    </tr>\n",
       "    <tr>\n",
       "      <th>3</th>\n",
       "      <td>98004</td>\n",
       "      <td>4.394237e+09</td>\n",
       "      <td>1.356524e+06</td>\n",
       "      <td>3.854890</td>\n",
       "      <td>2.527603</td>\n",
       "      <td>2909.022082</td>\n",
       "      <td>13104.220820</td>\n",
       "      <td>1.432177</td>\n",
       "      <td>0.003534</td>\n",
       "      <td>0.306962</td>\n",
       "      <td>3.495268</td>\n",
       "      <td>8.687697</td>\n",
       "      <td>2419.842271</td>\n",
       "      <td>1971.470032</td>\n",
       "      <td>213.759542</td>\n",
       "      <td>47.616183</td>\n",
       "      <td>-122.205189</td>\n",
       "      <td>2674.700315</td>\n",
       "      <td>12805.022082</td>\n",
       "    </tr>\n",
       "    <tr>\n",
       "      <th>4</th>\n",
       "      <td>98005</td>\n",
       "      <td>4.961872e+09</td>\n",
       "      <td>8.102897e+05</td>\n",
       "      <td>3.851190</td>\n",
       "      <td>2.424107</td>\n",
       "      <td>2656.803571</td>\n",
       "      <td>19928.785714</td>\n",
       "      <td>1.279762</td>\n",
       "      <td>0.000000</td>\n",
       "      <td>0.095238</td>\n",
       "      <td>3.696429</td>\n",
       "      <td>8.488095</td>\n",
       "      <td>2160.196429</td>\n",
       "      <td>1969.744048</td>\n",
       "      <td>57.985507</td>\n",
       "      <td>47.611532</td>\n",
       "      <td>-122.167268</td>\n",
       "      <td>2567.863095</td>\n",
       "      <td>18367.773810</td>\n",
       "    </tr>\n",
       "    <tr>\n",
       "      <th>5</th>\n",
       "      <td>98006</td>\n",
       "      <td>4.621241e+09</td>\n",
       "      <td>8.599386e+05</td>\n",
       "      <td>3.841365</td>\n",
       "      <td>2.555723</td>\n",
       "      <td>2888.295181</td>\n",
       "      <td>13383.435743</td>\n",
       "      <td>1.459839</td>\n",
       "      <td>0.009132</td>\n",
       "      <td>0.631791</td>\n",
       "      <td>3.658635</td>\n",
       "      <td>8.795181</td>\n",
       "      <td>2300.383534</td>\n",
       "      <td>1978.720884</td>\n",
       "      <td>82.798054</td>\n",
       "      <td>47.558022</td>\n",
       "      <td>-122.146839</td>\n",
       "      <td>2785.612450</td>\n",
       "      <td>12159.959839</td>\n",
       "    </tr>\n",
       "    <tr>\n",
       "      <th>6</th>\n",
       "      <td>98007</td>\n",
       "      <td>4.450672e+09</td>\n",
       "      <td>6.172540e+05</td>\n",
       "      <td>3.815603</td>\n",
       "      <td>2.173759</td>\n",
       "      <td>2182.056738</td>\n",
       "      <td>10662.702128</td>\n",
       "      <td>1.411348</td>\n",
       "      <td>0.000000</td>\n",
       "      <td>0.028369</td>\n",
       "      <td>3.631206</td>\n",
       "      <td>7.964539</td>\n",
       "      <td>1885.673759</td>\n",
       "      <td>1971.070922</td>\n",
       "      <td>51.767241</td>\n",
       "      <td>47.610522</td>\n",
       "      <td>-122.142078</td>\n",
       "      <td>2124.822695</td>\n",
       "      <td>9579.900709</td>\n",
       "    </tr>\n",
       "    <tr>\n",
       "      <th>7</th>\n",
       "      <td>98008</td>\n",
       "      <td>4.594706e+09</td>\n",
       "      <td>6.456282e+05</td>\n",
       "      <td>3.734982</td>\n",
       "      <td>2.088339</td>\n",
       "      <td>2133.445230</td>\n",
       "      <td>10188.448763</td>\n",
       "      <td>1.181979</td>\n",
       "      <td>0.035156</td>\n",
       "      <td>0.477032</td>\n",
       "      <td>3.667845</td>\n",
       "      <td>7.653710</td>\n",
       "      <td>1713.088339</td>\n",
       "      <td>1966.325088</td>\n",
       "      <td>59.139241</td>\n",
       "      <td>47.613312</td>\n",
       "      <td>-122.115834</td>\n",
       "      <td>2021.130742</td>\n",
       "      <td>9494.996466</td>\n",
       "    </tr>\n",
       "    <tr>\n",
       "      <th>8</th>\n",
       "      <td>98010</td>\n",
       "      <td>3.879195e+09</td>\n",
       "      <td>4.236660e+05</td>\n",
       "      <td>3.290000</td>\n",
       "      <td>2.027500</td>\n",
       "      <td>2137.590000</td>\n",
       "      <td>55465.300000</td>\n",
       "      <td>1.480000</td>\n",
       "      <td>0.000000</td>\n",
       "      <td>0.100000</td>\n",
       "      <td>3.530000</td>\n",
       "      <td>7.400000</td>\n",
       "      <td>2000.340000</td>\n",
       "      <td>1979.180000</td>\n",
       "      <td>241.914634</td>\n",
       "      <td>47.333210</td>\n",
       "      <td>-121.999470</td>\n",
       "      <td>2008.760000</td>\n",
       "      <td>47830.270000</td>\n",
       "    </tr>\n",
       "    <tr>\n",
       "      <th>9</th>\n",
       "      <td>98011</td>\n",
       "      <td>4.284961e+09</td>\n",
       "      <td>4.903771e+05</td>\n",
       "      <td>3.548718</td>\n",
       "      <td>2.278205</td>\n",
       "      <td>2253.097436</td>\n",
       "      <td>11314.138462</td>\n",
       "      <td>1.502564</td>\n",
       "      <td>0.000000</td>\n",
       "      <td>0.061856</td>\n",
       "      <td>3.220513</td>\n",
       "      <td>7.774359</td>\n",
       "      <td>1954.558974</td>\n",
       "      <td>1982.148718</td>\n",
       "      <td>49.861635</td>\n",
       "      <td>47.755192</td>\n",
       "      <td>-122.201174</td>\n",
       "      <td>2248.076923</td>\n",
       "      <td>9512.087179</td>\n",
       "    </tr>\n",
       "    <tr>\n",
       "      <th>10</th>\n",
       "      <td>98014</td>\n",
       "      <td>4.240656e+09</td>\n",
       "      <td>4.556171e+05</td>\n",
       "      <td>3.000000</td>\n",
       "      <td>2.048387</td>\n",
       "      <td>2117.967742</td>\n",
       "      <td>96902.862903</td>\n",
       "      <td>1.504032</td>\n",
       "      <td>0.000000</td>\n",
       "      <td>0.185484</td>\n",
       "      <td>3.153226</td>\n",
       "      <td>7.387097</td>\n",
       "      <td>1983.532258</td>\n",
       "      <td>1980.927419</td>\n",
       "      <td>38.757282</td>\n",
       "      <td>47.671488</td>\n",
       "      <td>-121.848532</td>\n",
       "      <td>1929.016129</td>\n",
       "      <td>77979.620968</td>\n",
       "    </tr>\n",
       "    <tr>\n",
       "      <th>11</th>\n",
       "      <td>98019</td>\n",
       "      <td>3.137918e+09</td>\n",
       "      <td>4.248151e+05</td>\n",
       "      <td>3.363158</td>\n",
       "      <td>2.290789</td>\n",
       "      <td>2171.557895</td>\n",
       "      <td>39838.384211</td>\n",
       "      <td>1.721053</td>\n",
       "      <td>0.000000</td>\n",
       "      <td>0.021053</td>\n",
       "      <td>3.073684</td>\n",
       "      <td>7.510526</td>\n",
       "      <td>2036.242105</td>\n",
       "      <td>1991.642105</td>\n",
       "      <td>55.006897</td>\n",
       "      <td>47.737096</td>\n",
       "      <td>-121.954832</td>\n",
       "      <td>2103.721053</td>\n",
       "      <td>37016.510526</td>\n",
       "    </tr>\n",
       "    <tr>\n",
       "      <th>12</th>\n",
       "      <td>98022</td>\n",
       "      <td>4.014550e+09</td>\n",
       "      <td>3.167424e+05</td>\n",
       "      <td>3.158798</td>\n",
       "      <td>1.918455</td>\n",
       "      <td>1837.313305</td>\n",
       "      <td>74233.914163</td>\n",
       "      <td>1.324034</td>\n",
       "      <td>0.000000</td>\n",
       "      <td>0.633621</td>\n",
       "      <td>3.733906</td>\n",
       "      <td>7.175966</td>\n",
       "      <td>1727.828326</td>\n",
       "      <td>1971.540773</td>\n",
       "      <td>136.210526</td>\n",
       "      <td>47.211226</td>\n",
       "      <td>-121.995549</td>\n",
       "      <td>1801.545064</td>\n",
       "      <td>51488.420601</td>\n",
       "    </tr>\n",
       "    <tr>\n",
       "      <th>13</th>\n",
       "      <td>98023</td>\n",
       "      <td>5.496060e+09</td>\n",
       "      <td>2.867428e+05</td>\n",
       "      <td>3.424850</td>\n",
       "      <td>2.061623</td>\n",
       "      <td>1989.729459</td>\n",
       "      <td>10470.208417</td>\n",
       "      <td>1.323647</td>\n",
       "      <td>0.006711</td>\n",
       "      <td>0.119192</td>\n",
       "      <td>3.386774</td>\n",
       "      <td>7.575150</td>\n",
       "      <td>1705.773547</td>\n",
       "      <td>1978.809619</td>\n",
       "      <td>23.932530</td>\n",
       "      <td>47.308622</td>\n",
       "      <td>-122.364283</td>\n",
       "      <td>1963.731463</td>\n",
       "      <td>9735.404810</td>\n",
       "    </tr>\n",
       "    <tr>\n",
       "      <th>14</th>\n",
       "      <td>98024</td>\n",
       "      <td>2.802981e+09</td>\n",
       "      <td>5.861209e+05</td>\n",
       "      <td>3.337500</td>\n",
       "      <td>2.190625</td>\n",
       "      <td>2363.062500</td>\n",
       "      <td>102735.437500</td>\n",
       "      <td>1.425000</td>\n",
       "      <td>0.000000</td>\n",
       "      <td>0.240506</td>\n",
       "      <td>3.262500</td>\n",
       "      <td>7.612500</td>\n",
       "      <td>2202.000000</td>\n",
       "      <td>1971.462500</td>\n",
       "      <td>124.625000</td>\n",
       "      <td>47.558764</td>\n",
       "      <td>-121.905475</td>\n",
       "      <td>2134.575000</td>\n",
       "      <td>79484.362500</td>\n",
       "    </tr>\n",
       "    <tr>\n",
       "      <th>15</th>\n",
       "      <td>98027</td>\n",
       "      <td>5.321885e+09</td>\n",
       "      <td>6.170540e+05</td>\n",
       "      <td>3.536408</td>\n",
       "      <td>2.480583</td>\n",
       "      <td>2514.609223</td>\n",
       "      <td>32856.990291</td>\n",
       "      <td>1.671117</td>\n",
       "      <td>0.005376</td>\n",
       "      <td>0.156479</td>\n",
       "      <td>3.385922</td>\n",
       "      <td>8.189320</td>\n",
       "      <td>2114.099515</td>\n",
       "      <td>1987.199029</td>\n",
       "      <td>17.595308</td>\n",
       "      <td>47.521687</td>\n",
       "      <td>-122.042847</td>\n",
       "      <td>2375.677184</td>\n",
       "      <td>28435.560680</td>\n",
       "    </tr>\n",
       "    <tr>\n",
       "      <th>16</th>\n",
       "      <td>98028</td>\n",
       "      <td>4.415451e+09</td>\n",
       "      <td>4.624889e+05</td>\n",
       "      <td>3.480565</td>\n",
       "      <td>2.143110</td>\n",
       "      <td>2122.724382</td>\n",
       "      <td>11935.374558</td>\n",
       "      <td>1.420495</td>\n",
       "      <td>0.003922</td>\n",
       "      <td>0.163121</td>\n",
       "      <td>3.300353</td>\n",
       "      <td>7.611307</td>\n",
       "      <td>1781.098940</td>\n",
       "      <td>1977.830389</td>\n",
       "      <td>25.411017</td>\n",
       "      <td>47.755138</td>\n",
       "      <td>-122.246028</td>\n",
       "      <td>2091.300353</td>\n",
       "      <td>10119.706714</td>\n",
       "    </tr>\n",
       "    <tr>\n",
       "      <th>17</th>\n",
       "      <td>98029</td>\n",
       "      <td>4.318199e+09</td>\n",
       "      <td>6.126427e+05</td>\n",
       "      <td>3.426791</td>\n",
       "      <td>2.583333</td>\n",
       "      <td>2284.205607</td>\n",
       "      <td>8679.679128</td>\n",
       "      <td>1.950156</td>\n",
       "      <td>0.000000</td>\n",
       "      <td>0.080997</td>\n",
       "      <td>3.140187</td>\n",
       "      <td>8.395639</td>\n",
       "      <td>2172.554517</td>\n",
       "      <td>1997.619938</td>\n",
       "      <td>0.000000</td>\n",
       "      <td>47.559557</td>\n",
       "      <td>-122.005657</td>\n",
       "      <td>2214.267913</td>\n",
       "      <td>7045.389408</td>\n",
       "    </tr>\n",
       "    <tr>\n",
       "      <th>18</th>\n",
       "      <td>98030</td>\n",
       "      <td>4.360349e+09</td>\n",
       "      <td>2.961880e+05</td>\n",
       "      <td>3.500000</td>\n",
       "      <td>2.162109</td>\n",
       "      <td>1962.500000</td>\n",
       "      <td>11778.734375</td>\n",
       "      <td>1.503906</td>\n",
       "      <td>0.000000</td>\n",
       "      <td>0.023438</td>\n",
       "      <td>3.289062</td>\n",
       "      <td>7.414062</td>\n",
       "      <td>1804.062500</td>\n",
       "      <td>1984.875000</td>\n",
       "      <td>9.674877</td>\n",
       "      <td>47.369027</td>\n",
       "      <td>-122.190418</td>\n",
       "      <td>1919.421875</td>\n",
       "      <td>8576.906250</td>\n",
       "    </tr>\n",
       "    <tr>\n",
       "      <th>19</th>\n",
       "      <td>98031</td>\n",
       "      <td>4.475569e+09</td>\n",
       "      <td>3.003404e+05</td>\n",
       "      <td>3.498168</td>\n",
       "      <td>2.155678</td>\n",
       "      <td>1929.692308</td>\n",
       "      <td>12106.772894</td>\n",
       "      <td>1.443223</td>\n",
       "      <td>0.000000</td>\n",
       "      <td>0.007326</td>\n",
       "      <td>3.501832</td>\n",
       "      <td>7.377289</td>\n",
       "      <td>1704.527473</td>\n",
       "      <td>1981.802198</td>\n",
       "      <td>9.045045</td>\n",
       "      <td>47.403765</td>\n",
       "      <td>-122.189304</td>\n",
       "      <td>1908.853480</td>\n",
       "      <td>8482.197802</td>\n",
       "    </tr>\n",
       "    <tr>\n",
       "      <th>20</th>\n",
       "      <td>98032</td>\n",
       "      <td>4.548921e+09</td>\n",
       "      <td>2.512962e+05</td>\n",
       "      <td>3.392000</td>\n",
       "      <td>1.708000</td>\n",
       "      <td>1738.048000</td>\n",
       "      <td>10379.760000</td>\n",
       "      <td>1.220000</td>\n",
       "      <td>0.000000</td>\n",
       "      <td>0.080645</td>\n",
       "      <td>3.632000</td>\n",
       "      <td>7.144000</td>\n",
       "      <td>1434.320000</td>\n",
       "      <td>1965.464000</td>\n",
       "      <td>36.678899</td>\n",
       "      <td>47.373556</td>\n",
       "      <td>-122.278848</td>\n",
       "      <td>1668.632000</td>\n",
       "      <td>9271.928000</td>\n",
       "    </tr>\n",
       "    <tr>\n",
       "      <th>21</th>\n",
       "      <td>98033</td>\n",
       "      <td>3.674670e+09</td>\n",
       "      <td>8.039908e+05</td>\n",
       "      <td>3.560185</td>\n",
       "      <td>2.333912</td>\n",
       "      <td>2381.340278</td>\n",
       "      <td>10493.812500</td>\n",
       "      <td>1.496528</td>\n",
       "      <td>0.007979</td>\n",
       "      <td>0.298611</td>\n",
       "      <td>3.486111</td>\n",
       "      <td>8.076389</td>\n",
       "      <td>2060.863426</td>\n",
       "      <td>1978.405093</td>\n",
       "      <td>99.780556</td>\n",
       "      <td>47.680088</td>\n",
       "      <td>-122.187660</td>\n",
       "      <td>2209.587963</td>\n",
       "      <td>9918.287037</td>\n",
       "    </tr>\n",
       "    <tr>\n",
       "      <th>22</th>\n",
       "      <td>98034</td>\n",
       "      <td>4.347598e+09</td>\n",
       "      <td>5.217400e+05</td>\n",
       "      <td>3.467890</td>\n",
       "      <td>2.123394</td>\n",
       "      <td>1978.656881</td>\n",
       "      <td>9774.192661</td>\n",
       "      <td>1.316514</td>\n",
       "      <td>0.010331</td>\n",
       "      <td>0.201835</td>\n",
       "      <td>3.379817</td>\n",
       "      <td>7.506422</td>\n",
       "      <td>1661.302752</td>\n",
       "      <td>1976.344954</td>\n",
       "      <td>13.440181</td>\n",
       "      <td>47.720688</td>\n",
       "      <td>-122.207374</td>\n",
       "      <td>1913.715596</td>\n",
       "      <td>8495.502752</td>\n",
       "    </tr>\n",
       "    <tr>\n",
       "      <th>23</th>\n",
       "      <td>98038</td>\n",
       "      <td>4.129010e+09</td>\n",
       "      <td>3.670915e+05</td>\n",
       "      <td>3.441426</td>\n",
       "      <td>2.375637</td>\n",
       "      <td>2148.288625</td>\n",
       "      <td>25419.129032</td>\n",
       "      <td>1.740238</td>\n",
       "      <td>0.000000</td>\n",
       "      <td>0.027304</td>\n",
       "      <td>3.193548</td>\n",
       "      <td>7.597623</td>\n",
       "      <td>2055.334465</td>\n",
       "      <td>1995.799660</td>\n",
       "      <td>36.444219</td>\n",
       "      <td>47.370640</td>\n",
       "      <td>-122.031754</td>\n",
       "      <td>2118.945671</td>\n",
       "      <td>20079.164686</td>\n",
       "    </tr>\n",
       "    <tr>\n",
       "      <th>24</th>\n",
       "      <td>98039</td>\n",
       "      <td>3.755708e+09</td>\n",
       "      <td>2.161300e+06</td>\n",
       "      <td>4.060000</td>\n",
       "      <td>3.200000</td>\n",
       "      <td>3800.900000</td>\n",
       "      <td>17403.560000</td>\n",
       "      <td>1.560000</td>\n",
       "      <td>0.022222</td>\n",
       "      <td>0.440000</td>\n",
       "      <td>3.480000</td>\n",
       "      <td>9.560000</td>\n",
       "      <td>3290.900000</td>\n",
       "      <td>1972.520000</td>\n",
       "      <td>448.400000</td>\n",
       "      <td>47.625840</td>\n",
       "      <td>-122.233540</td>\n",
       "      <td>3132.200000</td>\n",
       "      <td>17291.100000</td>\n",
       "    </tr>\n",
       "    <tr>\n",
       "      <th>25</th>\n",
       "      <td>98040</td>\n",
       "      <td>4.199323e+09</td>\n",
       "      <td>1.194874e+06</td>\n",
       "      <td>4.028369</td>\n",
       "      <td>2.716312</td>\n",
       "      <td>3106.833333</td>\n",
       "      <td>13704.464539</td>\n",
       "      <td>1.505319</td>\n",
       "      <td>0.044715</td>\n",
       "      <td>0.774194</td>\n",
       "      <td>3.787234</td>\n",
       "      <td>8.960993</td>\n",
       "      <td>2474.329787</td>\n",
       "      <td>1971.471631</td>\n",
       "      <td>240.269710</td>\n",
       "      <td>47.559846</td>\n",
       "      <td>-122.225592</td>\n",
       "      <td>2898.744681</td>\n",
       "      <td>12801.283688</td>\n",
       "    </tr>\n",
       "    <tr>\n",
       "      <th>26</th>\n",
       "      <td>98042</td>\n",
       "      <td>4.758698e+09</td>\n",
       "      <td>3.115803e+05</td>\n",
       "      <td>3.404022</td>\n",
       "      <td>2.126143</td>\n",
       "      <td>1981.696527</td>\n",
       "      <td>18974.215722</td>\n",
       "      <td>1.497258</td>\n",
       "      <td>0.000000</td>\n",
       "      <td>0.033028</td>\n",
       "      <td>3.519196</td>\n",
       "      <td>7.424132</td>\n",
       "      <td>1846.285192</td>\n",
       "      <td>1986.383912</td>\n",
       "      <td>47.821739</td>\n",
       "      <td>47.365699</td>\n",
       "      <td>-122.115388</td>\n",
       "      <td>1955.588665</td>\n",
       "      <td>14713.089580</td>\n",
       "    </tr>\n",
       "    <tr>\n",
       "      <th>27</th>\n",
       "      <td>98045</td>\n",
       "      <td>5.017308e+09</td>\n",
       "      <td>4.402323e+05</td>\n",
       "      <td>3.240909</td>\n",
       "      <td>2.120455</td>\n",
       "      <td>2070.477273</td>\n",
       "      <td>50194.313636</td>\n",
       "      <td>1.504545</td>\n",
       "      <td>0.000000</td>\n",
       "      <td>0.268182</td>\n",
       "      <td>3.154545</td>\n",
       "      <td>7.636364</td>\n",
       "      <td>1943.750000</td>\n",
       "      <td>1985.868182</td>\n",
       "      <td>52.452632</td>\n",
       "      <td>47.473095</td>\n",
       "      <td>-121.759082</td>\n",
       "      <td>1917.977273</td>\n",
       "      <td>32227.118182</td>\n",
       "    </tr>\n",
       "    <tr>\n",
       "      <th>28</th>\n",
       "      <td>98052</td>\n",
       "      <td>4.992922e+09</td>\n",
       "      <td>6.452442e+05</td>\n",
       "      <td>3.616725</td>\n",
       "      <td>2.364547</td>\n",
       "      <td>2363.655052</td>\n",
       "      <td>11122.012195</td>\n",
       "      <td>1.581010</td>\n",
       "      <td>0.005929</td>\n",
       "      <td>0.064572</td>\n",
       "      <td>3.322300</td>\n",
       "      <td>8.191638</td>\n",
       "      <td>2102.313589</td>\n",
       "      <td>1985.353659</td>\n",
       "      <td>34.231263</td>\n",
       "      <td>47.680538</td>\n",
       "      <td>-122.119277</td>\n",
       "      <td>2333.726481</td>\n",
       "      <td>10065.177700</td>\n",
       "    </tr>\n",
       "    <tr>\n",
       "      <th>29</th>\n",
       "      <td>98053</td>\n",
       "      <td>5.740435e+09</td>\n",
       "      <td>6.772150e+05</td>\n",
       "      <td>3.225806</td>\n",
       "      <td>2.460298</td>\n",
       "      <td>2620.238213</td>\n",
       "      <td>35596.585608</td>\n",
       "      <td>1.658809</td>\n",
       "      <td>0.000000</td>\n",
       "      <td>0.067164</td>\n",
       "      <td>3.057072</td>\n",
       "      <td>8.280397</td>\n",
       "      <td>2541.851117</td>\n",
       "      <td>1997.980149</td>\n",
       "      <td>24.036145</td>\n",
       "      <td>47.680032</td>\n",
       "      <td>-122.022871</td>\n",
       "      <td>2471.377171</td>\n",
       "      <td>29095.898263</td>\n",
       "    </tr>\n",
       "    <tr>\n",
       "      <th>...</th>\n",
       "      <td>...</td>\n",
       "      <td>...</td>\n",
       "      <td>...</td>\n",
       "      <td>...</td>\n",
       "      <td>...</td>\n",
       "      <td>...</td>\n",
       "      <td>...</td>\n",
       "      <td>...</td>\n",
       "      <td>...</td>\n",
       "      <td>...</td>\n",
       "      <td>...</td>\n",
       "      <td>...</td>\n",
       "      <td>...</td>\n",
       "      <td>...</td>\n",
       "      <td>...</td>\n",
       "      <td>...</td>\n",
       "      <td>...</td>\n",
       "      <td>...</td>\n",
       "      <td>...</td>\n",
       "    </tr>\n",
       "    <tr>\n",
       "      <th>40</th>\n",
       "      <td>98092</td>\n",
       "      <td>3.864030e+09</td>\n",
       "      <td>3.349211e+05</td>\n",
       "      <td>3.501425</td>\n",
       "      <td>2.240028</td>\n",
       "      <td>2195.660969</td>\n",
       "      <td>32494.638177</td>\n",
       "      <td>1.603989</td>\n",
       "      <td>0.000000</td>\n",
       "      <td>0.137536</td>\n",
       "      <td>3.319088</td>\n",
       "      <td>7.851852</td>\n",
       "      <td>2064.863248</td>\n",
       "      <td>1989.384615</td>\n",
       "      <td>33.932432</td>\n",
       "      <td>47.301836</td>\n",
       "      <td>-122.167997</td>\n",
       "      <td>2130.022792</td>\n",
       "      <td>30211.031339</td>\n",
       "    </tr>\n",
       "    <tr>\n",
       "      <th>41</th>\n",
       "      <td>98102</td>\n",
       "      <td>4.102040e+09</td>\n",
       "      <td>8.996077e+05</td>\n",
       "      <td>3.250000</td>\n",
       "      <td>2.283654</td>\n",
       "      <td>2151.048077</td>\n",
       "      <td>3605.153846</td>\n",
       "      <td>1.990385</td>\n",
       "      <td>0.000000</td>\n",
       "      <td>0.153846</td>\n",
       "      <td>3.375000</td>\n",
       "      <td>8.298077</td>\n",
       "      <td>1752.442308</td>\n",
       "      <td>1952.163462</td>\n",
       "      <td>103.428571</td>\n",
       "      <td>47.634591</td>\n",
       "      <td>-122.322250</td>\n",
       "      <td>1954.471154</td>\n",
       "      <td>3303.500000</td>\n",
       "    </tr>\n",
       "    <tr>\n",
       "      <th>42</th>\n",
       "      <td>98103</td>\n",
       "      <td>4.704497e+09</td>\n",
       "      <td>5.850488e+05</td>\n",
       "      <td>3.059801</td>\n",
       "      <td>1.934801</td>\n",
       "      <td>1650.830565</td>\n",
       "      <td>3482.445183</td>\n",
       "      <td>1.827243</td>\n",
       "      <td>0.000000</td>\n",
       "      <td>0.144759</td>\n",
       "      <td>3.483389</td>\n",
       "      <td>7.410299</td>\n",
       "      <td>1405.044850</td>\n",
       "      <td>1953.089701</td>\n",
       "      <td>103.841667</td>\n",
       "      <td>47.676024</td>\n",
       "      <td>-122.344130</td>\n",
       "      <td>1524.152824</td>\n",
       "      <td>3472.323920</td>\n",
       "    </tr>\n",
       "    <tr>\n",
       "      <th>43</th>\n",
       "      <td>98105</td>\n",
       "      <td>5.282206e+09</td>\n",
       "      <td>8.632289e+05</td>\n",
       "      <td>3.580786</td>\n",
       "      <td>2.159389</td>\n",
       "      <td>2150.576419</td>\n",
       "      <td>5121.165939</td>\n",
       "      <td>1.591703</td>\n",
       "      <td>0.014218</td>\n",
       "      <td>0.305677</td>\n",
       "      <td>3.628821</td>\n",
       "      <td>7.838428</td>\n",
       "      <td>1693.458515</td>\n",
       "      <td>1940.406114</td>\n",
       "      <td>148.851064</td>\n",
       "      <td>47.665067</td>\n",
       "      <td>-122.294341</td>\n",
       "      <td>2028.624454</td>\n",
       "      <td>4939.017467</td>\n",
       "    </tr>\n",
       "    <tr>\n",
       "      <th>44</th>\n",
       "      <td>98106</td>\n",
       "      <td>4.412164e+09</td>\n",
       "      <td>3.195814e+05</td>\n",
       "      <td>3.101493</td>\n",
       "      <td>1.804478</td>\n",
       "      <td>1487.883582</td>\n",
       "      <td>5554.238806</td>\n",
       "      <td>1.382090</td>\n",
       "      <td>0.000000</td>\n",
       "      <td>0.074627</td>\n",
       "      <td>3.247761</td>\n",
       "      <td>6.865672</td>\n",
       "      <td>1188.271642</td>\n",
       "      <td>1965.537313</td>\n",
       "      <td>98.159091</td>\n",
       "      <td>47.536196</td>\n",
       "      <td>-122.356809</td>\n",
       "      <td>1361.229851</td>\n",
       "      <td>5120.137313</td>\n",
       "    </tr>\n",
       "    <tr>\n",
       "      <th>45</th>\n",
       "      <td>98107</td>\n",
       "      <td>3.289489e+09</td>\n",
       "      <td>5.791098e+05</td>\n",
       "      <td>2.996241</td>\n",
       "      <td>2.045113</td>\n",
       "      <td>1579.548872</td>\n",
       "      <td>3194.368421</td>\n",
       "      <td>1.834586</td>\n",
       "      <td>0.000000</td>\n",
       "      <td>0.210526</td>\n",
       "      <td>3.421053</td>\n",
       "      <td>7.424812</td>\n",
       "      <td>1317.218045</td>\n",
       "      <td>1959.631579</td>\n",
       "      <td>113.173913</td>\n",
       "      <td>47.669790</td>\n",
       "      <td>-122.375571</td>\n",
       "      <td>1520.150376</td>\n",
       "      <td>3438.857143</td>\n",
       "    </tr>\n",
       "    <tr>\n",
       "      <th>46</th>\n",
       "      <td>98108</td>\n",
       "      <td>4.952066e+09</td>\n",
       "      <td>3.556785e+05</td>\n",
       "      <td>3.204301</td>\n",
       "      <td>1.931452</td>\n",
       "      <td>1704.623656</td>\n",
       "      <td>5204.844086</td>\n",
       "      <td>1.376344</td>\n",
       "      <td>0.000000</td>\n",
       "      <td>0.096774</td>\n",
       "      <td>3.403226</td>\n",
       "      <td>7.016129</td>\n",
       "      <td>1300.268817</td>\n",
       "      <td>1957.908602</td>\n",
       "      <td>26.786667</td>\n",
       "      <td>47.549769</td>\n",
       "      <td>-122.306871</td>\n",
       "      <td>1571.129032</td>\n",
       "      <td>5045.983871</td>\n",
       "    </tr>\n",
       "    <tr>\n",
       "      <th>47</th>\n",
       "      <td>98109</td>\n",
       "      <td>3.458919e+09</td>\n",
       "      <td>8.800778e+05</td>\n",
       "      <td>3.192661</td>\n",
       "      <td>2.158257</td>\n",
       "      <td>2054.779817</td>\n",
       "      <td>3621.082569</td>\n",
       "      <td>1.729358</td>\n",
       "      <td>0.000000</td>\n",
       "      <td>0.477064</td>\n",
       "      <td>3.477064</td>\n",
       "      <td>8.018349</td>\n",
       "      <td>1637.348624</td>\n",
       "      <td>1944.027523</td>\n",
       "      <td>159.488636</td>\n",
       "      <td>47.635602</td>\n",
       "      <td>-122.350092</td>\n",
       "      <td>1928.348624</td>\n",
       "      <td>3605.724771</td>\n",
       "    </tr>\n",
       "    <tr>\n",
       "      <th>48</th>\n",
       "      <td>98112</td>\n",
       "      <td>4.826282e+09</td>\n",
       "      <td>1.096239e+06</td>\n",
       "      <td>3.509294</td>\n",
       "      <td>2.373606</td>\n",
       "      <td>2498.743494</td>\n",
       "      <td>4990.431227</td>\n",
       "      <td>1.806691</td>\n",
       "      <td>0.000000</td>\n",
       "      <td>0.149254</td>\n",
       "      <td>3.516729</td>\n",
       "      <td>8.442379</td>\n",
       "      <td>2005.695167</td>\n",
       "      <td>1944.449814</td>\n",
       "      <td>185.809735</td>\n",
       "      <td>47.629619</td>\n",
       "      <td>-122.297866</td>\n",
       "      <td>2280.078067</td>\n",
       "      <td>4898.159851</td>\n",
       "    </tr>\n",
       "    <tr>\n",
       "      <th>49</th>\n",
       "      <td>98115</td>\n",
       "      <td>5.457962e+09</td>\n",
       "      <td>6.199441e+05</td>\n",
       "      <td>3.204117</td>\n",
       "      <td>1.866638</td>\n",
       "      <td>1835.295026</td>\n",
       "      <td>5444.144082</td>\n",
       "      <td>1.420240</td>\n",
       "      <td>0.001942</td>\n",
       "      <td>0.201724</td>\n",
       "      <td>3.512864</td>\n",
       "      <td>7.361921</td>\n",
       "      <td>1406.921098</td>\n",
       "      <td>1948.926244</td>\n",
       "      <td>137.428879</td>\n",
       "      <td>47.685484</td>\n",
       "      <td>-122.301789</td>\n",
       "      <td>1691.614065</td>\n",
       "      <td>5286.475129</td>\n",
       "    </tr>\n",
       "    <tr>\n",
       "      <th>50</th>\n",
       "      <td>98116</td>\n",
       "      <td>5.207714e+09</td>\n",
       "      <td>6.186951e+05</td>\n",
       "      <td>3.066667</td>\n",
       "      <td>1.987121</td>\n",
       "      <td>1853.369697</td>\n",
       "      <td>4979.421212</td>\n",
       "      <td>1.528788</td>\n",
       "      <td>0.003356</td>\n",
       "      <td>0.618902</td>\n",
       "      <td>3.512121</td>\n",
       "      <td>7.569697</td>\n",
       "      <td>1419.642424</td>\n",
       "      <td>1953.675758</td>\n",
       "      <td>185.278571</td>\n",
       "      <td>47.573905</td>\n",
       "      <td>-122.393621</td>\n",
       "      <td>1693.481818</td>\n",
       "      <td>4924.793939</td>\n",
       "    </tr>\n",
       "    <tr>\n",
       "      <th>51</th>\n",
       "      <td>98117</td>\n",
       "      <td>4.262478e+09</td>\n",
       "      <td>5.768348e+05</td>\n",
       "      <td>3.019892</td>\n",
       "      <td>1.812839</td>\n",
       "      <td>1692.039783</td>\n",
       "      <td>4636.388788</td>\n",
       "      <td>1.457505</td>\n",
       "      <td>0.000000</td>\n",
       "      <td>0.182640</td>\n",
       "      <td>3.538879</td>\n",
       "      <td>7.282098</td>\n",
       "      <td>1333.359855</td>\n",
       "      <td>1948.271248</td>\n",
       "      <td>101.929047</td>\n",
       "      <td>47.686889</td>\n",
       "      <td>-122.378590</td>\n",
       "      <td>1540.000000</td>\n",
       "      <td>4639.746835</td>\n",
       "    </tr>\n",
       "    <tr>\n",
       "      <th>52</th>\n",
       "      <td>98118</td>\n",
       "      <td>4.283876e+09</td>\n",
       "      <td>4.180194e+05</td>\n",
       "      <td>3.132150</td>\n",
       "      <td>1.765286</td>\n",
       "      <td>1689.303748</td>\n",
       "      <td>5780.185404</td>\n",
       "      <td>1.343195</td>\n",
       "      <td>0.006711</td>\n",
       "      <td>0.255446</td>\n",
       "      <td>3.351085</td>\n",
       "      <td>6.976331</td>\n",
       "      <td>1331.015779</td>\n",
       "      <td>1950.305720</td>\n",
       "      <td>108.626478</td>\n",
       "      <td>47.543839</td>\n",
       "      <td>-122.275596</td>\n",
       "      <td>1612.420118</td>\n",
       "      <td>5548.424063</td>\n",
       "    </tr>\n",
       "    <tr>\n",
       "      <th>53</th>\n",
       "      <td>98119</td>\n",
       "      <td>4.303215e+09</td>\n",
       "      <td>8.497148e+05</td>\n",
       "      <td>3.260870</td>\n",
       "      <td>2.224185</td>\n",
       "      <td>2005.614130</td>\n",
       "      <td>3615.217391</td>\n",
       "      <td>1.793478</td>\n",
       "      <td>0.000000</td>\n",
       "      <td>0.548913</td>\n",
       "      <td>3.375000</td>\n",
       "      <td>8.021739</td>\n",
       "      <td>1589.961957</td>\n",
       "      <td>1947.619565</td>\n",
       "      <td>214.469799</td>\n",
       "      <td>47.640034</td>\n",
       "      <td>-122.366918</td>\n",
       "      <td>1865.434783</td>\n",
       "      <td>3727.494565</td>\n",
       "    </tr>\n",
       "    <tr>\n",
       "      <th>54</th>\n",
       "      <td>98122</td>\n",
       "      <td>6.367750e+09</td>\n",
       "      <td>6.345581e+05</td>\n",
       "      <td>3.165517</td>\n",
       "      <td>2.064655</td>\n",
       "      <td>1785.048276</td>\n",
       "      <td>3508.624138</td>\n",
       "      <td>1.775862</td>\n",
       "      <td>0.000000</td>\n",
       "      <td>0.211073</td>\n",
       "      <td>3.306897</td>\n",
       "      <td>7.744828</td>\n",
       "      <td>1492.668966</td>\n",
       "      <td>1949.834483</td>\n",
       "      <td>242.692641</td>\n",
       "      <td>47.610160</td>\n",
       "      <td>-122.299772</td>\n",
       "      <td>1710.820690</td>\n",
       "      <td>3561.982759</td>\n",
       "    </tr>\n",
       "    <tr>\n",
       "      <th>55</th>\n",
       "      <td>98125</td>\n",
       "      <td>4.921598e+09</td>\n",
       "      <td>4.699288e+05</td>\n",
       "      <td>3.210269</td>\n",
       "      <td>1.819682</td>\n",
       "      <td>1746.278729</td>\n",
       "      <td>7687.704156</td>\n",
       "      <td>1.372861</td>\n",
       "      <td>0.016438</td>\n",
       "      <td>0.257985</td>\n",
       "      <td>3.342298</td>\n",
       "      <td>7.176039</td>\n",
       "      <td>1421.987775</td>\n",
       "      <td>1959.853301</td>\n",
       "      <td>114.469697</td>\n",
       "      <td>47.717030</td>\n",
       "      <td>-122.301235</td>\n",
       "      <td>1657.574572</td>\n",
       "      <td>7317.430318</td>\n",
       "    </tr>\n",
       "    <tr>\n",
       "      <th>56</th>\n",
       "      <td>98126</td>\n",
       "      <td>5.268250e+09</td>\n",
       "      <td>4.247346e+05</td>\n",
       "      <td>2.836158</td>\n",
       "      <td>1.678672</td>\n",
       "      <td>1543.596045</td>\n",
       "      <td>5114.610169</td>\n",
       "      <td>1.350282</td>\n",
       "      <td>0.000000</td>\n",
       "      <td>0.379603</td>\n",
       "      <td>3.466102</td>\n",
       "      <td>7.031073</td>\n",
       "      <td>1249.019774</td>\n",
       "      <td>1952.725989</td>\n",
       "      <td>112.375439</td>\n",
       "      <td>47.544584</td>\n",
       "      <td>-122.375274</td>\n",
       "      <td>1413.033898</td>\n",
       "      <td>5027.406780</td>\n",
       "    </tr>\n",
       "    <tr>\n",
       "      <th>57</th>\n",
       "      <td>98133</td>\n",
       "      <td>4.659696e+09</td>\n",
       "      <td>3.870116e+05</td>\n",
       "      <td>3.137931</td>\n",
       "      <td>1.735294</td>\n",
       "      <td>1614.762677</td>\n",
       "      <td>7094.606491</td>\n",
       "      <td>1.397566</td>\n",
       "      <td>0.000000</td>\n",
       "      <td>0.016260</td>\n",
       "      <td>3.541582</td>\n",
       "      <td>7.123732</td>\n",
       "      <td>1361.752535</td>\n",
       "      <td>1963.259635</td>\n",
       "      <td>68.782716</td>\n",
       "      <td>47.735655</td>\n",
       "      <td>-122.343797</td>\n",
       "      <td>1555.073022</td>\n",
       "      <td>6730.511156</td>\n",
       "    </tr>\n",
       "    <tr>\n",
       "      <th>58</th>\n",
       "      <td>98136</td>\n",
       "      <td>4.751358e+09</td>\n",
       "      <td>5.517685e+05</td>\n",
       "      <td>2.931559</td>\n",
       "      <td>1.865019</td>\n",
       "      <td>1726.828897</td>\n",
       "      <td>5982.319392</td>\n",
       "      <td>1.475285</td>\n",
       "      <td>0.021277</td>\n",
       "      <td>0.626923</td>\n",
       "      <td>3.395437</td>\n",
       "      <td>7.403042</td>\n",
       "      <td>1352.129278</td>\n",
       "      <td>1956.703422</td>\n",
       "      <td>180.040724</td>\n",
       "      <td>47.538807</td>\n",
       "      <td>-122.388205</td>\n",
       "      <td>1672.167300</td>\n",
       "      <td>5753.380228</td>\n",
       "    </tr>\n",
       "    <tr>\n",
       "      <th>59</th>\n",
       "      <td>98144</td>\n",
       "      <td>4.317893e+09</td>\n",
       "      <td>5.947065e+05</td>\n",
       "      <td>3.218659</td>\n",
       "      <td>2.048105</td>\n",
       "      <td>1912.110787</td>\n",
       "      <td>4093.623907</td>\n",
       "      <td>1.654519</td>\n",
       "      <td>0.006601</td>\n",
       "      <td>0.428152</td>\n",
       "      <td>3.504373</td>\n",
       "      <td>7.454810</td>\n",
       "      <td>1476.620991</td>\n",
       "      <td>1955.346939</td>\n",
       "      <td>156.914966</td>\n",
       "      <td>47.586293</td>\n",
       "      <td>-122.298411</td>\n",
       "      <td>1757.717201</td>\n",
       "      <td>3923.988338</td>\n",
       "    </tr>\n",
       "    <tr>\n",
       "      <th>60</th>\n",
       "      <td>98146</td>\n",
       "      <td>4.607855e+09</td>\n",
       "      <td>3.594963e+05</td>\n",
       "      <td>3.125000</td>\n",
       "      <td>1.633681</td>\n",
       "      <td>1621.451389</td>\n",
       "      <td>9020.243056</td>\n",
       "      <td>1.222222</td>\n",
       "      <td>0.023166</td>\n",
       "      <td>0.404181</td>\n",
       "      <td>3.291667</td>\n",
       "      <td>6.822917</td>\n",
       "      <td>1374.854167</td>\n",
       "      <td>1955.791667</td>\n",
       "      <td>166.752101</td>\n",
       "      <td>47.502055</td>\n",
       "      <td>-122.358306</td>\n",
       "      <td>1535.375000</td>\n",
       "      <td>8263.704861</td>\n",
       "    </tr>\n",
       "    <tr>\n",
       "      <th>61</th>\n",
       "      <td>98148</td>\n",
       "      <td>5.579459e+09</td>\n",
       "      <td>2.849086e+05</td>\n",
       "      <td>3.140351</td>\n",
       "      <td>1.793860</td>\n",
       "      <td>1610.526316</td>\n",
       "      <td>8960.719298</td>\n",
       "      <td>1.210526</td>\n",
       "      <td>0.000000</td>\n",
       "      <td>0.000000</td>\n",
       "      <td>3.070175</td>\n",
       "      <td>6.947368</td>\n",
       "      <td>1486.491228</td>\n",
       "      <td>1963.263158</td>\n",
       "      <td>41.957447</td>\n",
       "      <td>47.437437</td>\n",
       "      <td>-122.329316</td>\n",
       "      <td>1611.228070</td>\n",
       "      <td>8812.385965</td>\n",
       "    </tr>\n",
       "    <tr>\n",
       "      <th>62</th>\n",
       "      <td>98155</td>\n",
       "      <td>4.748531e+09</td>\n",
       "      <td>4.237369e+05</td>\n",
       "      <td>3.322870</td>\n",
       "      <td>1.815022</td>\n",
       "      <td>1786.614350</td>\n",
       "      <td>10284.674888</td>\n",
       "      <td>1.218610</td>\n",
       "      <td>0.012563</td>\n",
       "      <td>0.170787</td>\n",
       "      <td>3.473094</td>\n",
       "      <td>7.170404</td>\n",
       "      <td>1478.071749</td>\n",
       "      <td>1961.136771</td>\n",
       "      <td>85.178977</td>\n",
       "      <td>47.754863</td>\n",
       "      <td>-122.303540</td>\n",
       "      <td>1716.710762</td>\n",
       "      <td>9812.881166</td>\n",
       "    </tr>\n",
       "    <tr>\n",
       "      <th>63</th>\n",
       "      <td>98166</td>\n",
       "      <td>4.043990e+09</td>\n",
       "      <td>4.643224e+05</td>\n",
       "      <td>3.377953</td>\n",
       "      <td>1.911417</td>\n",
       "      <td>2067.905512</td>\n",
       "      <td>13609.397638</td>\n",
       "      <td>1.250000</td>\n",
       "      <td>0.063927</td>\n",
       "      <td>0.667984</td>\n",
       "      <td>3.574803</td>\n",
       "      <td>7.393701</td>\n",
       "      <td>1705.472441</td>\n",
       "      <td>1957.622047</td>\n",
       "      <td>209.185714</td>\n",
       "      <td>47.455212</td>\n",
       "      <td>-122.350303</td>\n",
       "      <td>1886.850394</td>\n",
       "      <td>12694.322835</td>\n",
       "    </tr>\n",
       "    <tr>\n",
       "      <th>64</th>\n",
       "      <td>98168</td>\n",
       "      <td>3.204785e+09</td>\n",
       "      <td>2.403284e+05</td>\n",
       "      <td>2.996283</td>\n",
       "      <td>1.433086</td>\n",
       "      <td>1468.624535</td>\n",
       "      <td>11269.843866</td>\n",
       "      <td>1.159851</td>\n",
       "      <td>0.000000</td>\n",
       "      <td>0.014925</td>\n",
       "      <td>3.245353</td>\n",
       "      <td>6.509294</td>\n",
       "      <td>1234.089219</td>\n",
       "      <td>1952.721190</td>\n",
       "      <td>53.475336</td>\n",
       "      <td>47.489700</td>\n",
       "      <td>-122.307877</td>\n",
       "      <td>1471.680297</td>\n",
       "      <td>9744.022305</td>\n",
       "    </tr>\n",
       "    <tr>\n",
       "      <th>65</th>\n",
       "      <td>98177</td>\n",
       "      <td>3.934998e+09</td>\n",
       "      <td>6.764194e+05</td>\n",
       "      <td>3.396078</td>\n",
       "      <td>2.100000</td>\n",
       "      <td>2323.333333</td>\n",
       "      <td>11904.403922</td>\n",
       "      <td>1.276471</td>\n",
       "      <td>0.004255</td>\n",
       "      <td>0.814961</td>\n",
       "      <td>3.494118</td>\n",
       "      <td>7.976471</td>\n",
       "      <td>1836.713725</td>\n",
       "      <td>1960.843137</td>\n",
       "      <td>155.892683</td>\n",
       "      <td>47.742381</td>\n",
       "      <td>-122.369282</td>\n",
       "      <td>2186.196078</td>\n",
       "      <td>11690.239216</td>\n",
       "    </tr>\n",
       "    <tr>\n",
       "      <th>66</th>\n",
       "      <td>98178</td>\n",
       "      <td>4.291467e+09</td>\n",
       "      <td>3.106128e+05</td>\n",
       "      <td>3.305344</td>\n",
       "      <td>1.731870</td>\n",
       "      <td>1729.351145</td>\n",
       "      <td>8309.122137</td>\n",
       "      <td>1.185115</td>\n",
       "      <td>0.038627</td>\n",
       "      <td>0.534351</td>\n",
       "      <td>3.320611</td>\n",
       "      <td>6.816794</td>\n",
       "      <td>1325.992366</td>\n",
       "      <td>1955.232824</td>\n",
       "      <td>85.322275</td>\n",
       "      <td>47.499118</td>\n",
       "      <td>-122.246969</td>\n",
       "      <td>1648.816794</td>\n",
       "      <td>8149.641221</td>\n",
       "    </tr>\n",
       "    <tr>\n",
       "      <th>67</th>\n",
       "      <td>98188</td>\n",
       "      <td>4.481851e+09</td>\n",
       "      <td>2.890783e+05</td>\n",
       "      <td>3.433824</td>\n",
       "      <td>1.863971</td>\n",
       "      <td>1802.772059</td>\n",
       "      <td>10126.080882</td>\n",
       "      <td>1.227941</td>\n",
       "      <td>0.000000</td>\n",
       "      <td>0.147059</td>\n",
       "      <td>3.330882</td>\n",
       "      <td>7.036765</td>\n",
       "      <td>1492.154412</td>\n",
       "      <td>1965.507353</td>\n",
       "      <td>53.178571</td>\n",
       "      <td>47.447310</td>\n",
       "      <td>-122.280993</td>\n",
       "      <td>1636.279412</td>\n",
       "      <td>9752.801471</td>\n",
       "    </tr>\n",
       "    <tr>\n",
       "      <th>68</th>\n",
       "      <td>98198</td>\n",
       "      <td>5.152291e+09</td>\n",
       "      <td>3.028967e+05</td>\n",
       "      <td>3.182143</td>\n",
       "      <td>1.788393</td>\n",
       "      <td>1745.360714</td>\n",
       "      <td>10525.978571</td>\n",
       "      <td>1.225000</td>\n",
       "      <td>0.037190</td>\n",
       "      <td>0.597122</td>\n",
       "      <td>3.442857</td>\n",
       "      <td>7.103571</td>\n",
       "      <td>1476.253571</td>\n",
       "      <td>1966.735714</td>\n",
       "      <td>75.991525</td>\n",
       "      <td>47.390788</td>\n",
       "      <td>-122.315743</td>\n",
       "      <td>1711.571429</td>\n",
       "      <td>9478.596429</td>\n",
       "    </tr>\n",
       "    <tr>\n",
       "      <th>69</th>\n",
       "      <td>98199</td>\n",
       "      <td>3.410035e+09</td>\n",
       "      <td>7.921879e+05</td>\n",
       "      <td>3.211356</td>\n",
       "      <td>2.167981</td>\n",
       "      <td>2161.798107</td>\n",
       "      <td>5436.283912</td>\n",
       "      <td>1.468454</td>\n",
       "      <td>0.003623</td>\n",
       "      <td>0.553797</td>\n",
       "      <td>3.507886</td>\n",
       "      <td>8.012618</td>\n",
       "      <td>1591.924290</td>\n",
       "      <td>1956.526814</td>\n",
       "      <td>178.863813</td>\n",
       "      <td>47.648098</td>\n",
       "      <td>-122.398461</td>\n",
       "      <td>1991.167192</td>\n",
       "      <td>5283.735016</td>\n",
       "    </tr>\n",
       "  </tbody>\n",
       "</table>\n",
       "<p>70 rows × 19 columns</p>\n",
       "</div>"
      ],
      "text/plain": [
       "   zipcode            id         price  bedrooms  bathrooms  sqft_living  \\\n",
       "0    98001  4.651274e+09  2.811949e+05  3.393352   2.011773  1903.783934   \n",
       "1    98002  4.850894e+09  2.342840e+05  3.326633   1.839196  1627.743719   \n",
       "2    98003  4.674182e+09  2.941113e+05  3.357143   2.047321  1928.882143   \n",
       "3    98004  4.394237e+09  1.356524e+06  3.854890   2.527603  2909.022082   \n",
       "4    98005  4.961872e+09  8.102897e+05  3.851190   2.424107  2656.803571   \n",
       "5    98006  4.621241e+09  8.599386e+05  3.841365   2.555723  2888.295181   \n",
       "6    98007  4.450672e+09  6.172540e+05  3.815603   2.173759  2182.056738   \n",
       "7    98008  4.594706e+09  6.456282e+05  3.734982   2.088339  2133.445230   \n",
       "8    98010  3.879195e+09  4.236660e+05  3.290000   2.027500  2137.590000   \n",
       "9    98011  4.284961e+09  4.903771e+05  3.548718   2.278205  2253.097436   \n",
       "10   98014  4.240656e+09  4.556171e+05  3.000000   2.048387  2117.967742   \n",
       "11   98019  3.137918e+09  4.248151e+05  3.363158   2.290789  2171.557895   \n",
       "12   98022  4.014550e+09  3.167424e+05  3.158798   1.918455  1837.313305   \n",
       "13   98023  5.496060e+09  2.867428e+05  3.424850   2.061623  1989.729459   \n",
       "14   98024  2.802981e+09  5.861209e+05  3.337500   2.190625  2363.062500   \n",
       "15   98027  5.321885e+09  6.170540e+05  3.536408   2.480583  2514.609223   \n",
       "16   98028  4.415451e+09  4.624889e+05  3.480565   2.143110  2122.724382   \n",
       "17   98029  4.318199e+09  6.126427e+05  3.426791   2.583333  2284.205607   \n",
       "18   98030  4.360349e+09  2.961880e+05  3.500000   2.162109  1962.500000   \n",
       "19   98031  4.475569e+09  3.003404e+05  3.498168   2.155678  1929.692308   \n",
       "20   98032  4.548921e+09  2.512962e+05  3.392000   1.708000  1738.048000   \n",
       "21   98033  3.674670e+09  8.039908e+05  3.560185   2.333912  2381.340278   \n",
       "22   98034  4.347598e+09  5.217400e+05  3.467890   2.123394  1978.656881   \n",
       "23   98038  4.129010e+09  3.670915e+05  3.441426   2.375637  2148.288625   \n",
       "24   98039  3.755708e+09  2.161300e+06  4.060000   3.200000  3800.900000   \n",
       "25   98040  4.199323e+09  1.194874e+06  4.028369   2.716312  3106.833333   \n",
       "26   98042  4.758698e+09  3.115803e+05  3.404022   2.126143  1981.696527   \n",
       "27   98045  5.017308e+09  4.402323e+05  3.240909   2.120455  2070.477273   \n",
       "28   98052  4.992922e+09  6.452442e+05  3.616725   2.364547  2363.655052   \n",
       "29   98053  5.740435e+09  6.772150e+05  3.225806   2.460298  2620.238213   \n",
       "..     ...           ...           ...       ...        ...          ...   \n",
       "40   98092  3.864030e+09  3.349211e+05  3.501425   2.240028  2195.660969   \n",
       "41   98102  4.102040e+09  8.996077e+05  3.250000   2.283654  2151.048077   \n",
       "42   98103  4.704497e+09  5.850488e+05  3.059801   1.934801  1650.830565   \n",
       "43   98105  5.282206e+09  8.632289e+05  3.580786   2.159389  2150.576419   \n",
       "44   98106  4.412164e+09  3.195814e+05  3.101493   1.804478  1487.883582   \n",
       "45   98107  3.289489e+09  5.791098e+05  2.996241   2.045113  1579.548872   \n",
       "46   98108  4.952066e+09  3.556785e+05  3.204301   1.931452  1704.623656   \n",
       "47   98109  3.458919e+09  8.800778e+05  3.192661   2.158257  2054.779817   \n",
       "48   98112  4.826282e+09  1.096239e+06  3.509294   2.373606  2498.743494   \n",
       "49   98115  5.457962e+09  6.199441e+05  3.204117   1.866638  1835.295026   \n",
       "50   98116  5.207714e+09  6.186951e+05  3.066667   1.987121  1853.369697   \n",
       "51   98117  4.262478e+09  5.768348e+05  3.019892   1.812839  1692.039783   \n",
       "52   98118  4.283876e+09  4.180194e+05  3.132150   1.765286  1689.303748   \n",
       "53   98119  4.303215e+09  8.497148e+05  3.260870   2.224185  2005.614130   \n",
       "54   98122  6.367750e+09  6.345581e+05  3.165517   2.064655  1785.048276   \n",
       "55   98125  4.921598e+09  4.699288e+05  3.210269   1.819682  1746.278729   \n",
       "56   98126  5.268250e+09  4.247346e+05  2.836158   1.678672  1543.596045   \n",
       "57   98133  4.659696e+09  3.870116e+05  3.137931   1.735294  1614.762677   \n",
       "58   98136  4.751358e+09  5.517685e+05  2.931559   1.865019  1726.828897   \n",
       "59   98144  4.317893e+09  5.947065e+05  3.218659   2.048105  1912.110787   \n",
       "60   98146  4.607855e+09  3.594963e+05  3.125000   1.633681  1621.451389   \n",
       "61   98148  5.579459e+09  2.849086e+05  3.140351   1.793860  1610.526316   \n",
       "62   98155  4.748531e+09  4.237369e+05  3.322870   1.815022  1786.614350   \n",
       "63   98166  4.043990e+09  4.643224e+05  3.377953   1.911417  2067.905512   \n",
       "64   98168  3.204785e+09  2.403284e+05  2.996283   1.433086  1468.624535   \n",
       "65   98177  3.934998e+09  6.764194e+05  3.396078   2.100000  2323.333333   \n",
       "66   98178  4.291467e+09  3.106128e+05  3.305344   1.731870  1729.351145   \n",
       "67   98188  4.481851e+09  2.890783e+05  3.433824   1.863971  1802.772059   \n",
       "68   98198  5.152291e+09  3.028967e+05  3.182143   1.788393  1745.360714   \n",
       "69   98199  3.410035e+09  7.921879e+05  3.211356   2.167981  2161.798107   \n",
       "\n",
       "         sqft_lot    floors  waterfront      view  condition     grade  \\\n",
       "0    14967.002770  1.430748    0.000000  0.094708   3.335180  7.296399   \n",
       "1     7517.633166  1.334171    0.000000  0.010050   3.743719  6.693467   \n",
       "2    10603.096429  1.310714    0.000000  0.214286   3.371429  7.542857   \n",
       "3    13104.220820  1.432177    0.003534  0.306962   3.495268  8.687697   \n",
       "4    19928.785714  1.279762    0.000000  0.095238   3.696429  8.488095   \n",
       "5    13383.435743  1.459839    0.009132  0.631791   3.658635  8.795181   \n",
       "6    10662.702128  1.411348    0.000000  0.028369   3.631206  7.964539   \n",
       "7    10188.448763  1.181979    0.035156  0.477032   3.667845  7.653710   \n",
       "8    55465.300000  1.480000    0.000000  0.100000   3.530000  7.400000   \n",
       "9    11314.138462  1.502564    0.000000  0.061856   3.220513  7.774359   \n",
       "10   96902.862903  1.504032    0.000000  0.185484   3.153226  7.387097   \n",
       "11   39838.384211  1.721053    0.000000  0.021053   3.073684  7.510526   \n",
       "12   74233.914163  1.324034    0.000000  0.633621   3.733906  7.175966   \n",
       "13   10470.208417  1.323647    0.006711  0.119192   3.386774  7.575150   \n",
       "14  102735.437500  1.425000    0.000000  0.240506   3.262500  7.612500   \n",
       "15   32856.990291  1.671117    0.005376  0.156479   3.385922  8.189320   \n",
       "16   11935.374558  1.420495    0.003922  0.163121   3.300353  7.611307   \n",
       "17    8679.679128  1.950156    0.000000  0.080997   3.140187  8.395639   \n",
       "18   11778.734375  1.503906    0.000000  0.023438   3.289062  7.414062   \n",
       "19   12106.772894  1.443223    0.000000  0.007326   3.501832  7.377289   \n",
       "20   10379.760000  1.220000    0.000000  0.080645   3.632000  7.144000   \n",
       "21   10493.812500  1.496528    0.007979  0.298611   3.486111  8.076389   \n",
       "22    9774.192661  1.316514    0.010331  0.201835   3.379817  7.506422   \n",
       "23   25419.129032  1.740238    0.000000  0.027304   3.193548  7.597623   \n",
       "24   17403.560000  1.560000    0.022222  0.440000   3.480000  9.560000   \n",
       "25   13704.464539  1.505319    0.044715  0.774194   3.787234  8.960993   \n",
       "26   18974.215722  1.497258    0.000000  0.033028   3.519196  7.424132   \n",
       "27   50194.313636  1.504545    0.000000  0.268182   3.154545  7.636364   \n",
       "28   11122.012195  1.581010    0.005929  0.064572   3.322300  8.191638   \n",
       "29   35596.585608  1.658809    0.000000  0.067164   3.057072  8.280397   \n",
       "..            ...       ...         ...       ...        ...       ...   \n",
       "40   32494.638177  1.603989    0.000000  0.137536   3.319088  7.851852   \n",
       "41    3605.153846  1.990385    0.000000  0.153846   3.375000  8.298077   \n",
       "42    3482.445183  1.827243    0.000000  0.144759   3.483389  7.410299   \n",
       "43    5121.165939  1.591703    0.014218  0.305677   3.628821  7.838428   \n",
       "44    5554.238806  1.382090    0.000000  0.074627   3.247761  6.865672   \n",
       "45    3194.368421  1.834586    0.000000  0.210526   3.421053  7.424812   \n",
       "46    5204.844086  1.376344    0.000000  0.096774   3.403226  7.016129   \n",
       "47    3621.082569  1.729358    0.000000  0.477064   3.477064  8.018349   \n",
       "48    4990.431227  1.806691    0.000000  0.149254   3.516729  8.442379   \n",
       "49    5444.144082  1.420240    0.001942  0.201724   3.512864  7.361921   \n",
       "50    4979.421212  1.528788    0.003356  0.618902   3.512121  7.569697   \n",
       "51    4636.388788  1.457505    0.000000  0.182640   3.538879  7.282098   \n",
       "52    5780.185404  1.343195    0.006711  0.255446   3.351085  6.976331   \n",
       "53    3615.217391  1.793478    0.000000  0.548913   3.375000  8.021739   \n",
       "54    3508.624138  1.775862    0.000000  0.211073   3.306897  7.744828   \n",
       "55    7687.704156  1.372861    0.016438  0.257985   3.342298  7.176039   \n",
       "56    5114.610169  1.350282    0.000000  0.379603   3.466102  7.031073   \n",
       "57    7094.606491  1.397566    0.000000  0.016260   3.541582  7.123732   \n",
       "58    5982.319392  1.475285    0.021277  0.626923   3.395437  7.403042   \n",
       "59    4093.623907  1.654519    0.006601  0.428152   3.504373  7.454810   \n",
       "60    9020.243056  1.222222    0.023166  0.404181   3.291667  6.822917   \n",
       "61    8960.719298  1.210526    0.000000  0.000000   3.070175  6.947368   \n",
       "62   10284.674888  1.218610    0.012563  0.170787   3.473094  7.170404   \n",
       "63   13609.397638  1.250000    0.063927  0.667984   3.574803  7.393701   \n",
       "64   11269.843866  1.159851    0.000000  0.014925   3.245353  6.509294   \n",
       "65   11904.403922  1.276471    0.004255  0.814961   3.494118  7.976471   \n",
       "66    8309.122137  1.185115    0.038627  0.534351   3.320611  6.816794   \n",
       "67   10126.080882  1.227941    0.000000  0.147059   3.330882  7.036765   \n",
       "68   10525.978571  1.225000    0.037190  0.597122   3.442857  7.103571   \n",
       "69    5436.283912  1.468454    0.003623  0.553797   3.507886  8.012618   \n",
       "\n",
       "     sqft_above     yr_built  yr_renovated        lat        long  \\\n",
       "0   1723.756233  1980.867036     28.038732  47.309106 -122.270704   \n",
       "1   1522.537688  1967.773869     60.212121  47.308780 -122.213357   \n",
       "2   1663.550000  1976.885714     16.641667  47.315741 -122.310054   \n",
       "3   2419.842271  1971.470032    213.759542  47.616183 -122.205189   \n",
       "4   2160.196429  1969.744048     57.985507  47.611532 -122.167268   \n",
       "5   2300.383534  1978.720884     82.798054  47.558022 -122.146839   \n",
       "6   1885.673759  1971.070922     51.767241  47.610522 -122.142078   \n",
       "7   1713.088339  1966.325088     59.139241  47.613312 -122.115834   \n",
       "8   2000.340000  1979.180000    241.914634  47.333210 -121.999470   \n",
       "9   1954.558974  1982.148718     49.861635  47.755192 -122.201174   \n",
       "10  1983.532258  1980.927419     38.757282  47.671488 -121.848532   \n",
       "11  2036.242105  1991.642105     55.006897  47.737096 -121.954832   \n",
       "12  1727.828326  1971.540773    136.210526  47.211226 -121.995549   \n",
       "13  1705.773547  1978.809619     23.932530  47.308622 -122.364283   \n",
       "14  2202.000000  1971.462500    124.625000  47.558764 -121.905475   \n",
       "15  2114.099515  1987.199029     17.595308  47.521687 -122.042847   \n",
       "16  1781.098940  1977.830389     25.411017  47.755138 -122.246028   \n",
       "17  2172.554517  1997.619938      0.000000  47.559557 -122.005657   \n",
       "18  1804.062500  1984.875000      9.674877  47.369027 -122.190418   \n",
       "19  1704.527473  1981.802198      9.045045  47.403765 -122.189304   \n",
       "20  1434.320000  1965.464000     36.678899  47.373556 -122.278848   \n",
       "21  2060.863426  1978.405093     99.780556  47.680088 -122.187660   \n",
       "22  1661.302752  1976.344954     13.440181  47.720688 -122.207374   \n",
       "23  2055.334465  1995.799660     36.444219  47.370640 -122.031754   \n",
       "24  3290.900000  1972.520000    448.400000  47.625840 -122.233540   \n",
       "25  2474.329787  1971.471631    240.269710  47.559846 -122.225592   \n",
       "26  1846.285192  1986.383912     47.821739  47.365699 -122.115388   \n",
       "27  1943.750000  1985.868182     52.452632  47.473095 -121.759082   \n",
       "28  2102.313589  1985.353659     34.231263  47.680538 -122.119277   \n",
       "29  2541.851117  1997.980149     24.036145  47.680032 -122.022871   \n",
       "..          ...          ...           ...        ...         ...   \n",
       "40  2064.863248  1989.384615     33.932432  47.301836 -122.167997   \n",
       "41  1752.442308  1952.163462    103.428571  47.634591 -122.322250   \n",
       "42  1405.044850  1953.089701    103.841667  47.676024 -122.344130   \n",
       "43  1693.458515  1940.406114    148.851064  47.665067 -122.294341   \n",
       "44  1188.271642  1965.537313     98.159091  47.536196 -122.356809   \n",
       "45  1317.218045  1959.631579    113.173913  47.669790 -122.375571   \n",
       "46  1300.268817  1957.908602     26.786667  47.549769 -122.306871   \n",
       "47  1637.348624  1944.027523    159.488636  47.635602 -122.350092   \n",
       "48  2005.695167  1944.449814    185.809735  47.629619 -122.297866   \n",
       "49  1406.921098  1948.926244    137.428879  47.685484 -122.301789   \n",
       "50  1419.642424  1953.675758    185.278571  47.573905 -122.393621   \n",
       "51  1333.359855  1948.271248    101.929047  47.686889 -122.378590   \n",
       "52  1331.015779  1950.305720    108.626478  47.543839 -122.275596   \n",
       "53  1589.961957  1947.619565    214.469799  47.640034 -122.366918   \n",
       "54  1492.668966  1949.834483    242.692641  47.610160 -122.299772   \n",
       "55  1421.987775  1959.853301    114.469697  47.717030 -122.301235   \n",
       "56  1249.019774  1952.725989    112.375439  47.544584 -122.375274   \n",
       "57  1361.752535  1963.259635     68.782716  47.735655 -122.343797   \n",
       "58  1352.129278  1956.703422    180.040724  47.538807 -122.388205   \n",
       "59  1476.620991  1955.346939    156.914966  47.586293 -122.298411   \n",
       "60  1374.854167  1955.791667    166.752101  47.502055 -122.358306   \n",
       "61  1486.491228  1963.263158     41.957447  47.437437 -122.329316   \n",
       "62  1478.071749  1961.136771     85.178977  47.754863 -122.303540   \n",
       "63  1705.472441  1957.622047    209.185714  47.455212 -122.350303   \n",
       "64  1234.089219  1952.721190     53.475336  47.489700 -122.307877   \n",
       "65  1836.713725  1960.843137    155.892683  47.742381 -122.369282   \n",
       "66  1325.992366  1955.232824     85.322275  47.499118 -122.246969   \n",
       "67  1492.154412  1965.507353     53.178571  47.447310 -122.280993   \n",
       "68  1476.253571  1966.735714     75.991525  47.390788 -122.315743   \n",
       "69  1591.924290  1956.526814    178.863813  47.648098 -122.398461   \n",
       "\n",
       "    sqft_living15    sqft_lot15  \n",
       "0     1830.099723  11218.875346  \n",
       "1     1479.030151   7585.482412  \n",
       "2     1876.196429   9746.178571  \n",
       "3     2674.700315  12805.022082  \n",
       "4     2567.863095  18367.773810  \n",
       "5     2785.612450  12159.959839  \n",
       "6     2124.822695   9579.900709  \n",
       "7     2021.130742   9494.996466  \n",
       "8     2008.760000  47830.270000  \n",
       "9     2248.076923   9512.087179  \n",
       "10    1929.016129  77979.620968  \n",
       "11    2103.721053  37016.510526  \n",
       "12    1801.545064  51488.420601  \n",
       "13    1963.731463   9735.404810  \n",
       "14    2134.575000  79484.362500  \n",
       "15    2375.677184  28435.560680  \n",
       "16    2091.300353  10119.706714  \n",
       "17    2214.267913   7045.389408  \n",
       "18    1919.421875   8576.906250  \n",
       "19    1908.853480   8482.197802  \n",
       "20    1668.632000   9271.928000  \n",
       "21    2209.587963   9918.287037  \n",
       "22    1913.715596   8495.502752  \n",
       "23    2118.945671  20079.164686  \n",
       "24    3132.200000  17291.100000  \n",
       "25    2898.744681  12801.283688  \n",
       "26    1955.588665  14713.089580  \n",
       "27    1917.977273  32227.118182  \n",
       "28    2333.726481  10065.177700  \n",
       "29    2471.377171  29095.898263  \n",
       "..            ...           ...  \n",
       "40    2130.022792  30211.031339  \n",
       "41    1954.471154   3303.500000  \n",
       "42    1524.152824   3472.323920  \n",
       "43    2028.624454   4939.017467  \n",
       "44    1361.229851   5120.137313  \n",
       "45    1520.150376   3438.857143  \n",
       "46    1571.129032   5045.983871  \n",
       "47    1928.348624   3605.724771  \n",
       "48    2280.078067   4898.159851  \n",
       "49    1691.614065   5286.475129  \n",
       "50    1693.481818   4924.793939  \n",
       "51    1540.000000   4639.746835  \n",
       "52    1612.420118   5548.424063  \n",
       "53    1865.434783   3727.494565  \n",
       "54    1710.820690   3561.982759  \n",
       "55    1657.574572   7317.430318  \n",
       "56    1413.033898   5027.406780  \n",
       "57    1555.073022   6730.511156  \n",
       "58    1672.167300   5753.380228  \n",
       "59    1757.717201   3923.988338  \n",
       "60    1535.375000   8263.704861  \n",
       "61    1611.228070   8812.385965  \n",
       "62    1716.710762   9812.881166  \n",
       "63    1886.850394  12694.322835  \n",
       "64    1471.680297   9744.022305  \n",
       "65    2186.196078  11690.239216  \n",
       "66    1648.816794   8149.641221  \n",
       "67    1636.279412   9752.801471  \n",
       "68    1711.571429   9478.596429  \n",
       "69    1991.167192   5283.735016  \n",
       "\n",
       "[70 rows x 19 columns]"
      ]
     },
     "execution_count": 7,
     "metadata": {},
     "output_type": "execute_result"
    }
   ],
   "source": [
    "zips_df"
   ]
  },
  {
   "cell_type": "code",
   "execution_count": 8,
   "metadata": {},
   "outputs": [],
   "source": [
    "map_zips = folium.Map([47.608013, -122.335167], zoom_start=11)\n",
    "map_zips;"
   ]
  },
  {
   "cell_type": "code",
   "execution_count": 9,
   "metadata": {},
   "outputs": [
    {
     "data": {
      "text/plain": [
       "70"
      ]
     },
     "execution_count": 9,
     "metadata": {},
     "output_type": "execute_result"
    }
   ],
   "source": [
    "# Create lists for folium markers\n",
    "\n",
    "# pairs of latitude and longitude coordinates  \n",
    "locations = zips_df[['lat', 'long']]\n",
    "location_list = locations.values.tolist()\n",
    "len(location_list) "
   ]
  },
  {
   "cell_type": "code",
   "execution_count": 10,
   "metadata": {},
   "outputs": [
    {
     "data": {
      "text/plain": [
       "['98001 $281194',\n",
       " '98002 $234284',\n",
       " '98003 $294111',\n",
       " '98004 $1356523',\n",
       " '98005 $810289']"
      ]
     },
     "execution_count": 10,
     "metadata": {},
     "output_type": "execute_result"
    }
   ],
   "source": [
    "price = zips_df['zipcode'] + \" $\" + zips_df['price'].astype(int).astype(str)\n",
    "price = price.values.tolist()\n",
    "price[0:5]"
   ]
  },
  {
   "cell_type": "code",
   "execution_count": 11,
   "metadata": {
    "scrolled": false
   },
   "outputs": [],
   "source": [
    "folium.Marker([47.608013, -122.335167], popup= \"Seattle\").add_to(map_zips)\n",
    "map_zips;"
   ]
  },
  {
   "cell_type": "code",
   "execution_count": 12,
   "metadata": {
    "scrolled": true
   },
   "outputs": [
    {
     "data": {
      "text/html": [
       "<div style=\"width:100%;\"><div style=\"position:relative;width:100%;height:0;padding-bottom:60%;\"><iframe src=\"data:text/html;charset=utf-8;base64,PCFET0NUWVBFIGh0bWw+CjxoZWFkPiAgICAKICAgIDxtZXRhIGh0dHAtZXF1aXY9ImNvbnRlbnQtdHlwZSIgY29udGVudD0idGV4dC9odG1sOyBjaGFyc2V0PVVURi04IiAvPgogICAgPHNjcmlwdD5MX1BSRUZFUl9DQU5WQVM9ZmFsc2U7IExfTk9fVE9VQ0g9ZmFsc2U7IExfRElTQUJMRV8zRD1mYWxzZTs8L3NjcmlwdD4KICAgIDxzY3JpcHQgc3JjPSJodHRwczovL2Nkbi5qc2RlbGl2ci5uZXQvbnBtL2xlYWZsZXRAMS4yLjAvZGlzdC9sZWFmbGV0LmpzIj48L3NjcmlwdD4KICAgIDxzY3JpcHQgc3JjPSJodHRwczovL2FqYXguZ29vZ2xlYXBpcy5jb20vYWpheC9saWJzL2pxdWVyeS8xLjExLjEvanF1ZXJ5Lm1pbi5qcyI+PC9zY3JpcHQ+CiAgICA8c2NyaXB0IHNyYz0iaHR0cHM6Ly9tYXhjZG4uYm9vdHN0cmFwY2RuLmNvbS9ib290c3RyYXAvMy4yLjAvanMvYm9vdHN0cmFwLm1pbi5qcyI+PC9zY3JpcHQ+CiAgICA8c2NyaXB0IHNyYz0iaHR0cHM6Ly9jZG5qcy5jbG91ZGZsYXJlLmNvbS9hamF4L2xpYnMvTGVhZmxldC5hd2Vzb21lLW1hcmtlcnMvMi4wLjIvbGVhZmxldC5hd2Vzb21lLW1hcmtlcnMuanMiPjwvc2NyaXB0PgogICAgPGxpbmsgcmVsPSJzdHlsZXNoZWV0IiBocmVmPSJodHRwczovL2Nkbi5qc2RlbGl2ci5uZXQvbnBtL2xlYWZsZXRAMS4yLjAvZGlzdC9sZWFmbGV0LmNzcyIvPgogICAgPGxpbmsgcmVsPSJzdHlsZXNoZWV0IiBocmVmPSJodHRwczovL21heGNkbi5ib290c3RyYXBjZG4uY29tL2Jvb3RzdHJhcC8zLjIuMC9jc3MvYm9vdHN0cmFwLm1pbi5jc3MiLz4KICAgIDxsaW5rIHJlbD0ic3R5bGVzaGVldCIgaHJlZj0iaHR0cHM6Ly9tYXhjZG4uYm9vdHN0cmFwY2RuLmNvbS9ib290c3RyYXAvMy4yLjAvY3NzL2Jvb3RzdHJhcC10aGVtZS5taW4uY3NzIi8+CiAgICA8bGluayByZWw9InN0eWxlc2hlZXQiIGhyZWY9Imh0dHBzOi8vbWF4Y2RuLmJvb3RzdHJhcGNkbi5jb20vZm9udC1hd2Vzb21lLzQuNi4zL2Nzcy9mb250LWF3ZXNvbWUubWluLmNzcyIvPgogICAgPGxpbmsgcmVsPSJzdHlsZXNoZWV0IiBocmVmPSJodHRwczovL2NkbmpzLmNsb3VkZmxhcmUuY29tL2FqYXgvbGlicy9MZWFmbGV0LmF3ZXNvbWUtbWFya2Vycy8yLjAuMi9sZWFmbGV0LmF3ZXNvbWUtbWFya2Vycy5jc3MiLz4KICAgIDxsaW5rIHJlbD0ic3R5bGVzaGVldCIgaHJlZj0iaHR0cHM6Ly9yYXdnaXQuY29tL3B5dGhvbi12aXN1YWxpemF0aW9uL2ZvbGl1bS9tYXN0ZXIvZm9saXVtL3RlbXBsYXRlcy9sZWFmbGV0LmF3ZXNvbWUucm90YXRlLmNzcyIvPgogICAgPHN0eWxlPmh0bWwsIGJvZHkge3dpZHRoOiAxMDAlO2hlaWdodDogMTAwJTttYXJnaW46IDA7cGFkZGluZzogMDt9PC9zdHlsZT4KICAgIDxzdHlsZT4jbWFwIHtwb3NpdGlvbjphYnNvbHV0ZTt0b3A6MDtib3R0b206MDtyaWdodDowO2xlZnQ6MDt9PC9zdHlsZT4KICAgIAogICAgPHN0eWxlPiNtYXBfMzcyNWUzNWZmMDQ4NDA1YTgzYmQ4YWI2NjAwNGMwNWIgewogICAgICAgIHBvc2l0aW9uOiByZWxhdGl2ZTsKICAgICAgICB3aWR0aDogMTAwLjAlOwogICAgICAgIGhlaWdodDogMTAwLjAlOwogICAgICAgIGxlZnQ6IDAuMCU7CiAgICAgICAgdG9wOiAwLjAlOwogICAgICAgIH0KICAgIDwvc3R5bGU+CjwvaGVhZD4KPGJvZHk+ICAgIAogICAgCiAgICA8ZGl2IGNsYXNzPSJmb2xpdW0tbWFwIiBpZD0ibWFwXzM3MjVlMzVmZjA0ODQwNWE4M2JkOGFiNjYwMDRjMDViIiA+PC9kaXY+CjwvYm9keT4KPHNjcmlwdD4gICAgCiAgICAKICAgIAogICAgICAgIHZhciBib3VuZHMgPSBudWxsOwogICAgCgogICAgdmFyIG1hcF8zNzI1ZTM1ZmYwNDg0MDVhODNiZDhhYjY2MDA0YzA1YiA9IEwubWFwKAogICAgICAgICdtYXBfMzcyNWUzNWZmMDQ4NDA1YTgzYmQ4YWI2NjAwNGMwNWInLCB7CiAgICAgICAgY2VudGVyOiBbNDcuNjA4MDEzLCAtMTIyLjMzNTE2N10sCiAgICAgICAgem9vbTogMTEsCiAgICAgICAgbWF4Qm91bmRzOiBib3VuZHMsCiAgICAgICAgbGF5ZXJzOiBbXSwKICAgICAgICB3b3JsZENvcHlKdW1wOiBmYWxzZSwKICAgICAgICBjcnM6IEwuQ1JTLkVQU0czODU3LAogICAgICAgIHpvb21Db250cm9sOiB0cnVlLAogICAgICAgIH0pOwoKICAgIAogICAgCiAgICB2YXIgdGlsZV9sYXllcl82MzA1ZjlhMjYxZGM0YjIyYmY2ZDg1Y2MyZGQzOTk2MiA9IEwudGlsZUxheWVyKAogICAgICAgICdodHRwczovL3tzfS50aWxlLm9wZW5zdHJlZXRtYXAub3JnL3t6fS97eH0ve3l9LnBuZycsCiAgICAgICAgewogICAgICAgICJhdHRyaWJ1dGlvbiI6IG51bGwsCiAgICAgICAgImRldGVjdFJldGluYSI6IGZhbHNlLAogICAgICAgICJtYXhOYXRpdmVab29tIjogMTgsCiAgICAgICAgIm1heFpvb20iOiAxOCwKICAgICAgICAibWluWm9vbSI6IDAsCiAgICAgICAgIm5vV3JhcCI6IGZhbHNlLAogICAgICAgICJzdWJkb21haW5zIjogImFiYyIKfSkuYWRkVG8obWFwXzM3MjVlMzVmZjA0ODQwNWE4M2JkOGFiNjYwMDRjMDViKTsKICAgIAogICAgICAgIHZhciBtYXJrZXJfMzhhMmQ4YTNmOGE3NGIzM2IyNTc4ZGUxMjEwZjhmMDggPSBMLm1hcmtlcigKICAgICAgICAgICAgWzQ3LjYwODAxMywgLTEyMi4zMzUxNjddLAogICAgICAgICAgICB7CiAgICAgICAgICAgICAgICBpY29uOiBuZXcgTC5JY29uLkRlZmF1bHQoKQogICAgICAgICAgICAgICAgfQogICAgICAgICAgICApLmFkZFRvKG1hcF8zNzI1ZTM1ZmYwNDg0MDVhODNiZDhhYjY2MDA0YzA1Yik7CiAgICAgICAgCiAgICAKICAgICAgICAgICAgdmFyIHBvcHVwXzIzMWMzNDhhMzM4YTQ1ZTY4YTZmYjc1ZWU0YmQ2NzFhID0gTC5wb3B1cCh7bWF4V2lkdGg6ICczMDAnCiAgICAgICAgICAgIAogICAgICAgICAgICB9KTsKCiAgICAgICAgICAgIAogICAgICAgICAgICAgICAgdmFyIGh0bWxfNGE2MTM1NzZjZjgzNGRkOGFmNDU0NmYwMjRmMGY4NDEgPSAkKCc8ZGl2IGlkPSJodG1sXzRhNjEzNTc2Y2Y4MzRkZDhhZjQ1NDZmMDI0ZjBmODQxIiBzdHlsZT0id2lkdGg6IDEwMC4wJTsgaGVpZ2h0OiAxMDAuMCU7Ij5TZWF0dGxlPC9kaXY+JylbMF07CiAgICAgICAgICAgICAgICBwb3B1cF8yMzFjMzQ4YTMzOGE0NWU2OGE2ZmI3NWVlNGJkNjcxYS5zZXRDb250ZW50KGh0bWxfNGE2MTM1NzZjZjgzNGRkOGFmNDU0NmYwMjRmMGY4NDEpOwogICAgICAgICAgICAKCiAgICAgICAgICAgIG1hcmtlcl8zOGEyZDhhM2Y4YTc0YjMzYjI1NzhkZTEyMTBmOGYwOC5iaW5kUG9wdXAocG9wdXBfMjMxYzM0OGEzMzhhNDVlNjhhNmZiNzVlZTRiZDY3MWEpCiAgICAgICAgICAgIDsKCiAgICAgICAgICAgIAogICAgICAgIAogICAgCiAgICAgICAgdmFyIG1hcmtlcl84OWZhNDY5MjZiOGY0NTIyYjUyM2Q5MDBiYTdmYjQyYSA9IEwubWFya2VyKAogICAgICAgICAgICBbNDcuMzA5MTA1NTQwMTY2MTgsIC0xMjIuMjcwNzAzNjAxMTA4MDVdLAogICAgICAgICAgICB7CiAgICAgICAgICAgICAgICBpY29uOiBuZXcgTC5JY29uLkRlZmF1bHQoKQogICAgICAgICAgICAgICAgfQogICAgICAgICAgICApLmFkZFRvKG1hcF8zNzI1ZTM1ZmYwNDg0MDVhODNiZDhhYjY2MDA0YzA1Yik7CiAgICAgICAgCiAgICAKICAgICAgICAgICAgdmFyIHBvcHVwX2FkZjg5MmMxMzJmMDRlNDFhZWIxMjljY2ZlNDdmMTU0ID0gTC5wb3B1cCh7bWF4V2lkdGg6ICczMDAnCiAgICAgICAgICAgIAogICAgICAgICAgICB9KTsKCiAgICAgICAgICAgIAogICAgICAgICAgICAgICAgdmFyIGh0bWxfMWVhOWIxOTQ3Y2I2NGZkZTg3ODlhMTM4ZTA2ZWMxZjUgPSAkKCc8ZGl2IGlkPSJodG1sXzFlYTliMTk0N2NiNjRmZGU4Nzg5YTEzOGUwNmVjMWY1IiBzdHlsZT0id2lkdGg6IDEwMC4wJTsgaGVpZ2h0OiAxMDAuMCU7Ij45ODAwMSAkMjgxMTk0PC9kaXY+JylbMF07CiAgICAgICAgICAgICAgICBwb3B1cF9hZGY4OTJjMTMyZjA0ZTQxYWViMTI5Y2NmZTQ3ZjE1NC5zZXRDb250ZW50KGh0bWxfMWVhOWIxOTQ3Y2I2NGZkZTg3ODlhMTM4ZTA2ZWMxZjUpOwogICAgICAgICAgICAKCiAgICAgICAgICAgIG1hcmtlcl84OWZhNDY5MjZiOGY0NTIyYjUyM2Q5MDBiYTdmYjQyYS5iaW5kUG9wdXAocG9wdXBfYWRmODkyYzEzMmYwNGU0MWFlYjEyOWNjZmU0N2YxNTQpCiAgICAgICAgICAgIDsKCiAgICAgICAgICAgIAogICAgICAgIAogICAgCiAgICAgICAgdmFyIG1hcmtlcl82OGYwMDlkNGIyODU0MDg2ODRkZTdhYTgzZmQ1ZWY5ZCA9IEwubWFya2VyKAogICAgICAgICAgICBbNDcuMzA4Nzc5ODk5NDk3NDcsIC0xMjIuMjEzMzU2NzgzOTE5NThdLAogICAgICAgICAgICB7CiAgICAgICAgICAgICAgICBpY29uOiBuZXcgTC5JY29uLkRlZmF1bHQoKQogICAgICAgICAgICAgICAgfQogICAgICAgICAgICApLmFkZFRvKG1hcF8zNzI1ZTM1ZmYwNDg0MDVhODNiZDhhYjY2MDA0YzA1Yik7CiAgICAgICAgCiAgICAKICAgICAgICAgICAgdmFyIHBvcHVwX2E0ZDdmYTZlZjg5YzRjZmZhMWQ1MmJlNzMzMTUwODVhID0gTC5wb3B1cCh7bWF4V2lkdGg6ICczMDAnCiAgICAgICAgICAgIAogICAgICAgICAgICB9KTsKCiAgICAgICAgICAgIAogICAgICAgICAgICAgICAgdmFyIGh0bWxfY2M4NDBiNDViODkxNGE4MmE2NDQ5MGZhNTY3MjI3NmUgPSAkKCc8ZGl2IGlkPSJodG1sX2NjODQwYjQ1Yjg5MTRhODJhNjQ0OTBmYTU2NzIyNzZlIiBzdHlsZT0id2lkdGg6IDEwMC4wJTsgaGVpZ2h0OiAxMDAuMCU7Ij45ODAwMiAkMjM0Mjg0PC9kaXY+JylbMF07CiAgICAgICAgICAgICAgICBwb3B1cF9hNGQ3ZmE2ZWY4OWM0Y2ZmYTFkNTJiZTczMzE1MDg1YS5zZXRDb250ZW50KGh0bWxfY2M4NDBiNDViODkxNGE4MmE2NDQ5MGZhNTY3MjI3NmUpOwogICAgICAgICAgICAKCiAgICAgICAgICAgIG1hcmtlcl82OGYwMDlkNGIyODU0MDg2ODRkZTdhYTgzZmQ1ZWY5ZC5iaW5kUG9wdXAocG9wdXBfYTRkN2ZhNmVmODljNGNmZmExZDUyYmU3MzMxNTA4NWEpCiAgICAgICAgICAgIDsKCiAgICAgICAgICAgIAogICAgICAgIAogICAgCiAgICAgICAgdmFyIG1hcmtlcl9jMDJiOGFkZDI2NTE0ZTQ3ODAxYjkwY2RmNzMwZDlmYyA9IEwubWFya2VyKAogICAgICAgICAgICBbNDcuMzE1NzQxMDcxNDI4NiwgLTEyMi4zMTAwNTM1NzE0Mjg2MV0sCiAgICAgICAgICAgIHsKICAgICAgICAgICAgICAgIGljb246IG5ldyBMLkljb24uRGVmYXVsdCgpCiAgICAgICAgICAgICAgICB9CiAgICAgICAgICAgICkuYWRkVG8obWFwXzM3MjVlMzVmZjA0ODQwNWE4M2JkOGFiNjYwMDRjMDViKTsKICAgICAgICAKICAgIAogICAgICAgICAgICB2YXIgcG9wdXBfZDhhZjVkYTc0OGYyNDBlMDlhMWU0OTI0MjczOWI5OWYgPSBMLnBvcHVwKHttYXhXaWR0aDogJzMwMCcKICAgICAgICAgICAgCiAgICAgICAgICAgIH0pOwoKICAgICAgICAgICAgCiAgICAgICAgICAgICAgICB2YXIgaHRtbF8wNzM4ZWQ0ZGM4ZGQ0ZTdkOWQ5NDRjMmI2NWFkYzBjYSA9ICQoJzxkaXYgaWQ9Imh0bWxfMDczOGVkNGRjOGRkNGU3ZDlkOTQ0YzJiNjVhZGMwY2EiIHN0eWxlPSJ3aWR0aDogMTAwLjAlOyBoZWlnaHQ6IDEwMC4wJTsiPjk4MDAzICQyOTQxMTE8L2Rpdj4nKVswXTsKICAgICAgICAgICAgICAgIHBvcHVwX2Q4YWY1ZGE3NDhmMjQwZTA5YTFlNDkyNDI3MzliOTlmLnNldENvbnRlbnQoaHRtbF8wNzM4ZWQ0ZGM4ZGQ0ZTdkOWQ5NDRjMmI2NWFkYzBjYSk7CiAgICAgICAgICAgIAoKICAgICAgICAgICAgbWFya2VyX2MwMmI4YWRkMjY1MTRlNDc4MDFiOTBjZGY3MzBkOWZjLmJpbmRQb3B1cChwb3B1cF9kOGFmNWRhNzQ4ZjI0MGUwOWExZTQ5MjQyNzM5Yjk5ZikKICAgICAgICAgICAgOwoKICAgICAgICAgICAgCiAgICAgICAgCiAgICAKICAgICAgICB2YXIgbWFya2VyXzY4NjE4MzM2Yzc4YzQxNWU4ZmVhOTU4OTM1NmY5ZjZkID0gTC5tYXJrZXIoCiAgICAgICAgICAgIFs0Ny42MTYxODMyODA3NTcwNiwgLTEyMi4yMDUxODkyNzQ0NDc4NV0sCiAgICAgICAgICAgIHsKICAgICAgICAgICAgICAgIGljb246IG5ldyBMLkljb24uRGVmYXVsdCgpCiAgICAgICAgICAgICAgICB9CiAgICAgICAgICAgICkuYWRkVG8obWFwXzM3MjVlMzVmZjA0ODQwNWE4M2JkOGFiNjYwMDRjMDViKTsKICAgICAgICAKICAgIAogICAgICAgICAgICB2YXIgcG9wdXBfNTkzYzQyZTgyZDg4NGJkMDk3YTI0OGU3MmI3NGY5NzcgPSBMLnBvcHVwKHttYXhXaWR0aDogJzMwMCcKICAgICAgICAgICAgCiAgICAgICAgICAgIH0pOwoKICAgICAgICAgICAgCiAgICAgICAgICAgICAgICB2YXIgaHRtbF82YTBlNTU2YzkzM2E0MjY5YjczZjY0ZDBhNzYzMzU0ZSA9ICQoJzxkaXYgaWQ9Imh0bWxfNmEwZTU1NmM5MzNhNDI2OWI3M2Y2NGQwYTc2MzM1NGUiIHN0eWxlPSJ3aWR0aDogMTAwLjAlOyBoZWlnaHQ6IDEwMC4wJTsiPjk4MDA0ICQxMzU2NTIzPC9kaXY+JylbMF07CiAgICAgICAgICAgICAgICBwb3B1cF81OTNjNDJlODJkODg0YmQwOTdhMjQ4ZTcyYjc0Zjk3Ny5zZXRDb250ZW50KGh0bWxfNmEwZTU1NmM5MzNhNDI2OWI3M2Y2NGQwYTc2MzM1NGUpOwogICAgICAgICAgICAKCiAgICAgICAgICAgIG1hcmtlcl82ODYxODMzNmM3OGM0MTVlOGZlYTk1ODkzNTZmOWY2ZC5iaW5kUG9wdXAocG9wdXBfNTkzYzQyZTgyZDg4NGJkMDk3YTI0OGU3MmI3NGY5NzcpCiAgICAgICAgICAgIDsKCiAgICAgICAgICAgIAogICAgICAgIAogICAgCiAgICAgICAgdmFyIG1hcmtlcl82NTZiZThkMTgxMTc0ZTkxOGUxOWE2ZWFlYWQyMTg3ZCA9IEwubWFya2VyKAogICAgICAgICAgICBbNDcuNjExNTMxNTQ3NjE5MDQsIC0xMjIuMTY3MjY3ODU3MTQyODNdLAogICAgICAgICAgICB7CiAgICAgICAgICAgICAgICBpY29uOiBuZXcgTC5JY29uLkRlZmF1bHQoKQogICAgICAgICAgICAgICAgfQogICAgICAgICAgICApLmFkZFRvKG1hcF8zNzI1ZTM1ZmYwNDg0MDVhODNiZDhhYjY2MDA0YzA1Yik7CiAgICAgICAgCiAgICAKICAgICAgICAgICAgdmFyIHBvcHVwXzgzM2JmMzhhODliZDQxOGU5YzkxNThhNmRjYjM5YzhjID0gTC5wb3B1cCh7bWF4V2lkdGg6ICczMDAnCiAgICAgICAgICAgIAogICAgICAgICAgICB9KTsKCiAgICAgICAgICAgIAogICAgICAgICAgICAgICAgdmFyIGh0bWxfNTg0NzdjODY4NTg0NGM5MGIwYzI0MmQzMmMxZjg1YjYgPSAkKCc8ZGl2IGlkPSJodG1sXzU4NDc3Yzg2ODU4NDRjOTBiMGMyNDJkMzJjMWY4NWI2IiBzdHlsZT0id2lkdGg6IDEwMC4wJTsgaGVpZ2h0OiAxMDAuMCU7Ij45ODAwNSAkODEwMjg5PC9kaXY+JylbMF07CiAgICAgICAgICAgICAgICBwb3B1cF84MzNiZjM4YTg5YmQ0MThlOWM5MTU4YTZkY2IzOWM4Yy5zZXRDb250ZW50KGh0bWxfNTg0NzdjODY4NTg0NGM5MGIwYzI0MmQzMmMxZjg1YjYpOwogICAgICAgICAgICAKCiAgICAgICAgICAgIG1hcmtlcl82NTZiZThkMTgxMTc0ZTkxOGUxOWE2ZWFlYWQyMTg3ZC5iaW5kUG9wdXAocG9wdXBfODMzYmYzOGE4OWJkNDE4ZTljOTE1OGE2ZGNiMzljOGMpCiAgICAgICAgICAgIDsKCiAgICAgICAgICAgIAogICAgICAgIAogICAgCiAgICAgICAgdmFyIG1hcmtlcl9hOGMyN2E0YzI2YTM0ZjI0YjU1ZjdlN2QwYzE1OWMwZCA9IEwubWFya2VyKAogICAgICAgICAgICBbNDcuNTU4MDIxNjg2NzQ3LCAtMTIyLjE0NjgzOTM1NzQyOTc4XSwKICAgICAgICAgICAgewogICAgICAgICAgICAgICAgaWNvbjogbmV3IEwuSWNvbi5EZWZhdWx0KCkKICAgICAgICAgICAgICAgIH0KICAgICAgICAgICAgKS5hZGRUbyhtYXBfMzcyNWUzNWZmMDQ4NDA1YTgzYmQ4YWI2NjAwNGMwNWIpOwogICAgICAgIAogICAgCiAgICAgICAgICAgIHZhciBwb3B1cF82NGQ4Y2IwMDFmMDc0N2FiODBjMzBkNzQ4OWJhNmUwMyA9IEwucG9wdXAoe21heFdpZHRoOiAnMzAwJwogICAgICAgICAgICAKICAgICAgICAgICAgfSk7CgogICAgICAgICAgICAKICAgICAgICAgICAgICAgIHZhciBodG1sX2FjNGNhNTE1NzY2NjRkZTlhZmM0YjkwODJlMTRmZTU1ID0gJCgnPGRpdiBpZD0iaHRtbF9hYzRjYTUxNTc2NjY0ZGU5YWZjNGI5MDgyZTE0ZmU1NSIgc3R5bGU9IndpZHRoOiAxMDAuMCU7IGhlaWdodDogMTAwLjAlOyI+OTgwMDYgJDg1OTkzODwvZGl2PicpWzBdOwogICAgICAgICAgICAgICAgcG9wdXBfNjRkOGNiMDAxZjA3NDdhYjgwYzMwZDc0ODliYTZlMDMuc2V0Q29udGVudChodG1sX2FjNGNhNTE1NzY2NjRkZTlhZmM0YjkwODJlMTRmZTU1KTsKICAgICAgICAgICAgCgogICAgICAgICAgICBtYXJrZXJfYThjMjdhNGMyNmEzNGYyNGI1NWY3ZTdkMGMxNTljMGQuYmluZFBvcHVwKHBvcHVwXzY0ZDhjYjAwMWYwNzQ3YWI4MGMzMGQ3NDg5YmE2ZTAzKQogICAgICAgICAgICA7CgogICAgICAgICAgICAKICAgICAgICAKICAgIAogICAgICAgIHZhciBtYXJrZXJfNjViMWU5NDc5NzJjNDEwOWJlNjA4Njg5MTQxNWQwNTEgPSBMLm1hcmtlcigKICAgICAgICAgICAgWzQ3LjYxMDUyMTk4NTgxNTU2LCAtMTIyLjE0MjA3ODAxNDE4NDQyXSwKICAgICAgICAgICAgewogICAgICAgICAgICAgICAgaWNvbjogbmV3IEwuSWNvbi5EZWZhdWx0KCkKICAgICAgICAgICAgICAgIH0KICAgICAgICAgICAgKS5hZGRUbyhtYXBfMzcyNWUzNWZmMDQ4NDA1YTgzYmQ4YWI2NjAwNGMwNWIpOwogICAgICAgIAogICAgCiAgICAgICAgICAgIHZhciBwb3B1cF8yMWMwOWJiYTMwNDQ0NDVmOTZkZTA1NGU0NTk0NjVjMiA9IEwucG9wdXAoe21heFdpZHRoOiAnMzAwJwogICAgICAgICAgICAKICAgICAgICAgICAgfSk7CgogICAgICAgICAgICAKICAgICAgICAgICAgICAgIHZhciBodG1sXzliMzQzMGU5YjZkMDRmZjlhMGVmZDZlMjI0MjQzNjU2ID0gJCgnPGRpdiBpZD0iaHRtbF85YjM0MzBlOWI2ZDA0ZmY5YTBlZmQ2ZTIyNDI0MzY1NiIgc3R5bGU9IndpZHRoOiAxMDAuMCU7IGhlaWdodDogMTAwLjAlOyI+OTgwMDcgJDYxNzI1NDwvZGl2PicpWzBdOwogICAgICAgICAgICAgICAgcG9wdXBfMjFjMDliYmEzMDQ0NDQ1Zjk2ZGUwNTRlNDU5NDY1YzIuc2V0Q29udGVudChodG1sXzliMzQzMGU5YjZkMDRmZjlhMGVmZDZlMjI0MjQzNjU2KTsKICAgICAgICAgICAgCgogICAgICAgICAgICBtYXJrZXJfNjViMWU5NDc5NzJjNDEwOWJlNjA4Njg5MTQxNWQwNTEuYmluZFBvcHVwKHBvcHVwXzIxYzA5YmJhMzA0NDQ0NWY5NmRlMDU0ZTQ1OTQ2NWMyKQogICAgICAgICAgICA7CgogICAgICAgICAgICAKICAgICAgICAKICAgIAogICAgICAgIHZhciBtYXJrZXJfZmFkMzA2YmM0YmY1NDNjMmJiODM0ZDUyZWRkM2JhMjUgPSBMLm1hcmtlcigKICAgICAgICAgICAgWzQ3LjYxMzMxMTY2MDc3NzQxLCAtMTIyLjExNTgzMzkyMjI2MTQyXSwKICAgICAgICAgICAgewogICAgICAgICAgICAgICAgaWNvbjogbmV3IEwuSWNvbi5EZWZhdWx0KCkKICAgICAgICAgICAgICAgIH0KICAgICAgICAgICAgKS5hZGRUbyhtYXBfMzcyNWUzNWZmMDQ4NDA1YTgzYmQ4YWI2NjAwNGMwNWIpOwogICAgICAgIAogICAgCiAgICAgICAgICAgIHZhciBwb3B1cF82ZThkZTI4MWI5ZDg0MmQyYWRhYzVhOTQ2OTZkNzY4ZiA9IEwucG9wdXAoe21heFdpZHRoOiAnMzAwJwogICAgICAgICAgICAKICAgICAgICAgICAgfSk7CgogICAgICAgICAgICAKICAgICAgICAgICAgICAgIHZhciBodG1sXzI5NDFhMWMwNzZlZDQyZjdiODMzY2ViZmVlMmRiMmI4ID0gJCgnPGRpdiBpZD0iaHRtbF8yOTQxYTFjMDc2ZWQ0MmY3YjgzM2NlYmZlZTJkYjJiOCIgc3R5bGU9IndpZHRoOiAxMDAuMCU7IGhlaWdodDogMTAwLjAlOyI+OTgwMDggJDY0NTYyODwvZGl2PicpWzBdOwogICAgICAgICAgICAgICAgcG9wdXBfNmU4ZGUyODFiOWQ4NDJkMmFkYWM1YTk0Njk2ZDc2OGYuc2V0Q29udGVudChodG1sXzI5NDFhMWMwNzZlZDQyZjdiODMzY2ViZmVlMmRiMmI4KTsKICAgICAgICAgICAgCgogICAgICAgICAgICBtYXJrZXJfZmFkMzA2YmM0YmY1NDNjMmJiODM0ZDUyZWRkM2JhMjUuYmluZFBvcHVwKHBvcHVwXzZlOGRlMjgxYjlkODQyZDJhZGFjNWE5NDY5NmQ3NjhmKQogICAgICAgICAgICA7CgogICAgICAgICAgICAKICAgICAgICAKICAgIAogICAgICAgIHZhciBtYXJrZXJfYzliMWY3NzA2NjdkNDAwNWIyZDJkNjQyMGE5ZTY5YjEgPSBMLm1hcmtlcigKICAgICAgICAgICAgWzQ3LjMzMzIxMDAwMDAwMDAxNSwgLTEyMS45OTk0N10sCiAgICAgICAgICAgIHsKICAgICAgICAgICAgICAgIGljb246IG5ldyBMLkljb24uRGVmYXVsdCgpCiAgICAgICAgICAgICAgICB9CiAgICAgICAgICAgICkuYWRkVG8obWFwXzM3MjVlMzVmZjA0ODQwNWE4M2JkOGFiNjYwMDRjMDViKTsKICAgICAgICAKICAgIAogICAgICAgICAgICB2YXIgcG9wdXBfMTMwOGRhYjhmNWYwNGEyMmE0ZDkwYTRhYTk0NmIzYzEgPSBMLnBvcHVwKHttYXhXaWR0aDogJzMwMCcKICAgICAgICAgICAgCiAgICAgICAgICAgIH0pOwoKICAgICAgICAgICAgCiAgICAgICAgICAgICAgICB2YXIgaHRtbF9iMmY3NzYwMmY1OWY0MjBlYWIxMzlmMDU1OWQ1NGMwNyA9ICQoJzxkaXYgaWQ9Imh0bWxfYjJmNzc2MDJmNTlmNDIwZWFiMTM5ZjA1NTlkNTRjMDciIHN0eWxlPSJ3aWR0aDogMTAwLjAlOyBoZWlnaHQ6IDEwMC4wJTsiPjk4MDEwICQ0MjM2NjU8L2Rpdj4nKVswXTsKICAgICAgICAgICAgICAgIHBvcHVwXzEzMDhkYWI4ZjVmMDRhMjJhNGQ5MGE0YWE5NDZiM2MxLnNldENvbnRlbnQoaHRtbF9iMmY3NzYwMmY1OWY0MjBlYWIxMzlmMDU1OWQ1NGMwNyk7CiAgICAgICAgICAgIAoKICAgICAgICAgICAgbWFya2VyX2M5YjFmNzcwNjY3ZDQwMDViMmQyZDY0MjBhOWU2OWIxLmJpbmRQb3B1cChwb3B1cF8xMzA4ZGFiOGY1ZjA0YTIyYTRkOTBhNGFhOTQ2YjNjMSkKICAgICAgICAgICAgOwoKICAgICAgICAgICAgCiAgICAgICAgCiAgICAKICAgICAgICB2YXIgbWFya2VyX2VhOThmNjg0NmEzMzQ5ZDRhMmY4MTQ4MjZkNjcwYzQzID0gTC5tYXJrZXIoCiAgICAgICAgICAgIFs0Ny43NTUxOTIzMDc2OTIzMSwgLTEyMi4yMDExNzQzNTg5NzQzN10sCiAgICAgICAgICAgIHsKICAgICAgICAgICAgICAgIGljb246IG5ldyBMLkljb24uRGVmYXVsdCgpCiAgICAgICAgICAgICAgICB9CiAgICAgICAgICAgICkuYWRkVG8obWFwXzM3MjVlMzVmZjA0ODQwNWE4M2JkOGFiNjYwMDRjMDViKTsKICAgICAgICAKICAgIAogICAgICAgICAgICB2YXIgcG9wdXBfNzQ2ZWE2NDlkMWU2NDY3NGExM2I2NTNhMDk4ZWZjNTEgPSBMLnBvcHVwKHttYXhXaWR0aDogJzMwMCcKICAgICAgICAgICAgCiAgICAgICAgICAgIH0pOwoKICAgICAgICAgICAgCiAgICAgICAgICAgICAgICB2YXIgaHRtbF9jNzM4MTJiNjFkNDk0ZThhYmQwYTRjN2U5Mjg2YmRlYSA9ICQoJzxkaXYgaWQ9Imh0bWxfYzczODEyYjYxZDQ5NGU4YWJkMGE0YzdlOTI4NmJkZWEiIHN0eWxlPSJ3aWR0aDogMTAwLjAlOyBoZWlnaHQ6IDEwMC4wJTsiPjk4MDExICQ0OTAzNzc8L2Rpdj4nKVswXTsKICAgICAgICAgICAgICAgIHBvcHVwXzc0NmVhNjQ5ZDFlNjQ2NzRhMTNiNjUzYTA5OGVmYzUxLnNldENvbnRlbnQoaHRtbF9jNzM4MTJiNjFkNDk0ZThhYmQwYTRjN2U5Mjg2YmRlYSk7CiAgICAgICAgICAgIAoKICAgICAgICAgICAgbWFya2VyX2VhOThmNjg0NmEzMzQ5ZDRhMmY4MTQ4MjZkNjcwYzQzLmJpbmRQb3B1cChwb3B1cF83NDZlYTY0OWQxZTY0Njc0YTEzYjY1M2EwOThlZmM1MSkKICAgICAgICAgICAgOwoKICAgICAgICAgICAgCiAgICAgICAgCiAgICAKICAgICAgICB2YXIgbWFya2VyX2Q0YWUyZWVlNmY0MjRiYjE4NjMxOTE5N2U5ZTkyMTIzID0gTC5tYXJrZXIoCiAgICAgICAgICAgIFs0Ny42NzE0ODc5MDMyMjU3OTUsIC0xMjEuODQ4NTMyMjU4MDY0NTddLAogICAgICAgICAgICB7CiAgICAgICAgICAgICAgICBpY29uOiBuZXcgTC5JY29uLkRlZmF1bHQoKQogICAgICAgICAgICAgICAgfQogICAgICAgICAgICApLmFkZFRvKG1hcF8zNzI1ZTM1ZmYwNDg0MDVhODNiZDhhYjY2MDA0YzA1Yik7CiAgICAgICAgCiAgICAKICAgICAgICAgICAgdmFyIHBvcHVwXzNiMzFkM2Q1NDE0YjQ1OTk4OTFjYzcyZWJjM2Q0YzM2ID0gTC5wb3B1cCh7bWF4V2lkdGg6ICczMDAnCiAgICAgICAgICAgIAogICAgICAgICAgICB9KTsKCiAgICAgICAgICAgIAogICAgICAgICAgICAgICAgdmFyIGh0bWxfMzBlZTYzYjA3YzQwNGJhZGJhMDQ4MWE5YTM1N2IxYjMgPSAkKCc8ZGl2IGlkPSJodG1sXzMwZWU2M2IwN2M0MDRiYWRiYTA0ODFhOWEzNTdiMWIzIiBzdHlsZT0id2lkdGg6IDEwMC4wJTsgaGVpZ2h0OiAxMDAuMCU7Ij45ODAxNCAkNDU1NjE3PC9kaXY+JylbMF07CiAgICAgICAgICAgICAgICBwb3B1cF8zYjMxZDNkNTQxNGI0NTk5ODkxY2M3MmViYzNkNGMzNi5zZXRDb250ZW50KGh0bWxfMzBlZTYzYjA3YzQwNGJhZGJhMDQ4MWE5YTM1N2IxYjMpOwogICAgICAgICAgICAKCiAgICAgICAgICAgIG1hcmtlcl9kNGFlMmVlZTZmNDI0YmIxODYzMTkxOTdlOWU5MjEyMy5iaW5kUG9wdXAocG9wdXBfM2IzMWQzZDU0MTRiNDU5OTg5MWNjNzJlYmMzZDRjMzYpCiAgICAgICAgICAgIDsKCiAgICAgICAgICAgIAogICAgICAgIAogICAgCiAgICAgICAgdmFyIG1hcmtlcl9kN2VlODk3ODAyZDI0Njg2YTkyOWFiY2Y3ZDc2ZWJjYyA9IEwubWFya2VyKAogICAgICAgICAgICBbNDcuNzM3MDk1Nzg5NDczNzA2LCAtMTIxLjk1NDgzMTU3ODk0NzMzXSwKICAgICAgICAgICAgewogICAgICAgICAgICAgICAgaWNvbjogbmV3IEwuSWNvbi5EZWZhdWx0KCkKICAgICAgICAgICAgICAgIH0KICAgICAgICAgICAgKS5hZGRUbyhtYXBfMzcyNWUzNWZmMDQ4NDA1YTgzYmQ4YWI2NjAwNGMwNWIpOwogICAgICAgIAogICAgCiAgICAgICAgICAgIHZhciBwb3B1cF9lMDRiNTdlNzBmZjU0ZDNhOWY3ODc4ZWM3YmFmNmNmMiA9IEwucG9wdXAoe21heFdpZHRoOiAnMzAwJwogICAgICAgICAgICAKICAgICAgICAgICAgfSk7CgogICAgICAgICAgICAKICAgICAgICAgICAgICAgIHZhciBodG1sXzYxYzBkOGI0MDUxNDRkNDY4ODA3YzgwOWU4YmUyMzU1ID0gJCgnPGRpdiBpZD0iaHRtbF82MWMwZDhiNDA1MTQ0ZDQ2ODgwN2M4MDllOGJlMjM1NSIgc3R5bGU9IndpZHRoOiAxMDAuMCU7IGhlaWdodDogMTAwLjAlOyI+OTgwMTkgJDQyNDgxNTwvZGl2PicpWzBdOwogICAgICAgICAgICAgICAgcG9wdXBfZTA0YjU3ZTcwZmY1NGQzYTlmNzg3OGVjN2JhZjZjZjIuc2V0Q29udGVudChodG1sXzYxYzBkOGI0MDUxNDRkNDY4ODA3YzgwOWU4YmUyMzU1KTsKICAgICAgICAgICAgCgogICAgICAgICAgICBtYXJrZXJfZDdlZTg5NzgwMmQyNDY4NmE5MjlhYmNmN2Q3NmViY2MuYmluZFBvcHVwKHBvcHVwX2UwNGI1N2U3MGZmNTRkM2E5Zjc4NzhlYzdiYWY2Y2YyKQogICAgICAgICAgICA7CgogICAgICAgICAgICAKICAgICAgICAKICAgIAogICAgICAgIHZhciBtYXJrZXJfYzUzYWQwYjZjYWZjNGI2NWJjYTQ0YWQzZTc1YzQ3ZWMgPSBMLm1hcmtlcigKICAgICAgICAgICAgWzQ3LjIxMTIyNTc1MTA3MjkyNCwgLTEyMS45OTU1NDkzNTYyMjMwOF0sCiAgICAgICAgICAgIHsKICAgICAgICAgICAgICAgIGljb246IG5ldyBMLkljb24uRGVmYXVsdCgpCiAgICAgICAgICAgICAgICB9CiAgICAgICAgICAgICkuYWRkVG8obWFwXzM3MjVlMzVmZjA0ODQwNWE4M2JkOGFiNjYwMDRjMDViKTsKICAgICAgICAKICAgIAogICAgICAgICAgICB2YXIgcG9wdXBfNmZmYzljZTJiMDI4NDg4M2ExOGM0NGU4NGM2NTYxNTcgPSBMLnBvcHVwKHttYXhXaWR0aDogJzMwMCcKICAgICAgICAgICAgCiAgICAgICAgICAgIH0pOwoKICAgICAgICAgICAgCiAgICAgICAgICAgICAgICB2YXIgaHRtbF9kNmQwMDNkMTBmYjU0ZjZkOGRkZDBjZDE4ZGJhZDQ1NiA9ICQoJzxkaXYgaWQ9Imh0bWxfZDZkMDAzZDEwZmI1NGY2ZDhkZGQwY2QxOGRiYWQ0NTYiIHN0eWxlPSJ3aWR0aDogMTAwLjAlOyBoZWlnaHQ6IDEwMC4wJTsiPjk4MDIyICQzMTY3NDI8L2Rpdj4nKVswXTsKICAgICAgICAgICAgICAgIHBvcHVwXzZmZmM5Y2UyYjAyODQ4ODNhMThjNDRlODRjNjU2MTU3LnNldENvbnRlbnQoaHRtbF9kNmQwMDNkMTBmYjU0ZjZkOGRkZDBjZDE4ZGJhZDQ1Nik7CiAgICAgICAgICAgIAoKICAgICAgICAgICAgbWFya2VyX2M1M2FkMGI2Y2FmYzRiNjViY2E0NGFkM2U3NWM0N2VjLmJpbmRQb3B1cChwb3B1cF82ZmZjOWNlMmIwMjg0ODgzYTE4YzQ0ZTg0YzY1NjE1NykKICAgICAgICAgICAgOwoKICAgICAgICAgICAgCiAgICAgICAgCiAgICAKICAgICAgICB2YXIgbWFya2VyXzE0NmM5NTU5ZTYyMTQwZDg4NzAzOTE3NGNkODQ2ZmY1ID0gTC5tYXJrZXIoCiAgICAgICAgICAgIFs0Ny4zMDg2MjI0NDQ4ODk4LCAtMTIyLjM2NDI4MjU2NTEzMDI1XSwKICAgICAgICAgICAgewogICAgICAgICAgICAgICAgaWNvbjogbmV3IEwuSWNvbi5EZWZhdWx0KCkKICAgICAgICAgICAgICAgIH0KICAgICAgICAgICAgKS5hZGRUbyhtYXBfMzcyNWUzNWZmMDQ4NDA1YTgzYmQ4YWI2NjAwNGMwNWIpOwogICAgICAgIAogICAgCiAgICAgICAgICAgIHZhciBwb3B1cF8wZWM4NTQxMmIzNTc0MTNjYmVmOGIyODczOGYyMDRjNyA9IEwucG9wdXAoe21heFdpZHRoOiAnMzAwJwogICAgICAgICAgICAKICAgICAgICAgICAgfSk7CgogICAgICAgICAgICAKICAgICAgICAgICAgICAgIHZhciBodG1sX2E4YmQxNzQ1ODVjNDQxZmZiZWViNWM1NjBlMTllNjFlID0gJCgnPGRpdiBpZD0iaHRtbF9hOGJkMTc0NTg1YzQ0MWZmYmVlYjVjNTYwZTE5ZTYxZSIgc3R5bGU9IndpZHRoOiAxMDAuMCU7IGhlaWdodDogMTAwLjAlOyI+OTgwMjMgJDI4Njc0MjwvZGl2PicpWzBdOwogICAgICAgICAgICAgICAgcG9wdXBfMGVjODU0MTJiMzU3NDEzY2JlZjhiMjg3MzhmMjA0Yzcuc2V0Q29udGVudChodG1sX2E4YmQxNzQ1ODVjNDQxZmZiZWViNWM1NjBlMTllNjFlKTsKICAgICAgICAgICAgCgogICAgICAgICAgICBtYXJrZXJfMTQ2Yzk1NTllNjIxNDBkODg3MDM5MTc0Y2Q4NDZmZjUuYmluZFBvcHVwKHBvcHVwXzBlYzg1NDEyYjM1NzQxM2NiZWY4YjI4NzM4ZjIwNGM3KQogICAgICAgICAgICA7CgogICAgICAgICAgICAKICAgICAgICAKICAgIAogICAgICAgIHZhciBtYXJrZXJfMTdlOWE2YTY3MzlhNDg5ZmJmNjIyZTkyODNjYTBiOWQgPSBMLm1hcmtlcigKICAgICAgICAgICAgWzQ3LjU1ODc2Mzc1LCAtMTIxLjkwNTQ3NTAwMDAwMDA1XSwKICAgICAgICAgICAgewogICAgICAgICAgICAgICAgaWNvbjogbmV3IEwuSWNvbi5EZWZhdWx0KCkKICAgICAgICAgICAgICAgIH0KICAgICAgICAgICAgKS5hZGRUbyhtYXBfMzcyNWUzNWZmMDQ4NDA1YTgzYmQ4YWI2NjAwNGMwNWIpOwogICAgICAgIAogICAgCiAgICAgICAgICAgIHZhciBwb3B1cF9lZjE1MTBiNDgxOTQ0NjAxYmQ2NmMwMDQ3ZDA1Mjg5NCA9IEwucG9wdXAoe21heFdpZHRoOiAnMzAwJwogICAgICAgICAgICAKICAgICAgICAgICAgfSk7CgogICAgICAgICAgICAKICAgICAgICAgICAgICAgIHZhciBodG1sX2ZhZDUxNTlhM2Q0MzQzNDVhOWI1ZmMwNjg4MmIyOWQxID0gJCgnPGRpdiBpZD0iaHRtbF9mYWQ1MTU5YTNkNDM0MzQ1YTliNWZjMDY4ODJiMjlkMSIgc3R5bGU9IndpZHRoOiAxMDAuMCU7IGhlaWdodDogMTAwLjAlOyI+OTgwMjQgJDU4NjEyMDwvZGl2PicpWzBdOwogICAgICAgICAgICAgICAgcG9wdXBfZWYxNTEwYjQ4MTk0NDYwMWJkNjZjMDA0N2QwNTI4OTQuc2V0Q29udGVudChodG1sX2ZhZDUxNTlhM2Q0MzQzNDVhOWI1ZmMwNjg4MmIyOWQxKTsKICAgICAgICAgICAgCgogICAgICAgICAgICBtYXJrZXJfMTdlOWE2YTY3MzlhNDg5ZmJmNjIyZTkyODNjYTBiOWQuYmluZFBvcHVwKHBvcHVwX2VmMTUxMGI0ODE5NDQ2MDFiZDY2YzAwNDdkMDUyODk0KQogICAgICAgICAgICA7CgogICAgICAgICAgICAKICAgICAgICAKICAgIAogICAgICAgIHZhciBtYXJrZXJfMWZhM2RkNjkwNjk0NGQ4MTgyYWFhYTExMmU4OTAxODkgPSBMLm1hcmtlcigKICAgICAgICAgICAgWzQ3LjUyMTY4NzEzNTkyMjM3LCAtMTIyLjA0Mjg0NzA4NzM3ODU5XSwKICAgICAgICAgICAgewogICAgICAgICAgICAgICAgaWNvbjogbmV3IEwuSWNvbi5EZWZhdWx0KCkKICAgICAgICAgICAgICAgIH0KICAgICAgICAgICAgKS5hZGRUbyhtYXBfMzcyNWUzNWZmMDQ4NDA1YTgzYmQ4YWI2NjAwNGMwNWIpOwogICAgICAgIAogICAgCiAgICAgICAgICAgIHZhciBwb3B1cF80MmMzMTdkMjAxNDU0YTljYmFkMDdmZjYyNGI5Y2Q1NiA9IEwucG9wdXAoe21heFdpZHRoOiAnMzAwJwogICAgICAgICAgICAKICAgICAgICAgICAgfSk7CgogICAgICAgICAgICAKICAgICAgICAgICAgICAgIHZhciBodG1sXzA2ZWU5Y2UwMWNiZjRjNzJhMDA4MWQzNTM1MGM3OTdkID0gJCgnPGRpdiBpZD0iaHRtbF8wNmVlOWNlMDFjYmY0YzcyYTAwODFkMzUzNTBjNzk3ZCIgc3R5bGU9IndpZHRoOiAxMDAuMCU7IGhlaWdodDogMTAwLjAlOyI+OTgwMjcgJDYxNzA1MzwvZGl2PicpWzBdOwogICAgICAgICAgICAgICAgcG9wdXBfNDJjMzE3ZDIwMTQ1NGE5Y2JhZDA3ZmY2MjRiOWNkNTYuc2V0Q29udGVudChodG1sXzA2ZWU5Y2UwMWNiZjRjNzJhMDA4MWQzNTM1MGM3OTdkKTsKICAgICAgICAgICAgCgogICAgICAgICAgICBtYXJrZXJfMWZhM2RkNjkwNjk0NGQ4MTgyYWFhYTExMmU4OTAxODkuYmluZFBvcHVwKHBvcHVwXzQyYzMxN2QyMDE0NTRhOWNiYWQwN2ZmNjI0YjljZDU2KQogICAgICAgICAgICA7CgogICAgICAgICAgICAKICAgICAgICAKICAgIAogICAgICAgIHZhciBtYXJrZXJfMDhmOTY5YWQyMzA1NDQ5Y2E2ZDNiOGY4ZDA1ZWQ3NzkgPSBMLm1hcmtlcigKICAgICAgICAgICAgWzQ3Ljc1NTEzNzgwOTE4NzI5LCAtMTIyLjI0NjAyODI2ODU1MTIzXSwKICAgICAgICAgICAgewogICAgICAgICAgICAgICAgaWNvbjogbmV3IEwuSWNvbi5EZWZhdWx0KCkKICAgICAgICAgICAgICAgIH0KICAgICAgICAgICAgKS5hZGRUbyhtYXBfMzcyNWUzNWZmMDQ4NDA1YTgzYmQ4YWI2NjAwNGMwNWIpOwogICAgICAgIAogICAgCiAgICAgICAgICAgIHZhciBwb3B1cF9kNDY2YjBlNjJkOTE0MzhkODE3MTNlMGNhMGM0NzZiMSA9IEwucG9wdXAoe21heFdpZHRoOiAnMzAwJwogICAgICAgICAgICAKICAgICAgICAgICAgfSk7CgogICAgICAgICAgICAKICAgICAgICAgICAgICAgIHZhciBodG1sXzY4MDc3NTg3NzY3MTRmMDNhNmQ1ZDY4MDA0MzcxZmEyID0gJCgnPGRpdiBpZD0iaHRtbF82ODA3NzU4Nzc2NzE0ZjAzYTZkNWQ2ODAwNDM3MWZhMiIgc3R5bGU9IndpZHRoOiAxMDAuMCU7IGhlaWdodDogMTAwLjAlOyI+OTgwMjggJDQ2MjQ4ODwvZGl2PicpWzBdOwogICAgICAgICAgICAgICAgcG9wdXBfZDQ2NmIwZTYyZDkxNDM4ZDgxNzEzZTBjYTBjNDc2YjEuc2V0Q29udGVudChodG1sXzY4MDc3NTg3NzY3MTRmMDNhNmQ1ZDY4MDA0MzcxZmEyKTsKICAgICAgICAgICAgCgogICAgICAgICAgICBtYXJrZXJfMDhmOTY5YWQyMzA1NDQ5Y2E2ZDNiOGY4ZDA1ZWQ3NzkuYmluZFBvcHVwKHBvcHVwX2Q0NjZiMGU2MmQ5MTQzOGQ4MTcxM2UwY2EwYzQ3NmIxKQogICAgICAgICAgICA7CgogICAgICAgICAgICAKICAgICAgICAKICAgIAogICAgICAgIHZhciBtYXJrZXJfODgzNmRhOWZkM2I3NGJjMTg3ZmU4MjZlOGRjOTkxNzUgPSBMLm1hcmtlcigKICAgICAgICAgICAgWzQ3LjU1OTU1NzAwOTM0NTgzLCAtMTIyLjAwNTY1NzMyMDg3MjE2XSwKICAgICAgICAgICAgewogICAgICAgICAgICAgICAgaWNvbjogbmV3IEwuSWNvbi5EZWZhdWx0KCkKICAgICAgICAgICAgICAgIH0KICAgICAgICAgICAgKS5hZGRUbyhtYXBfMzcyNWUzNWZmMDQ4NDA1YTgzYmQ4YWI2NjAwNGMwNWIpOwogICAgICAgIAogICAgCiAgICAgICAgICAgIHZhciBwb3B1cF8xYjQ2ZGU1NTcyMzM0MWI2YjFmMmI4MzQ1MmJhMWQzOCA9IEwucG9wdXAoe21heFdpZHRoOiAnMzAwJwogICAgICAgICAgICAKICAgICAgICAgICAgfSk7CgogICAgICAgICAgICAKICAgICAgICAgICAgICAgIHZhciBodG1sXzM5NDM5ZDM5ODhiNjRmMTJiOWY1NjhmZDRlNWZiMWNmID0gJCgnPGRpdiBpZD0iaHRtbF8zOTQzOWQzOTg4YjY0ZjEyYjlmNTY4ZmQ0ZTVmYjFjZiIgc3R5bGU9IndpZHRoOiAxMDAuMCU7IGhlaWdodDogMTAwLjAlOyI+OTgwMjkgJDYxMjY0MjwvZGl2PicpWzBdOwogICAgICAgICAgICAgICAgcG9wdXBfMWI0NmRlNTU3MjMzNDFiNmIxZjJiODM0NTJiYTFkMzguc2V0Q29udGVudChodG1sXzM5NDM5ZDM5ODhiNjRmMTJiOWY1NjhmZDRlNWZiMWNmKTsKICAgICAgICAgICAgCgogICAgICAgICAgICBtYXJrZXJfODgzNmRhOWZkM2I3NGJjMTg3ZmU4MjZlOGRjOTkxNzUuYmluZFBvcHVwKHBvcHVwXzFiNDZkZTU1NzIzMzQxYjZiMWYyYjgzNDUyYmExZDM4KQogICAgICAgICAgICA7CgogICAgICAgICAgICAKICAgICAgICAKICAgIAogICAgICAgIHZhciBtYXJrZXJfNTQ4MGRjNmNkNjc2NDZlNzg0NDBlM2I5OTI5ODkxZjkgPSBMLm1hcmtlcigKICAgICAgICAgICAgWzQ3LjM2OTAyNjU2MjQ5OTk5LCAtMTIyLjE5MDQxNzk2ODc1MDAxXSwKICAgICAgICAgICAgewogICAgICAgICAgICAgICAgaWNvbjogbmV3IEwuSWNvbi5EZWZhdWx0KCkKICAgICAgICAgICAgICAgIH0KICAgICAgICAgICAgKS5hZGRUbyhtYXBfMzcyNWUzNWZmMDQ4NDA1YTgzYmQ4YWI2NjAwNGMwNWIpOwogICAgICAgIAogICAgCiAgICAgICAgICAgIHZhciBwb3B1cF9mZWI1NjM4MzYwOTU0Mzc5YWMxNjNiOTcxNzMyMzcwZiA9IEwucG9wdXAoe21heFdpZHRoOiAnMzAwJwogICAgICAgICAgICAKICAgICAgICAgICAgfSk7CgogICAgICAgICAgICAKICAgICAgICAgICAgICAgIHZhciBodG1sX2Y5MDVhYmYzY2Q3MzQxNDZiZTI5Y2IxZGJhNjNkNjkwID0gJCgnPGRpdiBpZD0iaHRtbF9mOTA1YWJmM2NkNzM0MTQ2YmUyOWNiMWRiYTYzZDY5MCIgc3R5bGU9IndpZHRoOiAxMDAuMCU7IGhlaWdodDogMTAwLjAlOyI+OTgwMzAgJDI5NjE4NzwvZGl2PicpWzBdOwogICAgICAgICAgICAgICAgcG9wdXBfZmViNTYzODM2MDk1NDM3OWFjMTYzYjk3MTczMjM3MGYuc2V0Q29udGVudChodG1sX2Y5MDVhYmYzY2Q3MzQxNDZiZTI5Y2IxZGJhNjNkNjkwKTsKICAgICAgICAgICAgCgogICAgICAgICAgICBtYXJrZXJfNTQ4MGRjNmNkNjc2NDZlNzg0NDBlM2I5OTI5ODkxZjkuYmluZFBvcHVwKHBvcHVwX2ZlYjU2MzgzNjA5NTQzNzlhYzE2M2I5NzE3MzIzNzBmKQogICAgICAgICAgICA7CgogICAgICAgICAgICAKICAgICAgICAKICAgIAogICAgICAgIHZhciBtYXJrZXJfZWNiNjFlZGIwNzg0NDg1NzlhZGRlM2ZhZjYxMTQ4MTcgPSBMLm1hcmtlcigKICAgICAgICAgICAgWzQ3LjQwMzc2NDgzNTE2NDg1LCAtMTIyLjE4OTMwNDAyOTMwNDAzXSwKICAgICAgICAgICAgewogICAgICAgICAgICAgICAgaWNvbjogbmV3IEwuSWNvbi5EZWZhdWx0KCkKICAgICAgICAgICAgICAgIH0KICAgICAgICAgICAgKS5hZGRUbyhtYXBfMzcyNWUzNWZmMDQ4NDA1YTgzYmQ4YWI2NjAwNGMwNWIpOwogICAgICAgIAogICAgCiAgICAgICAgICAgIHZhciBwb3B1cF8zYmYwY2JjYzc4Yjk0MDgxOTE5Mzk1MjdiZmQ1NTE5MSA9IEwucG9wdXAoe21heFdpZHRoOiAnMzAwJwogICAgICAgICAgICAKICAgICAgICAgICAgfSk7CgogICAgICAgICAgICAKICAgICAgICAgICAgICAgIHZhciBodG1sX2Q2Yjc0MmIyZTY4NjQ3NDE5YjBkMzVlZjJiNzJmMjNiID0gJCgnPGRpdiBpZD0iaHRtbF9kNmI3NDJiMmU2ODY0NzQxOWIwZDM1ZWYyYjcyZjIzYiIgc3R5bGU9IndpZHRoOiAxMDAuMCU7IGhlaWdodDogMTAwLjAlOyI+OTgwMzEgJDMwMDM0MDwvZGl2PicpWzBdOwogICAgICAgICAgICAgICAgcG9wdXBfM2JmMGNiY2M3OGI5NDA4MTkxOTM5NTI3YmZkNTUxOTEuc2V0Q29udGVudChodG1sX2Q2Yjc0MmIyZTY4NjQ3NDE5YjBkMzVlZjJiNzJmMjNiKTsKICAgICAgICAgICAgCgogICAgICAgICAgICBtYXJrZXJfZWNiNjFlZGIwNzg0NDg1NzlhZGRlM2ZhZjYxMTQ4MTcuYmluZFBvcHVwKHBvcHVwXzNiZjBjYmNjNzhiOTQwODE5MTkzOTUyN2JmZDU1MTkxKQogICAgICAgICAgICA7CgogICAgICAgICAgICAKICAgICAgICAKICAgIAogICAgICAgIHZhciBtYXJrZXJfNThmNzgzOWFhZGExNDVjOWExYzA3OTEwZDMwMjk0YjUgPSBMLm1hcmtlcigKICAgICAgICAgICAgWzQ3LjM3MzU1NjAwMDAwMDAyLCAtMTIyLjI3ODg0ODAwMDAwMDA1XSwKICAgICAgICAgICAgewogICAgICAgICAgICAgICAgaWNvbjogbmV3IEwuSWNvbi5EZWZhdWx0KCkKICAgICAgICAgICAgICAgIH0KICAgICAgICAgICAgKS5hZGRUbyhtYXBfMzcyNWUzNWZmMDQ4NDA1YTgzYmQ4YWI2NjAwNGMwNWIpOwogICAgICAgIAogICAgCiAgICAgICAgICAgIHZhciBwb3B1cF84ZDJhZWNkOGFlYTI0Yjg0OGVmYjcwMGRlZTRjZmI5ZSA9IEwucG9wdXAoe21heFdpZHRoOiAnMzAwJwogICAgICAgICAgICAKICAgICAgICAgICAgfSk7CgogICAgICAgICAgICAKICAgICAgICAgICAgICAgIHZhciBodG1sXzcyYzU4MWIyOTMxNjQ0MTk5MzFmYTcyZDVlZmEzZDFjID0gJCgnPGRpdiBpZD0iaHRtbF83MmM1ODFiMjkzMTY0NDE5OTMxZmE3MmQ1ZWZhM2QxYyIgc3R5bGU9IndpZHRoOiAxMDAuMCU7IGhlaWdodDogMTAwLjAlOyI+OTgwMzIgJDI1MTI5NjwvZGl2PicpWzBdOwogICAgICAgICAgICAgICAgcG9wdXBfOGQyYWVjZDhhZWEyNGI4NDhlZmI3MDBkZWU0Y2ZiOWUuc2V0Q29udGVudChodG1sXzcyYzU4MWIyOTMxNjQ0MTk5MzFmYTcyZDVlZmEzZDFjKTsKICAgICAgICAgICAgCgogICAgICAgICAgICBtYXJrZXJfNThmNzgzOWFhZGExNDVjOWExYzA3OTEwZDMwMjk0YjUuYmluZFBvcHVwKHBvcHVwXzhkMmFlY2Q4YWVhMjRiODQ4ZWZiNzAwZGVlNGNmYjllKQogICAgICAgICAgICA7CgogICAgICAgICAgICAKICAgICAgICAKICAgIAogICAgICAgIHZhciBtYXJrZXJfMWQ5YTFhMmIzN2QxNGZkZWExNzMxOTY4ODE3YWE3YmEgPSBMLm1hcmtlcigKICAgICAgICAgICAgWzQ3LjY4MDA4ODE5NDQ0NDQzLCAtMTIyLjE4NzY1OTcyMjIyMjNdLAogICAgICAgICAgICB7CiAgICAgICAgICAgICAgICBpY29uOiBuZXcgTC5JY29uLkRlZmF1bHQoKQogICAgICAgICAgICAgICAgfQogICAgICAgICAgICApLmFkZFRvKG1hcF8zNzI1ZTM1ZmYwNDg0MDVhODNiZDhhYjY2MDA0YzA1Yik7CiAgICAgICAgCiAgICAKICAgICAgICAgICAgdmFyIHBvcHVwX2Q1MDlmMTgyNzcxODRiMDNhYjE5NThjYTUyNzhhYjVjID0gTC5wb3B1cCh7bWF4V2lkdGg6ICczMDAnCiAgICAgICAgICAgIAogICAgICAgICAgICB9KTsKCiAgICAgICAgICAgIAogICAgICAgICAgICAgICAgdmFyIGh0bWxfNjQ1MDAxZjFhNWI4NGY3YzkzZDVlOTYzYWExNTc0NzIgPSAkKCc8ZGl2IGlkPSJodG1sXzY0NTAwMWYxYTViODRmN2M5M2Q1ZTk2M2FhMTU3NDcyIiBzdHlsZT0id2lkdGg6IDEwMC4wJTsgaGVpZ2h0OiAxMDAuMCU7Ij45ODAzMyAkODAzOTkwPC9kaXY+JylbMF07CiAgICAgICAgICAgICAgICBwb3B1cF9kNTA5ZjE4Mjc3MTg0YjAzYWIxOTU4Y2E1Mjc4YWI1Yy5zZXRDb250ZW50KGh0bWxfNjQ1MDAxZjFhNWI4NGY3YzkzZDVlOTYzYWExNTc0NzIpOwogICAgICAgICAgICAKCiAgICAgICAgICAgIG1hcmtlcl8xZDlhMWEyYjM3ZDE0ZmRlYTE3MzE5Njg4MTdhYTdiYS5iaW5kUG9wdXAocG9wdXBfZDUwOWYxODI3NzE4NGIwM2FiMTk1OGNhNTI3OGFiNWMpCiAgICAgICAgICAgIDsKCiAgICAgICAgICAgIAogICAgICAgIAogICAgCiAgICAgICAgdmFyIG1hcmtlcl84ZmQ3YTYyMmY4NDQ0M2NmYWI3ZjJlZWY0MWUwNzkxYSA9IEwubWFya2VyKAogICAgICAgICAgICBbNDcuNzIwNjg3ODg5OTA4MzI2LCAtMTIyLjIwNzM3NDMxMTkyNjU5XSwKICAgICAgICAgICAgewogICAgICAgICAgICAgICAgaWNvbjogbmV3IEwuSWNvbi5EZWZhdWx0KCkKICAgICAgICAgICAgICAgIH0KICAgICAgICAgICAgKS5hZGRUbyhtYXBfMzcyNWUzNWZmMDQ4NDA1YTgzYmQ4YWI2NjAwNGMwNWIpOwogICAgICAgIAogICAgCiAgICAgICAgICAgIHZhciBwb3B1cF85YjczOGYwOGVjYzg0MDg2ODM4OTc3NjFiMDZmN2FkMCA9IEwucG9wdXAoe21heFdpZHRoOiAnMzAwJwogICAgICAgICAgICAKICAgICAgICAgICAgfSk7CgogICAgICAgICAgICAKICAgICAgICAgICAgICAgIHZhciBodG1sXzI2ZTdiZWE4MTBlMDRjMmZiMmEyZWZlYTkwZmU3ZGY2ID0gJCgnPGRpdiBpZD0iaHRtbF8yNmU3YmVhODEwZTA0YzJmYjJhMmVmZWE5MGZlN2RmNiIgc3R5bGU9IndpZHRoOiAxMDAuMCU7IGhlaWdodDogMTAwLjAlOyI+OTgwMzQgJDUyMTc0MDwvZGl2PicpWzBdOwogICAgICAgICAgICAgICAgcG9wdXBfOWI3MzhmMDhlY2M4NDA4NjgzODk3NzYxYjA2ZjdhZDAuc2V0Q29udGVudChodG1sXzI2ZTdiZWE4MTBlMDRjMmZiMmEyZWZlYTkwZmU3ZGY2KTsKICAgICAgICAgICAgCgogICAgICAgICAgICBtYXJrZXJfOGZkN2E2MjJmODQ0NDNjZmFiN2YyZWVmNDFlMDc5MWEuYmluZFBvcHVwKHBvcHVwXzliNzM4ZjA4ZWNjODQwODY4Mzg5Nzc2MWIwNmY3YWQwKQogICAgICAgICAgICA7CgogICAgICAgICAgICAKICAgICAgICAKICAgIAogICAgICAgIHZhciBtYXJrZXJfMzc2MjVmNWI0OWY4NGYyNjlhOTE1MDA4ODkwMGM0MTggPSBMLm1hcmtlcigKICAgICAgICAgICAgWzQ3LjM3MDY0MDIzNzY5MTA5LCAtMTIyLjAzMTc1MzgyMDAzMzc3XSwKICAgICAgICAgICAgewogICAgICAgICAgICAgICAgaWNvbjogbmV3IEwuSWNvbi5EZWZhdWx0KCkKICAgICAgICAgICAgICAgIH0KICAgICAgICAgICAgKS5hZGRUbyhtYXBfMzcyNWUzNWZmMDQ4NDA1YTgzYmQ4YWI2NjAwNGMwNWIpOwogICAgICAgIAogICAgCiAgICAgICAgICAgIHZhciBwb3B1cF9iNWI2ZWZlZWFhZDU0NmQ1YmFmZjI2YTBhMWE5ZDYzNiA9IEwucG9wdXAoe21heFdpZHRoOiAnMzAwJwogICAgICAgICAgICAKICAgICAgICAgICAgfSk7CgogICAgICAgICAgICAKICAgICAgICAgICAgICAgIHZhciBodG1sXzEwM2UyMmIwMWQ5NjQ0NTdhNjdiYmMwYTc2NWMzZWZjID0gJCgnPGRpdiBpZD0iaHRtbF8xMDNlMjJiMDFkOTY0NDU3YTY3YmJjMGE3NjVjM2VmYyIgc3R5bGU9IndpZHRoOiAxMDAuMCU7IGhlaWdodDogMTAwLjAlOyI+OTgwMzggJDM2NzA5MTwvZGl2PicpWzBdOwogICAgICAgICAgICAgICAgcG9wdXBfYjViNmVmZWVhYWQ1NDZkNWJhZmYyNmEwYTFhOWQ2MzYuc2V0Q29udGVudChodG1sXzEwM2UyMmIwMWQ5NjQ0NTdhNjdiYmMwYTc2NWMzZWZjKTsKICAgICAgICAgICAgCgogICAgICAgICAgICBtYXJrZXJfMzc2MjVmNWI0OWY4NGYyNjlhOTE1MDA4ODkwMGM0MTguYmluZFBvcHVwKHBvcHVwX2I1YjZlZmVlYWFkNTQ2ZDViYWZmMjZhMGExYTlkNjM2KQogICAgICAgICAgICA7CgogICAgICAgICAgICAKICAgICAgICAKICAgIAogICAgICAgIHZhciBtYXJrZXJfZDQ5OWQ5MzM4YTVhNDc3OWIzMzdjNmIzY2Y3NTI4ZGEgPSBMLm1hcmtlcigKICAgICAgICAgICAgWzQ3LjYyNTgzOTk5OTk5OTk4LCAtMTIyLjIzMzUzOTk5OTk5OTk2XSwKICAgICAgICAgICAgewogICAgICAgICAgICAgICAgaWNvbjogbmV3IEwuSWNvbi5EZWZhdWx0KCkKICAgICAgICAgICAgICAgIH0KICAgICAgICAgICAgKS5hZGRUbyhtYXBfMzcyNWUzNWZmMDQ4NDA1YTgzYmQ4YWI2NjAwNGMwNWIpOwogICAgICAgIAogICAgCiAgICAgICAgICAgIHZhciBwb3B1cF84MmJkMGFmZTIyNDM0ZWQxODYzM2FiYjVjZmQxZWVkNyA9IEwucG9wdXAoe21heFdpZHRoOiAnMzAwJwogICAgICAgICAgICAKICAgICAgICAgICAgfSk7CgogICAgICAgICAgICAKICAgICAgICAgICAgICAgIHZhciBodG1sX2MxMDFkZjAzZTYyMzRiODg4NWE1N2I3YjY3OGZhYWEwID0gJCgnPGRpdiBpZD0iaHRtbF9jMTAxZGYwM2U2MjM0Yjg4ODVhNTdiN2I2NzhmYWFhMCIgc3R5bGU9IndpZHRoOiAxMDAuMCU7IGhlaWdodDogMTAwLjAlOyI+OTgwMzkgJDIxNjEzMDA8L2Rpdj4nKVswXTsKICAgICAgICAgICAgICAgIHBvcHVwXzgyYmQwYWZlMjI0MzRlZDE4NjMzYWJiNWNmZDFlZWQ3LnNldENvbnRlbnQoaHRtbF9jMTAxZGYwM2U2MjM0Yjg4ODVhNTdiN2I2NzhmYWFhMCk7CiAgICAgICAgICAgIAoKICAgICAgICAgICAgbWFya2VyX2Q0OTlkOTMzOGE1YTQ3NzliMzM3YzZiM2NmNzUyOGRhLmJpbmRQb3B1cChwb3B1cF84MmJkMGFmZTIyNDM0ZWQxODYzM2FiYjVjZmQxZWVkNykKICAgICAgICAgICAgOwoKICAgICAgICAgICAgCiAgICAgICAgCiAgICAKICAgICAgICB2YXIgbWFya2VyXzliNWVkYjI0NmNmMjQyZmJiYmEyNDY4NDU5ZGU4YzFiID0gTC5tYXJrZXIoCiAgICAgICAgICAgIFs0Ny41NTk4NDYwOTkyOTA3NjYsIC0xMjIuMjI1NTkyMTk4NTgxNTJdLAogICAgICAgICAgICB7CiAgICAgICAgICAgICAgICBpY29uOiBuZXcgTC5JY29uLkRlZmF1bHQoKQogICAgICAgICAgICAgICAgfQogICAgICAgICAgICApLmFkZFRvKG1hcF8zNzI1ZTM1ZmYwNDg0MDVhODNiZDhhYjY2MDA0YzA1Yik7CiAgICAgICAgCiAgICAKICAgICAgICAgICAgdmFyIHBvcHVwX2Y5YWRjMTVlMzIxODQzYWQ5OGRhZjFiNjAyYmNhNGJhID0gTC5wb3B1cCh7bWF4V2lkdGg6ICczMDAnCiAgICAgICAgICAgIAogICAgICAgICAgICB9KTsKCiAgICAgICAgICAgIAogICAgICAgICAgICAgICAgdmFyIGh0bWxfMGEwMTdjMzVkMTJmNDRhOTllMmFlMDAzYzJiYTQzMzAgPSAkKCc8ZGl2IGlkPSJodG1sXzBhMDE3YzM1ZDEyZjQ0YTk5ZTJhZTAwM2MyYmE0MzMwIiBzdHlsZT0id2lkdGg6IDEwMC4wJTsgaGVpZ2h0OiAxMDAuMCU7Ij45ODA0MCAkMTE5NDg3MzwvZGl2PicpWzBdOwogICAgICAgICAgICAgICAgcG9wdXBfZjlhZGMxNWUzMjE4NDNhZDk4ZGFmMWI2MDJiY2E0YmEuc2V0Q29udGVudChodG1sXzBhMDE3YzM1ZDEyZjQ0YTk5ZTJhZTAwM2MyYmE0MzMwKTsKICAgICAgICAgICAgCgogICAgICAgICAgICBtYXJrZXJfOWI1ZWRiMjQ2Y2YyNDJmYmJiYTI0Njg0NTlkZThjMWIuYmluZFBvcHVwKHBvcHVwX2Y5YWRjMTVlMzIxODQzYWQ5OGRhZjFiNjAyYmNhNGJhKQogICAgICAgICAgICA7CgogICAgICAgICAgICAKICAgICAgICAKICAgIAogICAgICAgIHZhciBtYXJrZXJfMTE3Y2JmMTExZWM2NGJmMGI2OThmYzNkZTRiZTk2MTAgPSBMLm1hcmtlcigKICAgICAgICAgICAgWzQ3LjM2NTY5ODkwMzEwNzg1NSwgLTEyMi4xMTUzODc1Njg1NTU2NV0sCiAgICAgICAgICAgIHsKICAgICAgICAgICAgICAgIGljb246IG5ldyBMLkljb24uRGVmYXVsdCgpCiAgICAgICAgICAgICAgICB9CiAgICAgICAgICAgICkuYWRkVG8obWFwXzM3MjVlMzVmZjA0ODQwNWE4M2JkOGFiNjYwMDRjMDViKTsKICAgICAgICAKICAgIAogICAgICAgICAgICB2YXIgcG9wdXBfNWEyMDc5ZjVkM2M0NDRmNWIxZGVlMGZmOGQwYzk1YWYgPSBMLnBvcHVwKHttYXhXaWR0aDogJzMwMCcKICAgICAgICAgICAgCiAgICAgICAgICAgIH0pOwoKICAgICAgICAgICAgCiAgICAgICAgICAgICAgICB2YXIgaHRtbF80ZDE5NDkyMGJjOTE0Y2ZjODg4MzRmY2Q2MmYxNmIyNiA9ICQoJzxkaXYgaWQ9Imh0bWxfNGQxOTQ5MjBiYzkxNGNmYzg4ODM0ZmNkNjJmMTZiMjYiIHN0eWxlPSJ3aWR0aDogMTAwLjAlOyBoZWlnaHQ6IDEwMC4wJTsiPjk4MDQyICQzMTE1ODA8L2Rpdj4nKVswXTsKICAgICAgICAgICAgICAgIHBvcHVwXzVhMjA3OWY1ZDNjNDQ0ZjViMWRlZTBmZjhkMGM5NWFmLnNldENvbnRlbnQoaHRtbF80ZDE5NDkyMGJjOTE0Y2ZjODg4MzRmY2Q2MmYxNmIyNik7CiAgICAgICAgICAgIAoKICAgICAgICAgICAgbWFya2VyXzExN2NiZjExMWVjNjRiZjBiNjk4ZmMzZGU0YmU5NjEwLmJpbmRQb3B1cChwb3B1cF81YTIwNzlmNWQzYzQ0NGY1YjFkZWUwZmY4ZDBjOTVhZikKICAgICAgICAgICAgOwoKICAgICAgICAgICAgCiAgICAgICAgCiAgICAKICAgICAgICB2YXIgbWFya2VyX2Y4MWFkOTUwMjIwYjRhNjI4YjhkMWMwZWE0MWRjNDUzID0gTC5tYXJrZXIoCiAgICAgICAgICAgIFs0Ny40NzMwOTQ1NDU0NTQ1NSwgLTEyMS43NTkwODE4MTgxODE5M10sCiAgICAgICAgICAgIHsKICAgICAgICAgICAgICAgIGljb246IG5ldyBMLkljb24uRGVmYXVsdCgpCiAgICAgICAgICAgICAgICB9CiAgICAgICAgICAgICkuYWRkVG8obWFwXzM3MjVlMzVmZjA0ODQwNWE4M2JkOGFiNjYwMDRjMDViKTsKICAgICAgICAKICAgIAogICAgICAgICAgICB2YXIgcG9wdXBfY2UzZWZjM2NjOTU0NDExYzhiNGMzNzMyYWI5NWIzMTkgPSBMLnBvcHVwKHttYXhXaWR0aDogJzMwMCcKICAgICAgICAgICAgCiAgICAgICAgICAgIH0pOwoKICAgICAgICAgICAgCiAgICAgICAgICAgICAgICB2YXIgaHRtbF9iYzg5YzlhN2QxMmI0MTczOTIxNjFjNDRhYTY1MzFhOSA9ICQoJzxkaXYgaWQ9Imh0bWxfYmM4OWM5YTdkMTJiNDE3MzkyMTYxYzQ0YWE2NTMxYTkiIHN0eWxlPSJ3aWR0aDogMTAwLjAlOyBoZWlnaHQ6IDEwMC4wJTsiPjk4MDQ1ICQ0NDAyMzI8L2Rpdj4nKVswXTsKICAgICAgICAgICAgICAgIHBvcHVwX2NlM2VmYzNjYzk1NDQxMWM4YjRjMzczMmFiOTViMzE5LnNldENvbnRlbnQoaHRtbF9iYzg5YzlhN2QxMmI0MTczOTIxNjFjNDRhYTY1MzFhOSk7CiAgICAgICAgICAgIAoKICAgICAgICAgICAgbWFya2VyX2Y4MWFkOTUwMjIwYjRhNjI4YjhkMWMwZWE0MWRjNDUzLmJpbmRQb3B1cChwb3B1cF9jZTNlZmMzY2M5NTQ0MTFjOGI0YzM3MzJhYjk1YjMxOSkKICAgICAgICAgICAgOwoKICAgICAgICAgICAgCiAgICAgICAgCiAgICAKICAgICAgICB2YXIgbWFya2VyXzkxZTY2MjRkYzk4YzRkYzZiNGQyMDk2YzExYmQ0ZjBhID0gTC5tYXJrZXIoCiAgICAgICAgICAgIFs0Ny42ODA1Mzc4MDQ4NzgwNywgLTEyMi4xMTkyNzcwMDM0ODQzNF0sCiAgICAgICAgICAgIHsKICAgICAgICAgICAgICAgIGljb246IG5ldyBMLkljb24uRGVmYXVsdCgpCiAgICAgICAgICAgICAgICB9CiAgICAgICAgICAgICkuYWRkVG8obWFwXzM3MjVlMzVmZjA0ODQwNWE4M2JkOGFiNjYwMDRjMDViKTsKICAgICAgICAKICAgIAogICAgICAgICAgICB2YXIgcG9wdXBfZjM1OGYxZDExYjIzNDAzYmFkYTI0MTYwZmNkYmEwNDkgPSBMLnBvcHVwKHttYXhXaWR0aDogJzMwMCcKICAgICAgICAgICAgCiAgICAgICAgICAgIH0pOwoKICAgICAgICAgICAgCiAgICAgICAgICAgICAgICB2YXIgaHRtbF9iMTk5OTUyYmRlNmM0ZTcxODllMzkzYWVlMTkzOTlhMiA9ICQoJzxkaXYgaWQ9Imh0bWxfYjE5OTk1MmJkZTZjNGU3MTg5ZTM5M2FlZTE5Mzk5YTIiIHN0eWxlPSJ3aWR0aDogMTAwLjAlOyBoZWlnaHQ6IDEwMC4wJTsiPjk4MDUyICQ2NDUyNDQ8L2Rpdj4nKVswXTsKICAgICAgICAgICAgICAgIHBvcHVwX2YzNThmMWQxMWIyMzQwM2JhZGEyNDE2MGZjZGJhMDQ5LnNldENvbnRlbnQoaHRtbF9iMTk5OTUyYmRlNmM0ZTcxODllMzkzYWVlMTkzOTlhMik7CiAgICAgICAgICAgIAoKICAgICAgICAgICAgbWFya2VyXzkxZTY2MjRkYzk4YzRkYzZiNGQyMDk2YzExYmQ0ZjBhLmJpbmRQb3B1cChwb3B1cF9mMzU4ZjFkMTFiMjM0MDNiYWRhMjQxNjBmY2RiYTA0OSkKICAgICAgICAgICAgOwoKICAgICAgICAgICAgCiAgICAgICAgCiAgICAKICAgICAgICB2YXIgbWFya2VyX2U3ZjA2ZjlkNjY3OTRmYjhhYmEyZGViNDg5NTE4NjM4ID0gTC5tYXJrZXIoCiAgICAgICAgICAgIFs0Ny42ODAwMzE1MTM2NDc2MywgLTEyMi4wMjI4NzA5Njc3NDE5Ml0sCiAgICAgICAgICAgIHsKICAgICAgICAgICAgICAgIGljb246IG5ldyBMLkljb24uRGVmYXVsdCgpCiAgICAgICAgICAgICAgICB9CiAgICAgICAgICAgICkuYWRkVG8obWFwXzM3MjVlMzVmZjA0ODQwNWE4M2JkOGFiNjYwMDRjMDViKTsKICAgICAgICAKICAgIAogICAgICAgICAgICB2YXIgcG9wdXBfMjliM2YzZjFhNzg2NGEyMGFjMmQ0MGI2ZGNmNjFmMGEgPSBMLnBvcHVwKHttYXhXaWR0aDogJzMwMCcKICAgICAgICAgICAgCiAgICAgICAgICAgIH0pOwoKICAgICAgICAgICAgCiAgICAgICAgICAgICAgICB2YXIgaHRtbF9kYWVlZWY3ODk0OTY0NWFiOGI1MTEwOWI5YzA4ODA4ZCA9ICQoJzxkaXYgaWQ9Imh0bWxfZGFlZWVmNzg5NDk2NDVhYjhiNTExMDliOWMwODgwOGQiIHN0eWxlPSJ3aWR0aDogMTAwLjAlOyBoZWlnaHQ6IDEwMC4wJTsiPjk4MDUzICQ2NzcyMTU8L2Rpdj4nKVswXTsKICAgICAgICAgICAgICAgIHBvcHVwXzI5YjNmM2YxYTc4NjRhMjBhYzJkNDBiNmRjZjYxZjBhLnNldENvbnRlbnQoaHRtbF9kYWVlZWY3ODk0OTY0NWFiOGI1MTEwOWI5YzA4ODA4ZCk7CiAgICAgICAgICAgIAoKICAgICAgICAgICAgbWFya2VyX2U3ZjA2ZjlkNjY3OTRmYjhhYmEyZGViNDg5NTE4NjM4LmJpbmRQb3B1cChwb3B1cF8yOWIzZjNmMWE3ODY0YTIwYWMyZDQwYjZkY2Y2MWYwYSkKICAgICAgICAgICAgOwoKICAgICAgICAgICAgCiAgICAgICAgCiAgICAKICAgICAgICB2YXIgbWFya2VyX2JmNTRmNTY5OTUyNjRiYmFiMGY4ODhkMTViMzQwMWFlID0gTC5tYXJrZXIoCiAgICAgICAgICAgIFs0Ny40NTg2NjYwNDQ3NzYxNCwgLTEyMi4yMDI3NjExOTQwMjk3Nl0sCiAgICAgICAgICAgIHsKICAgICAgICAgICAgICAgIGljb246IG5ldyBMLkljb24uRGVmYXVsdCgpCiAgICAgICAgICAgICAgICB9CiAgICAgICAgICAgICkuYWRkVG8obWFwXzM3MjVlMzVmZjA0ODQwNWE4M2JkOGFiNjYwMDRjMDViKTsKICAgICAgICAKICAgIAogICAgICAgICAgICB2YXIgcG9wdXBfZTU2MGU1MDU1MjFjNGQ2NDk5NGE4YmEyNmMxZjU3NjIgPSBMLnBvcHVwKHttYXhXaWR0aDogJzMwMCcKICAgICAgICAgICAgCiAgICAgICAgICAgIH0pOwoKICAgICAgICAgICAgCiAgICAgICAgICAgICAgICB2YXIgaHRtbF82OWFjZTExMjljOTE0YzQ3ODJmMTZlNzg4NjVjMDEwOCA9ICQoJzxkaXYgaWQ9Imh0bWxfNjlhY2UxMTI5YzkxNGM0NzgyZjE2ZTc4ODY1YzAxMDgiIHN0eWxlPSJ3aWR0aDogMTAwLjAlOyBoZWlnaHQ6IDEwMC4wJTsiPjk4MDU1ICQzMDQyNjI8L2Rpdj4nKVswXTsKICAgICAgICAgICAgICAgIHBvcHVwX2U1NjBlNTA1NTIxYzRkNjQ5OTRhOGJhMjZjMWY1NzYyLnNldENvbnRlbnQoaHRtbF82OWFjZTExMjljOTE0YzQ3ODJmMTZlNzg4NjVjMDEwOCk7CiAgICAgICAgICAgIAoKICAgICAgICAgICAgbWFya2VyX2JmNTRmNTY5OTUyNjRiYmFiMGY4ODhkMTViMzQwMWFlLmJpbmRQb3B1cChwb3B1cF9lNTYwZTUwNTUyMWM0ZDY0OTk0YThiYTI2YzFmNTc2MikKICAgICAgICAgICAgOwoKICAgICAgICAgICAgCiAgICAgICAgCiAgICAKICAgICAgICB2YXIgbWFya2VyX2E0ODMzNTYwZmY0YTQ4MWFiNTExYmIwNjY1ZWVkNGFlID0gTC5tYXJrZXIoCiAgICAgICAgICAgIFs0Ny41MDk2NTcxNDI4NTcxNCwgLTEyMi4xODI3NzgzMjUxMjMxOF0sCiAgICAgICAgICAgIHsKICAgICAgICAgICAgICAgIGljb246IG5ldyBMLkljb24uRGVmYXVsdCgpCiAgICAgICAgICAgICAgICB9CiAgICAgICAgICAgICkuYWRkVG8obWFwXzM3MjVlMzVmZjA0ODQwNWE4M2JkOGFiNjYwMDRjMDViKTsKICAgICAgICAKICAgIAogICAgICAgICAgICB2YXIgcG9wdXBfYmQxZjVlMDliY2VjNDc3ZGIxZDZkNGY4YzM0MWI4ZjMgPSBMLnBvcHVwKHttYXhXaWR0aDogJzMwMCcKICAgICAgICAgICAgCiAgICAgICAgICAgIH0pOwoKICAgICAgICAgICAgCiAgICAgICAgICAgICAgICB2YXIgaHRtbF9kNTlmNmFiZWM2YTU0NWNmODk5YjhhZjRkMDVjOGI4ZSA9ICQoJzxkaXYgaWQ9Imh0bWxfZDU5ZjZhYmVjNmE1NDVjZjg5OWI4YWY0ZDA1YzhiOGUiIHN0eWxlPSJ3aWR0aDogMTAwLjAlOyBoZWlnaHQ6IDEwMC4wJTsiPjk4MDU2ICQ0MjA4OTU8L2Rpdj4nKVswXTsKICAgICAgICAgICAgICAgIHBvcHVwX2JkMWY1ZTA5YmNlYzQ3N2RiMWQ2ZDRmOGMzNDFiOGYzLnNldENvbnRlbnQoaHRtbF9kNTlmNmFiZWM2YTU0NWNmODk5YjhhZjRkMDVjOGI4ZSk7CiAgICAgICAgICAgIAoKICAgICAgICAgICAgbWFya2VyX2E0ODMzNTYwZmY0YTQ4MWFiNTExYmIwNjY1ZWVkNGFlLmJpbmRQb3B1cChwb3B1cF9iZDFmNWUwOWJjZWM0NzdkYjFkNmQ0ZjhjMzQxYjhmMykKICAgICAgICAgICAgOwoKICAgICAgICAgICAgCiAgICAgICAgCiAgICAKICAgICAgICB2YXIgbWFya2VyXzkwNTQ2YjM3ZTE1NjQ3ZGM5MTg2MzM1ZjIxMDRkYjg2ID0gTC5tYXJrZXIoCiAgICAgICAgICAgIFs0Ny40NDYwODQ4MzUxNjQ4MiwgLTEyMi4xNDYxNDI4NTcxNDI4Nl0sCiAgICAgICAgICAgIHsKICAgICAgICAgICAgICAgIGljb246IG5ldyBMLkljb24uRGVmYXVsdCgpCiAgICAgICAgICAgICAgICB9CiAgICAgICAgICAgICkuYWRkVG8obWFwXzM3MjVlMzVmZjA0ODQwNWE4M2JkOGFiNjYwMDRjMDViKTsKICAgICAgICAKICAgIAogICAgICAgICAgICB2YXIgcG9wdXBfMzU1MWQ4NmZmM2E0NGViMzk3MTgwNzJlODljMGVlNGYgPSBMLnBvcHVwKHttYXhXaWR0aDogJzMwMCcKICAgICAgICAgICAgCiAgICAgICAgICAgIH0pOwoKICAgICAgICAgICAgCiAgICAgICAgICAgICAgICB2YXIgaHRtbF9lM2E0ZjBkZGZiZjg0YjNhYWY4MDI4Y2U5NmIwZmEzOCA9ICQoJzxkaXYgaWQ9Imh0bWxfZTNhNGYwZGRmYmY4NGIzYWFmODAyOGNlOTZiMGZhMzgiIHN0eWxlPSJ3aWR0aDogMTAwLjAlOyBoZWlnaHQ6IDEwMC4wJTsiPjk4MDU4ICQzNTM2MTk8L2Rpdj4nKVswXTsKICAgICAgICAgICAgICAgIHBvcHVwXzM1NTFkODZmZjNhNDRlYjM5NzE4MDcyZTg5YzBlZTRmLnNldENvbnRlbnQoaHRtbF9lM2E0ZjBkZGZiZjg0YjNhYWY4MDI4Y2U5NmIwZmEzOCk7CiAgICAgICAgICAgIAoKICAgICAgICAgICAgbWFya2VyXzkwNTQ2YjM3ZTE1NjQ3ZGM5MTg2MzM1ZjIxMDRkYjg2LmJpbmRQb3B1cChwb3B1cF8zNTUxZDg2ZmYzYTQ0ZWIzOTcxODA3MmU4OWMwZWU0ZikKICAgICAgICAgICAgOwoKICAgICAgICAgICAgCiAgICAgICAgCiAgICAKICAgICAgICB2YXIgbWFya2VyX2VhZGU0MjQ1M2Q2NzQ3NTc4ZmEwMDNiNmJhYWI0YzhhID0gTC5tYXJrZXIoCiAgICAgICAgICAgIFs0Ny40OTI3MzYxMTExMTExMiwgLTEyMi4xMzkwNDcwMDg1NDY5NF0sCiAgICAgICAgICAgIHsKICAgICAgICAgICAgICAgIGljb246IG5ldyBMLkljb24uRGVmYXVsdCgpCiAgICAgICAgICAgICAgICB9CiAgICAgICAgICAgICkuYWRkVG8obWFwXzM3MjVlMzVmZjA0ODQwNWE4M2JkOGFiNjYwMDRjMDViKTsKICAgICAgICAKICAgIAogICAgICAgICAgICB2YXIgcG9wdXBfMWM2ZmJlZWYzOWFjNDhlN2I4YTNlNjhhMGFhMzMwMjggPSBMLnBvcHVwKHttYXhXaWR0aDogJzMwMCcKICAgICAgICAgICAgCiAgICAgICAgICAgIH0pOwoKICAgICAgICAgICAgCiAgICAgICAgICAgICAgICB2YXIgaHRtbF9lZTY5NzkzMjY5Nzg0NjQwYTgzZmViOTQ1ZmY2M2ViZCA9ICQoJzxkaXYgaWQ9Imh0bWxfZWU2OTc5MzI2OTc4NDY0MGE4M2ZlYjk0NWZmNjNlYmQiIHN0eWxlPSJ3aWR0aDogMTAwLjAlOyBoZWlnaHQ6IDEwMC4wJTsiPjk4MDU5ICQ0OTM2MjU8L2Rpdj4nKVswXTsKICAgICAgICAgICAgICAgIHBvcHVwXzFjNmZiZWVmMzlhYzQ4ZTdiOGEzZTY4YTBhYTMzMDI4LnNldENvbnRlbnQoaHRtbF9lZTY5NzkzMjY5Nzg0NjQwYTgzZmViOTQ1ZmY2M2ViZCk7CiAgICAgICAgICAgIAoKICAgICAgICAgICAgbWFya2VyX2VhZGU0MjQ1M2Q2NzQ3NTc4ZmEwMDNiNmJhYWI0YzhhLmJpbmRQb3B1cChwb3B1cF8xYzZmYmVlZjM5YWM0OGU3YjhhM2U2OGEwYWEzMzAyOCkKICAgICAgICAgICAgOwoKICAgICAgICAgICAgCiAgICAgICAgCiAgICAKICAgICAgICB2YXIgbWFya2VyX2MxYWY5OGUxNjZmZTRjNzNhMmRmNjEzYjJhMTNjMjhlID0gTC5tYXJrZXIoCiAgICAgICAgICAgIFs0Ny41MzE3NjUyNTk3NDAyMiwgLTEyMS44NjIxNTU4NDQxNTU4MV0sCiAgICAgICAgICAgIHsKICAgICAgICAgICAgICAgIGljb246IG5ldyBMLkljb24uRGVmYXVsdCgpCiAgICAgICAgICAgICAgICB9CiAgICAgICAgICAgICkuYWRkVG8obWFwXzM3MjVlMzVmZjA0ODQwNWE4M2JkOGFiNjYwMDRjMDViKTsKICAgICAgICAKICAgIAogICAgICAgICAgICB2YXIgcG9wdXBfMDZhZDgzN2FlNWE2NGQ5MjllZGU3MDI2OTRmZGU5MzYgPSBMLnBvcHVwKHttYXhXaWR0aDogJzMwMCcKICAgICAgICAgICAgCiAgICAgICAgICAgIH0pOwoKICAgICAgICAgICAgCiAgICAgICAgICAgICAgICB2YXIgaHRtbF8wNDI3YWNmNDZlYTU0NWQ0YmYyMmFkMjVjMDM4NjY2ZiA9ICQoJzxkaXYgaWQ9Imh0bWxfMDQyN2FjZjQ2ZWE1NDVkNGJmMjJhZDI1YzAzODY2NmYiIHN0eWxlPSJ3aWR0aDogMTAwLjAlOyBoZWlnaHQ6IDEwMC4wJTsiPjk4MDY1ICQ1Mjk2Mjk8L2Rpdj4nKVswXTsKICAgICAgICAgICAgICAgIHBvcHVwXzA2YWQ4MzdhZTVhNjRkOTI5ZWRlNzAyNjk0ZmRlOTM2LnNldENvbnRlbnQoaHRtbF8wNDI3YWNmNDZlYTU0NWQ0YmYyMmFkMjVjMDM4NjY2Zik7CiAgICAgICAgICAgIAoKICAgICAgICAgICAgbWFya2VyX2MxYWY5OGUxNjZmZTRjNzNhMmRmNjEzYjJhMTNjMjhlLmJpbmRQb3B1cChwb3B1cF8wNmFkODM3YWU1YTY0ZDkyOWVkZTcwMjY5NGZkZTkzNikKICAgICAgICAgICAgOwoKICAgICAgICAgICAgCiAgICAgICAgCiAgICAKICAgICAgICB2YXIgbWFya2VyXzg3NDkxZWM4NzI3MzQ5YTVhZTlmNWI3OGMwMTFlM2JjID0gTC5tYXJrZXIoCiAgICAgICAgICAgIFs0Ny40MTc0MjA1MTI4MjA0OSwgLTEyMi40NjM1ODk3NDM1ODk2N10sCiAgICAgICAgICAgIHsKICAgICAgICAgICAgICAgIGljb246IG5ldyBMLkljb24uRGVmYXVsdCgpCiAgICAgICAgICAgICAgICB9CiAgICAgICAgICAgICkuYWRkVG8obWFwXzM3MjVlMzVmZjA0ODQwNWE4M2JkOGFiNjYwMDRjMDViKTsKICAgICAgICAKICAgIAogICAgICAgICAgICB2YXIgcG9wdXBfZjI4ODkyYzk4MTJkNDIyMGIzYWYzYTA2NWVjYTUyNWUgPSBMLnBvcHVwKHttYXhXaWR0aDogJzMwMCcKICAgICAgICAgICAgCiAgICAgICAgICAgIH0pOwoKICAgICAgICAgICAgCiAgICAgICAgICAgICAgICB2YXIgaHRtbF9iZGI0ZGExZTE2NTQ0ZDY5YmI0NWVhMzNjYWFiNGJkYSA9ICQoJzxkaXYgaWQ9Imh0bWxfYmRiNGRhMWUxNjU0NGQ2OWJiNDVlYTMzY2FhYjRiZGEiIHN0eWxlPSJ3aWR0aDogMTAwLjAlOyBoZWlnaHQ6IDEwMC4wJTsiPjk4MDcwICQ0ODkzODI8L2Rpdj4nKVswXTsKICAgICAgICAgICAgICAgIHBvcHVwX2YyODg5MmM5ODEyZDQyMjBiM2FmM2EwNjVlY2E1MjVlLnNldENvbnRlbnQoaHRtbF9iZGI0ZGExZTE2NTQ0ZDY5YmI0NWVhMzNjYWFiNGJkYSk7CiAgICAgICAgICAgIAoKICAgICAgICAgICAgbWFya2VyXzg3NDkxZWM4NzI3MzQ5YTVhZTlmNWI3OGMwMTFlM2JjLmJpbmRQb3B1cChwb3B1cF9mMjg4OTJjOTgxMmQ0MjIwYjNhZjNhMDY1ZWNhNTI1ZSkKICAgICAgICAgICAgOwoKICAgICAgICAgICAgCiAgICAgICAgCiAgICAKICAgICAgICB2YXIgbWFya2VyXzAyMGE2NjhkMjc2NTRkMWFiYzExMjUzZTczM2RjMWZmID0gTC5tYXJrZXIoCiAgICAgICAgICAgIFs0Ny43NTEwMTY0ODM1MTY0OTQsIC0xMjIuMTMxOTc0MzU4OTc0MzZdLAogICAgICAgICAgICB7CiAgICAgICAgICAgICAgICBpY29uOiBuZXcgTC5JY29uLkRlZmF1bHQoKQogICAgICAgICAgICAgICAgfQogICAgICAgICAgICApLmFkZFRvKG1hcF8zNzI1ZTM1ZmYwNDg0MDVhODNiZDhhYjY2MDA0YzA1Yik7CiAgICAgICAgCiAgICAKICAgICAgICAgICAgdmFyIHBvcHVwXzk2MjI5YWE2MGQ3MjQ1NzI5OWY2MTViZTNhOGMzNjFmID0gTC5wb3B1cCh7bWF4V2lkdGg6ICczMDAnCiAgICAgICAgICAgIAogICAgICAgICAgICB9KTsKCiAgICAgICAgICAgIAogICAgICAgICAgICAgICAgdmFyIGh0bWxfZmM0MzUzNzczZTFkNGNhMmFhN2FiY2U0YzY5YWY5OWIgPSAkKCc8ZGl2IGlkPSJodG1sX2ZjNDM1Mzc3M2UxZDRjYTJhYTdhYmNlNGM2OWFmOTliIiBzdHlsZT0id2lkdGg6IDEwMC4wJTsgaGVpZ2h0OiAxMDAuMCU7Ij45ODA3MiAkNTcwMDczPC9kaXY+JylbMF07CiAgICAgICAgICAgICAgICBwb3B1cF85NjIyOWFhNjBkNzI0NTcyOTlmNjE1YmUzYThjMzYxZi5zZXRDb250ZW50KGh0bWxfZmM0MzUzNzczZTFkNGNhMmFhN2FiY2U0YzY5YWY5OWIpOwogICAgICAgICAgICAKCiAgICAgICAgICAgIG1hcmtlcl8wMjBhNjY4ZDI3NjU0ZDFhYmMxMTI1M2U3MzNkYzFmZi5iaW5kUG9wdXAocG9wdXBfOTYyMjlhYTYwZDcyNDU3Mjk5ZjYxNWJlM2E4YzM2MWYpCiAgICAgICAgICAgIDsKCiAgICAgICAgICAgIAogICAgICAgIAogICAgCiAgICAgICAgdmFyIG1hcmtlcl9hMmI4ODM0OTk1MmI0NzgwYmFiNDZiMDRlODYyMGZjMyA9IEwubWFya2VyKAogICAgICAgICAgICBbNDcuNjI0MDg0MzUzNzQxNDk1LCAtMTIyLjA0NDc4NDU4MDQ5ODg3XSwKICAgICAgICAgICAgewogICAgICAgICAgICAgICAgaWNvbjogbmV3IEwuSWNvbi5EZWZhdWx0KCkKICAgICAgICAgICAgICAgIH0KICAgICAgICAgICAgKS5hZGRUbyhtYXBfMzcyNWUzNWZmMDQ4NDA1YTgzYmQ4YWI2NjAwNGMwNWIpOwogICAgICAgIAogICAgCiAgICAgICAgICAgIHZhciBwb3B1cF85ZjBhYjA0ZTdkZGU0YmVmYTQ2MjBhZjI5NGQ1MTM0OCA9IEwucG9wdXAoe21heFdpZHRoOiAnMzAwJwogICAgICAgICAgICAKICAgICAgICAgICAgfSk7CgogICAgICAgICAgICAKICAgICAgICAgICAgICAgIHZhciBodG1sXzQ1YTA1YWIwMTVhOTQ1ZGZhNjcyZjJjODg1MGU0ZjViID0gJCgnPGRpdiBpZD0iaHRtbF80NWEwNWFiMDE1YTk0NWRmYTY3MmYyYzg4NTBlNGY1YiIgc3R5bGU9IndpZHRoOiAxMDAuMCU7IGhlaWdodDogMTAwLjAlOyI+OTgwNzQgJDY4NTY3NTwvZGl2PicpWzBdOwogICAgICAgICAgICAgICAgcG9wdXBfOWYwYWIwNGU3ZGRlNGJlZmE0NjIwYWYyOTRkNTEzNDguc2V0Q29udGVudChodG1sXzQ1YTA1YWIwMTVhOTQ1ZGZhNjcyZjJjODg1MGU0ZjViKTsKICAgICAgICAgICAgCgogICAgICAgICAgICBtYXJrZXJfYTJiODgzNDk5NTJiNDc4MGJhYjQ2YjA0ZTg2MjBmYzMuYmluZFBvcHVwKHBvcHVwXzlmMGFiMDRlN2RkZTRiZWZhNDYyMGFmMjk0ZDUxMzQ4KQogICAgICAgICAgICA7CgogICAgICAgICAgICAKICAgICAgICAKICAgIAogICAgICAgIHZhciBtYXJrZXJfZjVlNTU2NTMyZDcwNDdjYjhmMGE4OWFiM2IyYWI2ODAgPSBMLm1hcmtlcigKICAgICAgICAgICAgWzQ3LjU4NzQ5MDgwNzc5OTM3LCAtMTIyLjAyMjUyMzY3Njg4MDI1XSwKICAgICAgICAgICAgewogICAgICAgICAgICAgICAgaWNvbjogbmV3IEwuSWNvbi5EZWZhdWx0KCkKICAgICAgICAgICAgICAgIH0KICAgICAgICAgICAgKS5hZGRUbyhtYXBfMzcyNWUzNWZmMDQ4NDA1YTgzYmQ4YWI2NjAwNGMwNWIpOwogICAgICAgIAogICAgCiAgICAgICAgICAgIHZhciBwb3B1cF9kNmY3Y2UyZDc1ZjQ0MzJmYTJiZGMxZjA5MDBkNGZmYSA9IEwucG9wdXAoe21heFdpZHRoOiAnMzAwJwogICAgICAgICAgICAKICAgICAgICAgICAgfSk7CgogICAgICAgICAgICAKICAgICAgICAgICAgICAgIHZhciBodG1sX2FmOWQzMTMwYmU5ZDRlOWU4NGM2NDRhZDlmM2EzMWIwID0gJCgnPGRpdiBpZD0iaHRtbF9hZjlkMzEzMGJlOWQ0ZTllODRjNjQ0YWQ5ZjNhMzFiMCIgc3R5bGU9IndpZHRoOiAxMDAuMCU7IGhlaWdodDogMTAwLjAlOyI+OTgwNzUgJDc5MDczNDwvZGl2PicpWzBdOwogICAgICAgICAgICAgICAgcG9wdXBfZDZmN2NlMmQ3NWY0NDMyZmEyYmRjMWYwOTAwZDRmZmEuc2V0Q29udGVudChodG1sX2FmOWQzMTMwYmU5ZDRlOWU4NGM2NDRhZDlmM2EzMWIwKTsKICAgICAgICAgICAgCgogICAgICAgICAgICBtYXJrZXJfZjVlNTU2NTMyZDcwNDdjYjhmMGE4OWFiM2IyYWI2ODAuYmluZFBvcHVwKHBvcHVwX2Q2ZjdjZTJkNzVmNDQzMmZhMmJkYzFmMDkwMGQ0ZmZhKQogICAgICAgICAgICA7CgogICAgICAgICAgICAKICAgICAgICAKICAgIAogICAgICAgIHZhciBtYXJrZXJfNzMxNDkxNDUxMzlhNGU1YjlkZDcyN2U1ZDAwMDA4MTcgPSBMLm1hcmtlcigKICAgICAgICAgICAgWzQ3Ljc0NTkyMTcxNzE3MTcsIC0xMjIuMDYxMjAyMDIwMjAyMDJdLAogICAgICAgICAgICB7CiAgICAgICAgICAgICAgICBpY29uOiBuZXcgTC5JY29uLkRlZmF1bHQoKQogICAgICAgICAgICAgICAgfQogICAgICAgICAgICApLmFkZFRvKG1hcF8zNzI1ZTM1ZmYwNDg0MDVhODNiZDhhYjY2MDA0YzA1Yik7CiAgICAgICAgCiAgICAKICAgICAgICAgICAgdmFyIHBvcHVwXzkyNzg1ZTUzZGU4MzRjYjU4NTZkYWI0NTg5Y2JjYWQ3ID0gTC5wb3B1cCh7bWF4V2lkdGg6ICczMDAnCiAgICAgICAgICAgIAogICAgICAgICAgICB9KTsKCiAgICAgICAgICAgIAogICAgICAgICAgICAgICAgdmFyIGh0bWxfMmVjM2RiYzdkODUwNDk5NmJiNWUyYmRkOGU5MmRmNGQgPSAkKCc8ZGl2IGlkPSJodG1sXzJlYzNkYmM3ZDg1MDQ5OTZiYjVlMmJkZDhlOTJkZjRkIiBzdHlsZT0id2lkdGg6IDEwMC4wJTsgaGVpZ2h0OiAxMDAuMCU7Ij45ODA3NyAkNjgyODg1PC9kaXY+JylbMF07CiAgICAgICAgICAgICAgICBwb3B1cF85Mjc4NWU1M2RlODM0Y2I1ODU2ZGFiNDU4OWNiY2FkNy5zZXRDb250ZW50KGh0bWxfMmVjM2RiYzdkODUwNDk5NmJiNWUyYmRkOGU5MmRmNGQpOwogICAgICAgICAgICAKCiAgICAgICAgICAgIG1hcmtlcl83MzE0OTE0NTEzOWE0ZTViOWRkNzI3ZTVkMDAwMDgxNy5iaW5kUG9wdXAocG9wdXBfOTI3ODVlNTNkZTgzNGNiNTg1NmRhYjQ1ODljYmNhZDcpCiAgICAgICAgICAgIDsKCiAgICAgICAgICAgIAogICAgICAgIAogICAgCiAgICAgICAgdmFyIG1hcmtlcl9jNzNjZWFmODU4MTM0OWE2OTcxZmMwMzBlZjExODEyNiA9IEwubWFya2VyKAogICAgICAgICAgICBbNDcuMzAxODM2NDY3MjM2NDIsIC0xMjIuMTY3OTk3MTUwOTk3MThdLAogICAgICAgICAgICB7CiAgICAgICAgICAgICAgICBpY29uOiBuZXcgTC5JY29uLkRlZmF1bHQoKQogICAgICAgICAgICAgICAgfQogICAgICAgICAgICApLmFkZFRvKG1hcF8zNzI1ZTM1ZmYwNDg0MDVhODNiZDhhYjY2MDA0YzA1Yik7CiAgICAgICAgCiAgICAKICAgICAgICAgICAgdmFyIHBvcHVwX2Q1OWQ4YTk1MTQ3NTQ2MTc5NDVhMWNlOGZmNTAwYzUxID0gTC5wb3B1cCh7bWF4V2lkdGg6ICczMDAnCiAgICAgICAgICAgIAogICAgICAgICAgICB9KTsKCiAgICAgICAgICAgIAogICAgICAgICAgICAgICAgdmFyIGh0bWxfNGNjYThhNGMxMmUyNDcyOTg4OTM2OTFjZmMxNmI4YTAgPSAkKCc8ZGl2IGlkPSJodG1sXzRjY2E4YTRjMTJlMjQ3Mjk4ODkzNjkxY2ZjMTZiOGEwIiBzdHlsZT0id2lkdGg6IDEwMC4wJTsgaGVpZ2h0OiAxMDAuMCU7Ij45ODA5MiAkMzM0OTIxPC9kaXY+JylbMF07CiAgICAgICAgICAgICAgICBwb3B1cF9kNTlkOGE5NTE0NzU0NjE3OTQ1YTFjZThmZjUwMGM1MS5zZXRDb250ZW50KGh0bWxfNGNjYThhNGMxMmUyNDcyOTg4OTM2OTFjZmMxNmI4YTApOwogICAgICAgICAgICAKCiAgICAgICAgICAgIG1hcmtlcl9jNzNjZWFmODU4MTM0OWE2OTcxZmMwMzBlZjExODEyNi5iaW5kUG9wdXAocG9wdXBfZDU5ZDhhOTUxNDc1NDYxNzk0NWExY2U4ZmY1MDBjNTEpCiAgICAgICAgICAgIDsKCiAgICAgICAgICAgIAogICAgICAgIAogICAgCiAgICAgICAgdmFyIG1hcmtlcl9mZDE3MDViZjE1YTA0ZjBkYWJkZWQyMmMxMjI2NzQ4OCA9IEwubWFya2VyKAogICAgICAgICAgICBbNDcuNjM0NTkxMzQ2MTUzODc2LCAtMTIyLjMyMjI0OTk5OTk5OTkxXSwKICAgICAgICAgICAgewogICAgICAgICAgICAgICAgaWNvbjogbmV3IEwuSWNvbi5EZWZhdWx0KCkKICAgICAgICAgICAgICAgIH0KICAgICAgICAgICAgKS5hZGRUbyhtYXBfMzcyNWUzNWZmMDQ4NDA1YTgzYmQ4YWI2NjAwNGMwNWIpOwogICAgICAgIAogICAgCiAgICAgICAgICAgIHZhciBwb3B1cF83YzFkZjU4ZGNlYTI0NzEzYTRjNDViNzJiNWE3ZGMwOCA9IEwucG9wdXAoe21heFdpZHRoOiAnMzAwJwogICAgICAgICAgICAKICAgICAgICAgICAgfSk7CgogICAgICAgICAgICAKICAgICAgICAgICAgICAgIHZhciBodG1sXzUzYTkxNjc0ZTZkMjQ0NWY4MjZhZjVlNzQ3MjMyOWQ5ID0gJCgnPGRpdiBpZD0iaHRtbF81M2E5MTY3NGU2ZDI0NDVmODI2YWY1ZTc0NzIzMjlkOSIgc3R5bGU9IndpZHRoOiAxMDAuMCU7IGhlaWdodDogMTAwLjAlOyI+OTgxMDIgJDg5OTYwNzwvZGl2PicpWzBdOwogICAgICAgICAgICAgICAgcG9wdXBfN2MxZGY1OGRjZWEyNDcxM2E0YzQ1YjcyYjVhN2RjMDguc2V0Q29udGVudChodG1sXzUzYTkxNjc0ZTZkMjQ0NWY4MjZhZjVlNzQ3MjMyOWQ5KTsKICAgICAgICAgICAgCgogICAgICAgICAgICBtYXJrZXJfZmQxNzA1YmYxNWEwNGYwZGFiZGVkMjJjMTIyNjc0ODguYmluZFBvcHVwKHBvcHVwXzdjMWRmNThkY2VhMjQ3MTNhNGM0NWI3MmI1YTdkYzA4KQogICAgICAgICAgICA7CgogICAgICAgICAgICAKICAgICAgICAKICAgIAogICAgICAgIHZhciBtYXJrZXJfYjdmYWExNjBkMGY5NGYxM2EzMWQwNGZlODRmZWNiMGIgPSBMLm1hcmtlcigKICAgICAgICAgICAgWzQ3LjY3NjAyMzkyMDI2NTg1LCAtMTIyLjM0NDEyOTU2ODEwNjQ4XSwKICAgICAgICAgICAgewogICAgICAgICAgICAgICAgaWNvbjogbmV3IEwuSWNvbi5EZWZhdWx0KCkKICAgICAgICAgICAgICAgIH0KICAgICAgICAgICAgKS5hZGRUbyhtYXBfMzcyNWUzNWZmMDQ4NDA1YTgzYmQ4YWI2NjAwNGMwNWIpOwogICAgICAgIAogICAgCiAgICAgICAgICAgIHZhciBwb3B1cF9kYjRiYmM1ODE2NDg0NGQ5YTU5Y2U5ZmFmZWY2NDlhMyA9IEwucG9wdXAoe21heFdpZHRoOiAnMzAwJwogICAgICAgICAgICAKICAgICAgICAgICAgfSk7CgogICAgICAgICAgICAKICAgICAgICAgICAgICAgIHZhciBodG1sXzNhY2JiZTE4NGFhZjQ5NjU5YWEwMGQ3NDViMGQzN2M0ID0gJCgnPGRpdiBpZD0iaHRtbF8zYWNiYmUxODRhYWY0OTY1OWFhMDBkNzQ1YjBkMzdjNCIgc3R5bGU9IndpZHRoOiAxMDAuMCU7IGhlaWdodDogMTAwLjAlOyI+OTgxMDMgJDU4NTA0ODwvZGl2PicpWzBdOwogICAgICAgICAgICAgICAgcG9wdXBfZGI0YmJjNTgxNjQ4NDRkOWE1OWNlOWZhZmVmNjQ5YTMuc2V0Q29udGVudChodG1sXzNhY2JiZTE4NGFhZjQ5NjU5YWEwMGQ3NDViMGQzN2M0KTsKICAgICAgICAgICAgCgogICAgICAgICAgICBtYXJrZXJfYjdmYWExNjBkMGY5NGYxM2EzMWQwNGZlODRmZWNiMGIuYmluZFBvcHVwKHBvcHVwX2RiNGJiYzU4MTY0ODQ0ZDlhNTljZTlmYWZlZjY0OWEzKQogICAgICAgICAgICA7CgogICAgICAgICAgICAKICAgICAgICAKICAgIAogICAgICAgIHZhciBtYXJrZXJfOWRkY2I4MTliZWY1NGQxN2I0ZDRhZWY3YjNjMWZmN2YgPSBMLm1hcmtlcigKICAgICAgICAgICAgWzQ3LjY2NTA2NjgxMjIyNzA0NiwgLTEyMi4yOTQzNDA2MTEzNTM3Nl0sCiAgICAgICAgICAgIHsKICAgICAgICAgICAgICAgIGljb246IG5ldyBMLkljb24uRGVmYXVsdCgpCiAgICAgICAgICAgICAgICB9CiAgICAgICAgICAgICkuYWRkVG8obWFwXzM3MjVlMzVmZjA0ODQwNWE4M2JkOGFiNjYwMDRjMDViKTsKICAgICAgICAKICAgIAogICAgICAgICAgICB2YXIgcG9wdXBfNDQ2MWVhOTZkZWQ0NGMwZjgxMDFjMjI0YTU5NmJhMTQgPSBMLnBvcHVwKHttYXhXaWR0aDogJzMwMCcKICAgICAgICAgICAgCiAgICAgICAgICAgIH0pOwoKICAgICAgICAgICAgCiAgICAgICAgICAgICAgICB2YXIgaHRtbF8xYjgyN2VjNGI2Nzc0NjA1OWM5MmMwNzRhMTBmMTNmZiA9ICQoJzxkaXYgaWQ9Imh0bWxfMWI4MjdlYzRiNjc3NDYwNTljOTJjMDc0YTEwZjEzZmYiIHN0eWxlPSJ3aWR0aDogMTAwLjAlOyBoZWlnaHQ6IDEwMC4wJTsiPjk4MTA1ICQ4NjMyMjg8L2Rpdj4nKVswXTsKICAgICAgICAgICAgICAgIHBvcHVwXzQ0NjFlYTk2ZGVkNDRjMGY4MTAxYzIyNGE1OTZiYTE0LnNldENvbnRlbnQoaHRtbF8xYjgyN2VjNGI2Nzc0NjA1OWM5MmMwNzRhMTBmMTNmZik7CiAgICAgICAgICAgIAoKICAgICAgICAgICAgbWFya2VyXzlkZGNiODE5YmVmNTRkMTdiNGQ0YWVmN2IzYzFmZjdmLmJpbmRQb3B1cChwb3B1cF80NDYxZWE5NmRlZDQ0YzBmODEwMWMyMjRhNTk2YmExNCkKICAgICAgICAgICAgOwoKICAgICAgICAgICAgCiAgICAgICAgCiAgICAKICAgICAgICB2YXIgbWFya2VyXzIxMzcwZDZiNDYxNDQxNzE5MWMzNzAwZjg4ODQ1YmEyID0gTC5tYXJrZXIoCiAgICAgICAgICAgIFs0Ny41MzYxOTY0MTc5MTA0MjUsIC0xMjIuMzU2ODA4OTU1MjIzOTVdLAogICAgICAgICAgICB7CiAgICAgICAgICAgICAgICBpY29uOiBuZXcgTC5JY29uLkRlZmF1bHQoKQogICAgICAgICAgICAgICAgfQogICAgICAgICAgICApLmFkZFRvKG1hcF8zNzI1ZTM1ZmYwNDg0MDVhODNiZDhhYjY2MDA0YzA1Yik7CiAgICAgICAgCiAgICAKICAgICAgICAgICAgdmFyIHBvcHVwXzdjNTY5MzA0NmJmODQxNjNiNmI5ZWUzNWZlOGRlM2EyID0gTC5wb3B1cCh7bWF4V2lkdGg6ICczMDAnCiAgICAgICAgICAgIAogICAgICAgICAgICB9KTsKCiAgICAgICAgICAgIAogICAgICAgICAgICAgICAgdmFyIGh0bWxfMzc0M2Y4OGUwOGM4NDczZmI5YTRjYjZlOTM5ZjFhOGQgPSAkKCc8ZGl2IGlkPSJodG1sXzM3NDNmODhlMDhjODQ3M2ZiOWE0Y2I2ZTkzOWYxYThkIiBzdHlsZT0id2lkdGg6IDEwMC4wJTsgaGVpZ2h0OiAxMDAuMCU7Ij45ODEwNiAkMzE5NTgxPC9kaXY+JylbMF07CiAgICAgICAgICAgICAgICBwb3B1cF83YzU2OTMwNDZiZjg0MTYzYjZiOWVlMzVmZThkZTNhMi5zZXRDb250ZW50KGh0bWxfMzc0M2Y4OGUwOGM4NDczZmI5YTRjYjZlOTM5ZjFhOGQpOwogICAgICAgICAgICAKCiAgICAgICAgICAgIG1hcmtlcl8yMTM3MGQ2YjQ2MTQ0MTcxOTFjMzcwMGY4ODg0NWJhMi5iaW5kUG9wdXAocG9wdXBfN2M1NjkzMDQ2YmY4NDE2M2I2YjllZTM1ZmU4ZGUzYTIpCiAgICAgICAgICAgIDsKCiAgICAgICAgICAgIAogICAgICAgIAogICAgCiAgICAgICAgdmFyIG1hcmtlcl84NGUwZDU1MjRiOTc0N2ZlOTExZTU5YjYyOTY5NjcyOSA9IEwubWFya2VyKAogICAgICAgICAgICBbNDcuNjY5Nzg5ODQ5NjI0MDQ2LCAtMTIyLjM3NTU3MTQyODU3MTQ1XSwKICAgICAgICAgICAgewogICAgICAgICAgICAgICAgaWNvbjogbmV3IEwuSWNvbi5EZWZhdWx0KCkKICAgICAgICAgICAgICAgIH0KICAgICAgICAgICAgKS5hZGRUbyhtYXBfMzcyNWUzNWZmMDQ4NDA1YTgzYmQ4YWI2NjAwNGMwNWIpOwogICAgICAgIAogICAgCiAgICAgICAgICAgIHZhciBwb3B1cF8yYjE3OWYwZmU1MWM0YjkzYTIyNTUwNDcyMDZiN2M2MiA9IEwucG9wdXAoe21heFdpZHRoOiAnMzAwJwogICAgICAgICAgICAKICAgICAgICAgICAgfSk7CgogICAgICAgICAgICAKICAgICAgICAgICAgICAgIHZhciBodG1sX2IyNTRkM2Y4ZmUwOTQwNTlhNjFmODU2ZDYzNWQ0YjMxID0gJCgnPGRpdiBpZD0iaHRtbF9iMjU0ZDNmOGZlMDk0MDU5YTYxZjg1NmQ2MzVkNGIzMSIgc3R5bGU9IndpZHRoOiAxMDAuMCU7IGhlaWdodDogMTAwLjAlOyI+OTgxMDcgJDU3OTEwOTwvZGl2PicpWzBdOwogICAgICAgICAgICAgICAgcG9wdXBfMmIxNzlmMGZlNTFjNGI5M2EyMjU1MDQ3MjA2YjdjNjIuc2V0Q29udGVudChodG1sX2IyNTRkM2Y4ZmUwOTQwNTlhNjFmODU2ZDYzNWQ0YjMxKTsKICAgICAgICAgICAgCgogICAgICAgICAgICBtYXJrZXJfODRlMGQ1NTI0Yjk3NDdmZTkxMWU1OWI2Mjk2OTY3MjkuYmluZFBvcHVwKHBvcHVwXzJiMTc5ZjBmZTUxYzRiOTNhMjI1NTA0NzIwNmI3YzYyKQogICAgICAgICAgICA7CgogICAgICAgICAgICAKICAgICAgICAKICAgIAogICAgICAgIHZhciBtYXJrZXJfYmUzNDFjOWNkMTI3NDUxMDgzNmZiMjVhOWUxMDA5YjIgPSBMLm1hcmtlcigKICAgICAgICAgICAgWzQ3LjU0OTc2OTM1NDgzODcyLCAtMTIyLjMwNjg3MDk2Nzc0MThdLAogICAgICAgICAgICB7CiAgICAgICAgICAgICAgICBpY29uOiBuZXcgTC5JY29uLkRlZmF1bHQoKQogICAgICAgICAgICAgICAgfQogICAgICAgICAgICApLmFkZFRvKG1hcF8zNzI1ZTM1ZmYwNDg0MDVhODNiZDhhYjY2MDA0YzA1Yik7CiAgICAgICAgCiAgICAKICAgICAgICAgICAgdmFyIHBvcHVwXzkwMWM3Y2IyNjYzNjQ4Mjk4NWUyYzAwZWNiZTNkZmNmID0gTC5wb3B1cCh7bWF4V2lkdGg6ICczMDAnCiAgICAgICAgICAgIAogICAgICAgICAgICB9KTsKCiAgICAgICAgICAgIAogICAgICAgICAgICAgICAgdmFyIGh0bWxfMGNhYjBlYzBkOTM2NDE4YWJkY2FmMGQ0MzAwNDMyN2QgPSAkKCc8ZGl2IGlkPSJodG1sXzBjYWIwZWMwZDkzNjQxOGFiZGNhZjBkNDMwMDQzMjdkIiBzdHlsZT0id2lkdGg6IDEwMC4wJTsgaGVpZ2h0OiAxMDAuMCU7Ij45ODEwOCAkMzU1Njc4PC9kaXY+JylbMF07CiAgICAgICAgICAgICAgICBwb3B1cF85MDFjN2NiMjY2MzY0ODI5ODVlMmMwMGVjYmUzZGZjZi5zZXRDb250ZW50KGh0bWxfMGNhYjBlYzBkOTM2NDE4YWJkY2FmMGQ0MzAwNDMyN2QpOwogICAgICAgICAgICAKCiAgICAgICAgICAgIG1hcmtlcl9iZTM0MWM5Y2QxMjc0NTEwODM2ZmIyNWE5ZTEwMDliMi5iaW5kUG9wdXAocG9wdXBfOTAxYzdjYjI2NjM2NDgyOTg1ZTJjMDBlY2JlM2RmY2YpCiAgICAgICAgICAgIDsKCiAgICAgICAgICAgIAogICAgICAgIAogICAgCiAgICAgICAgdmFyIG1hcmtlcl9iZGMzZmNmNzFiYjE0YzJhODk4ZTk3MTUyNWE3MjQ2YyA9IEwubWFya2VyKAogICAgICAgICAgICBbNDcuNjM1NjAxODM0ODYyMzksIC0xMjIuMzUwMDkxNzQzMTE5MjFdLAogICAgICAgICAgICB7CiAgICAgICAgICAgICAgICBpY29uOiBuZXcgTC5JY29uLkRlZmF1bHQoKQogICAgICAgICAgICAgICAgfQogICAgICAgICAgICApLmFkZFRvKG1hcF8zNzI1ZTM1ZmYwNDg0MDVhODNiZDhhYjY2MDA0YzA1Yik7CiAgICAgICAgCiAgICAKICAgICAgICAgICAgdmFyIHBvcHVwX2M3OGMxZGUyNTk5ZDQzYTdiNzYwOWE1ZjJkM2ZhMWQ4ID0gTC5wb3B1cCh7bWF4V2lkdGg6ICczMDAnCiAgICAgICAgICAgIAogICAgICAgICAgICB9KTsKCiAgICAgICAgICAgIAogICAgICAgICAgICAgICAgdmFyIGh0bWxfYzkzMjIzOTIwODYxNDIyNWI0Y2VhYzE4NjBkNmVmZjAgPSAkKCc8ZGl2IGlkPSJodG1sX2M5MzIyMzkyMDg2MTQyMjViNGNlYWMxODYwZDZlZmYwIiBzdHlsZT0id2lkdGg6IDEwMC4wJTsgaGVpZ2h0OiAxMDAuMCU7Ij45ODEwOSAkODgwMDc3PC9kaXY+JylbMF07CiAgICAgICAgICAgICAgICBwb3B1cF9jNzhjMWRlMjU5OWQ0M2E3Yjc2MDlhNWYyZDNmYTFkOC5zZXRDb250ZW50KGh0bWxfYzkzMjIzOTIwODYxNDIyNWI0Y2VhYzE4NjBkNmVmZjApOwogICAgICAgICAgICAKCiAgICAgICAgICAgIG1hcmtlcl9iZGMzZmNmNzFiYjE0YzJhODk4ZTk3MTUyNWE3MjQ2Yy5iaW5kUG9wdXAocG9wdXBfYzc4YzFkZTI1OTlkNDNhN2I3NjA5YTVmMmQzZmExZDgpCiAgICAgICAgICAgIDsKCiAgICAgICAgICAgIAogICAgICAgIAogICAgCiAgICAgICAgdmFyIG1hcmtlcl9lOTIwZmRiZTAzNDA0MTQ4OTVjZmZjM2RlMzhlMGJiMyA9IEwubWFya2VyKAogICAgICAgICAgICBbNDcuNjI5NjE4NTg3MzYwNTk2LCAtMTIyLjI5Nzg2NjE3MTAwMzU5XSwKICAgICAgICAgICAgewogICAgICAgICAgICAgICAgaWNvbjogbmV3IEwuSWNvbi5EZWZhdWx0KCkKICAgICAgICAgICAgICAgIH0KICAgICAgICAgICAgKS5hZGRUbyhtYXBfMzcyNWUzNWZmMDQ4NDA1YTgzYmQ4YWI2NjAwNGMwNWIpOwogICAgICAgIAogICAgCiAgICAgICAgICAgIHZhciBwb3B1cF84NjFiZjg1YjE1NTQ0ZGIzYTliN2E5NTUzNzk5OGNjNCA9IEwucG9wdXAoe21heFdpZHRoOiAnMzAwJwogICAgICAgICAgICAKICAgICAgICAgICAgfSk7CgogICAgICAgICAgICAKICAgICAgICAgICAgICAgIHZhciBodG1sXzMzYzIxN2EzOGJiODQwYzM4YjU4MzgzMDFhNThiZTY3ID0gJCgnPGRpdiBpZD0iaHRtbF8zM2MyMTdhMzhiYjg0MGMzOGI1ODM4MzAxYTU4YmU2NyIgc3R5bGU9IndpZHRoOiAxMDAuMCU7IGhlaWdodDogMTAwLjAlOyI+OTgxMTIgJDEwOTYyMzk8L2Rpdj4nKVswXTsKICAgICAgICAgICAgICAgIHBvcHVwXzg2MWJmODViMTU1NDRkYjNhOWI3YTk1NTM3OTk4Y2M0LnNldENvbnRlbnQoaHRtbF8zM2MyMTdhMzhiYjg0MGMzOGI1ODM4MzAxYTU4YmU2Nyk7CiAgICAgICAgICAgIAoKICAgICAgICAgICAgbWFya2VyX2U5MjBmZGJlMDM0MDQxNDg5NWNmZmMzZGUzOGUwYmIzLmJpbmRQb3B1cChwb3B1cF84NjFiZjg1YjE1NTQ0ZGIzYTliN2E5NTUzNzk5OGNjNCkKICAgICAgICAgICAgOwoKICAgICAgICAgICAgCiAgICAgICAgCiAgICAKICAgICAgICB2YXIgbWFya2VyXzUwZmY2NDZjYmY5MDQ2M2ZhYWQ5MDE5ZjBmNDEwYmFjID0gTC5tYXJrZXIoCiAgICAgICAgICAgIFs0Ny42ODU0ODQyMTk1NTQwNiwgLTEyMi4zMDE3ODkwMjIyOTg0OF0sCiAgICAgICAgICAgIHsKICAgICAgICAgICAgICAgIGljb246IG5ldyBMLkljb24uRGVmYXVsdCgpCiAgICAgICAgICAgICAgICB9CiAgICAgICAgICAgICkuYWRkVG8obWFwXzM3MjVlMzVmZjA0ODQwNWE4M2JkOGFiNjYwMDRjMDViKTsKICAgICAgICAKICAgIAogICAgICAgICAgICB2YXIgcG9wdXBfNzIyMjNkYTJjMDA2NDU5M2I4M2YxMDRiZjgzZmM4NjcgPSBMLnBvcHVwKHttYXhXaWR0aDogJzMwMCcKICAgICAgICAgICAgCiAgICAgICAgICAgIH0pOwoKICAgICAgICAgICAgCiAgICAgICAgICAgICAgICB2YXIgaHRtbF9kNGI4ODQwMWQ1ZDA0ODRjYTQ4ZGYxMGEwYjgyYWQ4MyA9ICQoJzxkaXYgaWQ9Imh0bWxfZDRiODg0MDFkNWQwNDg0Y2E0OGRmMTBhMGI4MmFkODMiIHN0eWxlPSJ3aWR0aDogMTAwLjAlOyBoZWlnaHQ6IDEwMC4wJTsiPjk4MTE1ICQ2MTk5NDQ8L2Rpdj4nKVswXTsKICAgICAgICAgICAgICAgIHBvcHVwXzcyMjIzZGEyYzAwNjQ1OTNiODNmMTA0YmY4M2ZjODY3LnNldENvbnRlbnQoaHRtbF9kNGI4ODQwMWQ1ZDA0ODRjYTQ4ZGYxMGEwYjgyYWQ4Myk7CiAgICAgICAgICAgIAoKICAgICAgICAgICAgbWFya2VyXzUwZmY2NDZjYmY5MDQ2M2ZhYWQ5MDE5ZjBmNDEwYmFjLmJpbmRQb3B1cChwb3B1cF83MjIyM2RhMmMwMDY0NTkzYjgzZjEwNGJmODNmYzg2NykKICAgICAgICAgICAgOwoKICAgICAgICAgICAgCiAgICAgICAgCiAgICAKICAgICAgICB2YXIgbWFya2VyXzU2NmNlYjQ2NzVkMjRiM2E4OWVhMDc0NzhlMTYyNzM4ID0gTC5tYXJrZXIoCiAgICAgICAgICAgIFs0Ny41NzM5MDU0NTQ1NDU0NTQsIC0xMjIuMzkzNjIxMjEyMTIxMTZdLAogICAgICAgICAgICB7CiAgICAgICAgICAgICAgICBpY29uOiBuZXcgTC5JY29uLkRlZmF1bHQoKQogICAgICAgICAgICAgICAgfQogICAgICAgICAgICApLmFkZFRvKG1hcF8zNzI1ZTM1ZmYwNDg0MDVhODNiZDhhYjY2MDA0YzA1Yik7CiAgICAgICAgCiAgICAKICAgICAgICAgICAgdmFyIHBvcHVwXzdiMzllOGQwM2NlMDQwODU4MTY2YzBjNmUxZDQ5OWRjID0gTC5wb3B1cCh7bWF4V2lkdGg6ICczMDAnCiAgICAgICAgICAgIAogICAgICAgICAgICB9KTsKCiAgICAgICAgICAgIAogICAgICAgICAgICAgICAgdmFyIGh0bWxfZWFjZGJhNzdhMzc3NDgzOWE0MmZlNDJmMWFlNjM0NmMgPSAkKCc8ZGl2IGlkPSJodG1sX2VhY2RiYTc3YTM3NzQ4MzlhNDJmZTQyZjFhZTYzNDZjIiBzdHlsZT0id2lkdGg6IDEwMC4wJTsgaGVpZ2h0OiAxMDAuMCU7Ij45ODExNiAkNjE4Njk1PC9kaXY+JylbMF07CiAgICAgICAgICAgICAgICBwb3B1cF83YjM5ZThkMDNjZTA0MDg1ODE2NmMwYzZlMWQ0OTlkYy5zZXRDb250ZW50KGh0bWxfZWFjZGJhNzdhMzc3NDgzOWE0MmZlNDJmMWFlNjM0NmMpOwogICAgICAgICAgICAKCiAgICAgICAgICAgIG1hcmtlcl81NjZjZWI0Njc1ZDI0YjNhODllYTA3NDc4ZTE2MjczOC5iaW5kUG9wdXAocG9wdXBfN2IzOWU4ZDAzY2UwNDA4NTgxNjZjMGM2ZTFkNDk5ZGMpCiAgICAgICAgICAgIDsKCiAgICAgICAgICAgIAogICAgICAgIAogICAgCiAgICAgICAgdmFyIG1hcmtlcl8wNTM3ZjJhMTZjMmU0Nzk1OThiYWVmNzM2ZDUyNWVkOSA9IEwubWFya2VyKAogICAgICAgICAgICBbNDcuNjg2ODg5MTUwMDkwNDEsIC0xMjIuMzc4NTg5NTExNzU0MDJdLAogICAgICAgICAgICB7CiAgICAgICAgICAgICAgICBpY29uOiBuZXcgTC5JY29uLkRlZmF1bHQoKQogICAgICAgICAgICAgICAgfQogICAgICAgICAgICApLmFkZFRvKG1hcF8zNzI1ZTM1ZmYwNDg0MDVhODNiZDhhYjY2MDA0YzA1Yik7CiAgICAgICAgCiAgICAKICAgICAgICAgICAgdmFyIHBvcHVwXzA2MDk2ZGQxYjZjNjQ1ZWJiODE4NzM5MjE4OGNjMjI3ID0gTC5wb3B1cCh7bWF4V2lkdGg6ICczMDAnCiAgICAgICAgICAgIAogICAgICAgICAgICB9KTsKCiAgICAgICAgICAgIAogICAgICAgICAgICAgICAgdmFyIGh0bWxfNGVjNzE5NzlkYWZlNDM0OGFlZDQxYjU3ODAxYmQ5MzggPSAkKCc8ZGl2IGlkPSJodG1sXzRlYzcxOTc5ZGFmZTQzNDhhZWQ0MWI1NzgwMWJkOTM4IiBzdHlsZT0id2lkdGg6IDEwMC4wJTsgaGVpZ2h0OiAxMDAuMCU7Ij45ODExNyAkNTc2ODM0PC9kaXY+JylbMF07CiAgICAgICAgICAgICAgICBwb3B1cF8wNjA5NmRkMWI2YzY0NWViYjgxODczOTIxODhjYzIyNy5zZXRDb250ZW50KGh0bWxfNGVjNzE5NzlkYWZlNDM0OGFlZDQxYjU3ODAxYmQ5MzgpOwogICAgICAgICAgICAKCiAgICAgICAgICAgIG1hcmtlcl8wNTM3ZjJhMTZjMmU0Nzk1OThiYWVmNzM2ZDUyNWVkOS5iaW5kUG9wdXAocG9wdXBfMDYwOTZkZDFiNmM2NDVlYmI4MTg3MzkyMTg4Y2MyMjcpCiAgICAgICAgICAgIDsKCiAgICAgICAgICAgIAogICAgICAgIAogICAgCiAgICAgICAgdmFyIG1hcmtlcl81YzE4YzliMTU0MzM0NmFlOTczOGNjNjFhMjQ2YTMzMCA9IEwubWFya2VyKAogICAgICAgICAgICBbNDcuNTQzODM5MjUwNDkzMDksIC0xMjIuMjc1NTk1NjYwNzQ5NDVdLAogICAgICAgICAgICB7CiAgICAgICAgICAgICAgICBpY29uOiBuZXcgTC5JY29uLkRlZmF1bHQoKQogICAgICAgICAgICAgICAgfQogICAgICAgICAgICApLmFkZFRvKG1hcF8zNzI1ZTM1ZmYwNDg0MDVhODNiZDhhYjY2MDA0YzA1Yik7CiAgICAgICAgCiAgICAKICAgICAgICAgICAgdmFyIHBvcHVwXzE2Y2RkYjMzNmE3MzRmMzRiMjkyNTMxOTYxNDA4MTMyID0gTC5wb3B1cCh7bWF4V2lkdGg6ICczMDAnCiAgICAgICAgICAgIAogICAgICAgICAgICB9KTsKCiAgICAgICAgICAgIAogICAgICAgICAgICAgICAgdmFyIGh0bWxfYzBmNDgxMTA5N2I4NDQzYTlhZjBjMDBkNDJiZTNjYmUgPSAkKCc8ZGl2IGlkPSJodG1sX2MwZjQ4MTEwOTdiODQ0M2E5YWYwYzAwZDQyYmUzY2JlIiBzdHlsZT0id2lkdGg6IDEwMC4wJTsgaGVpZ2h0OiAxMDAuMCU7Ij45ODExOCAkNDE4MDE5PC9kaXY+JylbMF07CiAgICAgICAgICAgICAgICBwb3B1cF8xNmNkZGIzMzZhNzM0ZjM0YjI5MjUzMTk2MTQwODEzMi5zZXRDb250ZW50KGh0bWxfYzBmNDgxMTA5N2I4NDQzYTlhZjBjMDBkNDJiZTNjYmUpOwogICAgICAgICAgICAKCiAgICAgICAgICAgIG1hcmtlcl81YzE4YzliMTU0MzM0NmFlOTczOGNjNjFhMjQ2YTMzMC5iaW5kUG9wdXAocG9wdXBfMTZjZGRiMzM2YTczNGYzNGIyOTI1MzE5NjE0MDgxMzIpCiAgICAgICAgICAgIDsKCiAgICAgICAgICAgIAogICAgICAgIAogICAgCiAgICAgICAgdmFyIG1hcmtlcl81MDEzZjJjZGEwY2U0NTE0YmU1YzUxNjdkMzc4YThmMCA9IEwubWFya2VyKAogICAgICAgICAgICBbNDcuNjQwMDM0MjM5MTMwNDMsIC0xMjIuMzY2OTE4NDc4MjYwOF0sCiAgICAgICAgICAgIHsKICAgICAgICAgICAgICAgIGljb246IG5ldyBMLkljb24uRGVmYXVsdCgpCiAgICAgICAgICAgICAgICB9CiAgICAgICAgICAgICkuYWRkVG8obWFwXzM3MjVlMzVmZjA0ODQwNWE4M2JkOGFiNjYwMDRjMDViKTsKICAgICAgICAKICAgIAogICAgICAgICAgICB2YXIgcG9wdXBfNDViNjMyNDhjNDNhNDVkNzlkYjg0MjUxZjc2YmY1NzkgPSBMLnBvcHVwKHttYXhXaWR0aDogJzMwMCcKICAgICAgICAgICAgCiAgICAgICAgICAgIH0pOwoKICAgICAgICAgICAgCiAgICAgICAgICAgICAgICB2YXIgaHRtbF8xYTMyZDYxZGE2MzA0ODRiOWNjZTMxY2I5ZWU0YjQ4ZSA9ICQoJzxkaXYgaWQ9Imh0bWxfMWEzMmQ2MWRhNjMwNDg0YjljY2UzMWNiOWVlNGI0OGUiIHN0eWxlPSJ3aWR0aDogMTAwLjAlOyBoZWlnaHQ6IDEwMC4wJTsiPjk4MTE5ICQ4NDk3MTQ8L2Rpdj4nKVswXTsKICAgICAgICAgICAgICAgIHBvcHVwXzQ1YjYzMjQ4YzQzYTQ1ZDc5ZGI4NDI1MWY3NmJmNTc5LnNldENvbnRlbnQoaHRtbF8xYTMyZDYxZGE2MzA0ODRiOWNjZTMxY2I5ZWU0YjQ4ZSk7CiAgICAgICAgICAgIAoKICAgICAgICAgICAgbWFya2VyXzUwMTNmMmNkYTBjZTQ1MTRiZTVjNTE2N2QzNzhhOGYwLmJpbmRQb3B1cChwb3B1cF80NWI2MzI0OGM0M2E0NWQ3OWRiODQyNTFmNzZiZjU3OSkKICAgICAgICAgICAgOwoKICAgICAgICAgICAgCiAgICAgICAgCiAgICAKICAgICAgICB2YXIgbWFya2VyX2MyYmEyMGRiZTI2ZTRmYjM5Y2Y2NGEzNGNiMGFmNmUwID0gTC5tYXJrZXIoCiAgICAgICAgICAgIFs0Ny42MTAxNjAzNDQ4Mjc1ODQsIC0xMjIuMjk5NzcyNDEzNzkzMDRdLAogICAgICAgICAgICB7CiAgICAgICAgICAgICAgICBpY29uOiBuZXcgTC5JY29uLkRlZmF1bHQoKQogICAgICAgICAgICAgICAgfQogICAgICAgICAgICApLmFkZFRvKG1hcF8zNzI1ZTM1ZmYwNDg0MDVhODNiZDhhYjY2MDA0YzA1Yik7CiAgICAgICAgCiAgICAKICAgICAgICAgICAgdmFyIHBvcHVwXzIzODk3MzM0YTAxMjQ0YTlhYmVmMWI0NGE0MmI2MGZlID0gTC5wb3B1cCh7bWF4V2lkdGg6ICczMDAnCiAgICAgICAgICAgIAogICAgICAgICAgICB9KTsKCiAgICAgICAgICAgIAogICAgICAgICAgICAgICAgdmFyIGh0bWxfM2ZmZWFhMTYzNGM4NGYyYWI3YTBlZGJlZGJkMjRhOGMgPSAkKCc8ZGl2IGlkPSJodG1sXzNmZmVhYTE2MzRjODRmMmFiN2EwZWRiZWRiZDI0YThjIiBzdHlsZT0id2lkdGg6IDEwMC4wJTsgaGVpZ2h0OiAxMDAuMCU7Ij45ODEyMiAkNjM0NTU4PC9kaXY+JylbMF07CiAgICAgICAgICAgICAgICBwb3B1cF8yMzg5NzMzNGEwMTI0NGE5YWJlZjFiNDRhNDJiNjBmZS5zZXRDb250ZW50KGh0bWxfM2ZmZWFhMTYzNGM4NGYyYWI3YTBlZGJlZGJkMjRhOGMpOwogICAgICAgICAgICAKCiAgICAgICAgICAgIG1hcmtlcl9jMmJhMjBkYmUyNmU0ZmIzOWNmNjRhMzRjYjBhZjZlMC5iaW5kUG9wdXAocG9wdXBfMjM4OTczMzRhMDEyNDRhOWFiZWYxYjQ0YTQyYjYwZmUpCiAgICAgICAgICAgIDsKCiAgICAgICAgICAgIAogICAgICAgIAogICAgCiAgICAgICAgdmFyIG1hcmtlcl9hMjVjMGQ4MDIwOTk0OGJlODk1M2RmMmQ0NTdmNGViMSA9IEwubWFya2VyKAogICAgICAgICAgICBbNDcuNzE3MDMwMDczMzQ5NTg0LCAtMTIyLjMwMTIzNDcxODgyNjQyXSwKICAgICAgICAgICAgewogICAgICAgICAgICAgICAgaWNvbjogbmV3IEwuSWNvbi5EZWZhdWx0KCkKICAgICAgICAgICAgICAgIH0KICAgICAgICAgICAgKS5hZGRUbyhtYXBfMzcyNWUzNWZmMDQ4NDA1YTgzYmQ4YWI2NjAwNGMwNWIpOwogICAgICAgIAogICAgCiAgICAgICAgICAgIHZhciBwb3B1cF84OTQ5Yjc0MDJiOWQ0NGZiYjBlN2FhN2IyMjI1YTA3ZCA9IEwucG9wdXAoe21heFdpZHRoOiAnMzAwJwogICAgICAgICAgICAKICAgICAgICAgICAgfSk7CgogICAgICAgICAgICAKICAgICAgICAgICAgICAgIHZhciBodG1sX2U4YzBkZDM0Y2YwZTQzMTI5YTFlMjc3OWUxMzcyNWM1ID0gJCgnPGRpdiBpZD0iaHRtbF9lOGMwZGQzNGNmMGU0MzEyOWExZTI3NzllMTM3MjVjNSIgc3R5bGU9IndpZHRoOiAxMDAuMCU7IGhlaWdodDogMTAwLjAlOyI+OTgxMjUgJDQ2OTkyODwvZGl2PicpWzBdOwogICAgICAgICAgICAgICAgcG9wdXBfODk0OWI3NDAyYjlkNDRmYmIwZTdhYTdiMjIyNWEwN2Quc2V0Q29udGVudChodG1sX2U4YzBkZDM0Y2YwZTQzMTI5YTFlMjc3OWUxMzcyNWM1KTsKICAgICAgICAgICAgCgogICAgICAgICAgICBtYXJrZXJfYTI1YzBkODAyMDk5NDhiZTg5NTNkZjJkNDU3ZjRlYjEuYmluZFBvcHVwKHBvcHVwXzg5NDliNzQwMmI5ZDQ0ZmJiMGU3YWE3YjIyMjVhMDdkKQogICAgICAgICAgICA7CgogICAgICAgICAgICAKICAgICAgICAKICAgIAogICAgICAgIHZhciBtYXJrZXJfMTVlNjdiZTZhZTNiNDJmYzlhMDkyNmIyZTc0NzI3ZjEgPSBMLm1hcmtlcigKICAgICAgICAgICAgWzQ3LjU0NDU4NDE4MDc5MDk1NiwgLTEyMi4zNzUyNzQwMTEyOTk0NV0sCiAgICAgICAgICAgIHsKICAgICAgICAgICAgICAgIGljb246IG5ldyBMLkljb24uRGVmYXVsdCgpCiAgICAgICAgICAgICAgICB9CiAgICAgICAgICAgICkuYWRkVG8obWFwXzM3MjVlMzVmZjA0ODQwNWE4M2JkOGFiNjYwMDRjMDViKTsKICAgICAgICAKICAgIAogICAgICAgICAgICB2YXIgcG9wdXBfZjM2ZjEyZDhiMmIwNGFiYWEzOWFjMjk1NmVmMjdhZmYgPSBMLnBvcHVwKHttYXhXaWR0aDogJzMwMCcKICAgICAgICAgICAgCiAgICAgICAgICAgIH0pOwoKICAgICAgICAgICAgCiAgICAgICAgICAgICAgICB2YXIgaHRtbF81ZTA0YTg4YzU0Njc0Njc1OTRiMDg2OTQ5MzMwOTQ1NyA9ICQoJzxkaXYgaWQ9Imh0bWxfNWUwNGE4OGM1NDY3NDY3NTk0YjA4Njk0OTMzMDk0NTciIHN0eWxlPSJ3aWR0aDogMTAwLjAlOyBoZWlnaHQ6IDEwMC4wJTsiPjk4MTI2ICQ0MjQ3MzQ8L2Rpdj4nKVswXTsKICAgICAgICAgICAgICAgIHBvcHVwX2YzNmYxMmQ4YjJiMDRhYmFhMzlhYzI5NTZlZjI3YWZmLnNldENvbnRlbnQoaHRtbF81ZTA0YTg4YzU0Njc0Njc1OTRiMDg2OTQ5MzMwOTQ1Nyk7CiAgICAgICAgICAgIAoKICAgICAgICAgICAgbWFya2VyXzE1ZTY3YmU2YWUzYjQyZmM5YTA5MjZiMmU3NDcyN2YxLmJpbmRQb3B1cChwb3B1cF9mMzZmMTJkOGIyYjA0YWJhYTM5YWMyOTU2ZWYyN2FmZikKICAgICAgICAgICAgOwoKICAgICAgICAgICAgCiAgICAgICAgCiAgICAKICAgICAgICB2YXIgbWFya2VyXzhlZGIzYTlmZjNlZjQ5ZGE5YzNiNDhhZmU4NTYwYjNkID0gTC5tYXJrZXIoCiAgICAgICAgICAgIFs0Ny43MzU2NTQ3NjY3MzQyNywgLTEyMi4zNDM3OTcxNjAyNDM0NV0sCiAgICAgICAgICAgIHsKICAgICAgICAgICAgICAgIGljb246IG5ldyBMLkljb24uRGVmYXVsdCgpCiAgICAgICAgICAgICAgICB9CiAgICAgICAgICAgICkuYWRkVG8obWFwXzM3MjVlMzVmZjA0ODQwNWE4M2JkOGFiNjYwMDRjMDViKTsKICAgICAgICAKICAgIAogICAgICAgICAgICB2YXIgcG9wdXBfYzRkNWFhMmJiZDZjNDNhNzg0MmFmYzA0NGU5Zjc2MTUgPSBMLnBvcHVwKHttYXhXaWR0aDogJzMwMCcKICAgICAgICAgICAgCiAgICAgICAgICAgIH0pOwoKICAgICAgICAgICAgCiAgICAgICAgICAgICAgICB2YXIgaHRtbF83YTI0NWQ5ZWIyNGM0NmRmYWRmNTU4ZWIwMWNhN2MzNSA9ICQoJzxkaXYgaWQ9Imh0bWxfN2EyNDVkOWViMjRjNDZkZmFkZjU1OGViMDFjYTdjMzUiIHN0eWxlPSJ3aWR0aDogMTAwLjAlOyBoZWlnaHQ6IDEwMC4wJTsiPjk4MTMzICQzODcwMTE8L2Rpdj4nKVswXTsKICAgICAgICAgICAgICAgIHBvcHVwX2M0ZDVhYTJiYmQ2YzQzYTc4NDJhZmMwNDRlOWY3NjE1LnNldENvbnRlbnQoaHRtbF83YTI0NWQ5ZWIyNGM0NmRmYWRmNTU4ZWIwMWNhN2MzNSk7CiAgICAgICAgICAgIAoKICAgICAgICAgICAgbWFya2VyXzhlZGIzYTlmZjNlZjQ5ZGE5YzNiNDhhZmU4NTYwYjNkLmJpbmRQb3B1cChwb3B1cF9jNGQ1YWEyYmJkNmM0M2E3ODQyYWZjMDQ0ZTlmNzYxNSkKICAgICAgICAgICAgOwoKICAgICAgICAgICAgCiAgICAgICAgCiAgICAKICAgICAgICB2YXIgbWFya2VyXzM5ZDFlNzVkYWYwNjQ3OTU5YzJiMjA1ZTk3MGU4YjVhID0gTC5tYXJrZXIoCiAgICAgICAgICAgIFs0Ny41Mzg4MDY4NDQxMDY0MywgLTEyMi4zODgyMDUzMjMxOTM3Ml0sCiAgICAgICAgICAgIHsKICAgICAgICAgICAgICAgIGljb246IG5ldyBMLkljb24uRGVmYXVsdCgpCiAgICAgICAgICAgICAgICB9CiAgICAgICAgICAgICkuYWRkVG8obWFwXzM3MjVlMzVmZjA0ODQwNWE4M2JkOGFiNjYwMDRjMDViKTsKICAgICAgICAKICAgIAogICAgICAgICAgICB2YXIgcG9wdXBfODJiODAzY2U1YjU2NDY2NmFlZTEwZjliN2FlMDlhZDYgPSBMLnBvcHVwKHttYXhXaWR0aDogJzMwMCcKICAgICAgICAgICAgCiAgICAgICAgICAgIH0pOwoKICAgICAgICAgICAgCiAgICAgICAgICAgICAgICB2YXIgaHRtbF8wYTlkZDk4ZWNhZTM0YWI0YWY5ZGZmMmQ3NDc1NWNjZiA9ICQoJzxkaXYgaWQ9Imh0bWxfMGE5ZGQ5OGVjYWUzNGFiNGFmOWRmZjJkNzQ3NTVjY2YiIHN0eWxlPSJ3aWR0aDogMTAwLjAlOyBoZWlnaHQ6IDEwMC4wJTsiPjk4MTM2ICQ1NTE3Njg8L2Rpdj4nKVswXTsKICAgICAgICAgICAgICAgIHBvcHVwXzgyYjgwM2NlNWI1NjQ2NjZhZWUxMGY5YjdhZTA5YWQ2LnNldENvbnRlbnQoaHRtbF8wYTlkZDk4ZWNhZTM0YWI0YWY5ZGZmMmQ3NDc1NWNjZik7CiAgICAgICAgICAgIAoKICAgICAgICAgICAgbWFya2VyXzM5ZDFlNzVkYWYwNjQ3OTU5YzJiMjA1ZTk3MGU4YjVhLmJpbmRQb3B1cChwb3B1cF84MmI4MDNjZTViNTY0NjY2YWVlMTBmOWI3YWUwOWFkNikKICAgICAgICAgICAgOwoKICAgICAgICAgICAgCiAgICAgICAgCiAgICAKICAgICAgICB2YXIgbWFya2VyX2MzZmRjMWM2MjA1YTQ2MTc4MzhiYTUyZjIwYmZlOWNiID0gTC5tYXJrZXIoCiAgICAgICAgICAgIFs0Ny41ODYyOTMyOTQ0NjA2NCwgLTEyMi4yOTg0MTEwNzg3MTczNl0sCiAgICAgICAgICAgIHsKICAgICAgICAgICAgICAgIGljb246IG5ldyBMLkljb24uRGVmYXVsdCgpCiAgICAgICAgICAgICAgICB9CiAgICAgICAgICAgICkuYWRkVG8obWFwXzM3MjVlMzVmZjA0ODQwNWE4M2JkOGFiNjYwMDRjMDViKTsKICAgICAgICAKICAgIAogICAgICAgICAgICB2YXIgcG9wdXBfOWY0MGUxMzExZjQyNDI1MmI3M2ZjNTE0M2RmNjBlMjAgPSBMLnBvcHVwKHttYXhXaWR0aDogJzMwMCcKICAgICAgICAgICAgCiAgICAgICAgICAgIH0pOwoKICAgICAgICAgICAgCiAgICAgICAgICAgICAgICB2YXIgaHRtbF9lZmM2N2U4YTk0MTg0NjU1YTZiNjAyNDRlZWQ5ZDBkNiA9ICQoJzxkaXYgaWQ9Imh0bWxfZWZjNjdlOGE5NDE4NDY1NWE2YjYwMjQ0ZWVkOWQwZDYiIHN0eWxlPSJ3aWR0aDogMTAwLjAlOyBoZWlnaHQ6IDEwMC4wJTsiPjk4MTQ0ICQ1OTQ3MDY8L2Rpdj4nKVswXTsKICAgICAgICAgICAgICAgIHBvcHVwXzlmNDBlMTMxMWY0MjQyNTJiNzNmYzUxNDNkZjYwZTIwLnNldENvbnRlbnQoaHRtbF9lZmM2N2U4YTk0MTg0NjU1YTZiNjAyNDRlZWQ5ZDBkNik7CiAgICAgICAgICAgIAoKICAgICAgICAgICAgbWFya2VyX2MzZmRjMWM2MjA1YTQ2MTc4MzhiYTUyZjIwYmZlOWNiLmJpbmRQb3B1cChwb3B1cF85ZjQwZTEzMTFmNDI0MjUyYjczZmM1MTQzZGY2MGUyMCkKICAgICAgICAgICAgOwoKICAgICAgICAgICAgCiAgICAgICAgCiAgICAKICAgICAgICB2YXIgbWFya2VyX2E5ZGZjNWE2ZmE1YzQ2YTk4NWQ4NzU2NWY3MTgzMmExID0gTC5tYXJrZXIoCiAgICAgICAgICAgIFs0Ny41MDIwNTUyMDgzMzMzNDYsIC0xMjIuMzU4MzA1NTU1NTU1NTJdLAogICAgICAgICAgICB7CiAgICAgICAgICAgICAgICBpY29uOiBuZXcgTC5JY29uLkRlZmF1bHQoKQogICAgICAgICAgICAgICAgfQogICAgICAgICAgICApLmFkZFRvKG1hcF8zNzI1ZTM1ZmYwNDg0MDVhODNiZDhhYjY2MDA0YzA1Yik7CiAgICAgICAgCiAgICAKICAgICAgICAgICAgdmFyIHBvcHVwXzJmNWJkOWVhNGNjNDRkNjY4MDhhN2MxMjEzMWI3NGI4ID0gTC5wb3B1cCh7bWF4V2lkdGg6ICczMDAnCiAgICAgICAgICAgIAogICAgICAgICAgICB9KTsKCiAgICAgICAgICAgIAogICAgICAgICAgICAgICAgdmFyIGh0bWxfZGViZjkxNDlhMjQxNDEwMDk4M2JlN2U3MjhiODJjOWYgPSAkKCc8ZGl2IGlkPSJodG1sX2RlYmY5MTQ5YTI0MTQxMDA5ODNiZTdlNzI4YjgyYzlmIiBzdHlsZT0id2lkdGg6IDEwMC4wJTsgaGVpZ2h0OiAxMDAuMCU7Ij45ODE0NiAkMzU5NDk2PC9kaXY+JylbMF07CiAgICAgICAgICAgICAgICBwb3B1cF8yZjViZDllYTRjYzQ0ZDY2ODA4YTdjMTIxMzFiNzRiOC5zZXRDb250ZW50KGh0bWxfZGViZjkxNDlhMjQxNDEwMDk4M2JlN2U3MjhiODJjOWYpOwogICAgICAgICAgICAKCiAgICAgICAgICAgIG1hcmtlcl9hOWRmYzVhNmZhNWM0NmE5ODVkODc1NjVmNzE4MzJhMS5iaW5kUG9wdXAocG9wdXBfMmY1YmQ5ZWE0Y2M0NGQ2NjgwOGE3YzEyMTMxYjc0YjgpCiAgICAgICAgICAgIDsKCiAgICAgICAgICAgIAogICAgICAgIAogICAgCiAgICAgICAgdmFyIG1hcmtlcl9lMTc4OGFmZTM1ZjY0OWVjOTU4ZTQ1NDBkNzkwZGM3MCA9IEwubWFya2VyKAogICAgICAgICAgICBbNDcuNDM3NDM2ODQyMTA1MjcsIC0xMjIuMzI5MzE1Nzg5NDczNzFdLAogICAgICAgICAgICB7CiAgICAgICAgICAgICAgICBpY29uOiBuZXcgTC5JY29uLkRlZmF1bHQoKQogICAgICAgICAgICAgICAgfQogICAgICAgICAgICApLmFkZFRvKG1hcF8zNzI1ZTM1ZmYwNDg0MDVhODNiZDhhYjY2MDA0YzA1Yik7CiAgICAgICAgCiAgICAKICAgICAgICAgICAgdmFyIHBvcHVwXzJiZDkzM2I0OTdhZTQ2N2I4NjJhMjc4MGJkZjhhZjUwID0gTC5wb3B1cCh7bWF4V2lkdGg6ICczMDAnCiAgICAgICAgICAgIAogICAgICAgICAgICB9KTsKCiAgICAgICAgICAgIAogICAgICAgICAgICAgICAgdmFyIGh0bWxfMDhlNDMwYjUxN2EzNDliNzhiMGY0ZjVhOWQ3MGVmZTAgPSAkKCc8ZGl2IGlkPSJodG1sXzA4ZTQzMGI1MTdhMzQ5Yjc4YjBmNGY1YTlkNzBlZmUwIiBzdHlsZT0id2lkdGg6IDEwMC4wJTsgaGVpZ2h0OiAxMDAuMCU7Ij45ODE0OCAkMjg0OTA4PC9kaXY+JylbMF07CiAgICAgICAgICAgICAgICBwb3B1cF8yYmQ5MzNiNDk3YWU0NjdiODYyYTI3ODBiZGY4YWY1MC5zZXRDb250ZW50KGh0bWxfMDhlNDMwYjUxN2EzNDliNzhiMGY0ZjVhOWQ3MGVmZTApOwogICAgICAgICAgICAKCiAgICAgICAgICAgIG1hcmtlcl9lMTc4OGFmZTM1ZjY0OWVjOTU4ZTQ1NDBkNzkwZGM3MC5iaW5kUG9wdXAocG9wdXBfMmJkOTMzYjQ5N2FlNDY3Yjg2MmEyNzgwYmRmOGFmNTApCiAgICAgICAgICAgIDsKCiAgICAgICAgICAgIAogICAgICAgIAogICAgCiAgICAgICAgdmFyIG1hcmtlcl9jYjI5ZTYwNWZlMzc0M2I4YTlhYTIxNTVkMzVhOTM2NiA9IEwubWFya2VyKAogICAgICAgICAgICBbNDcuNzU0ODYzMjI4Njk5NTQsIC0xMjIuMzAzNTQwMzU4NzQ0NTddLAogICAgICAgICAgICB7CiAgICAgICAgICAgICAgICBpY29uOiBuZXcgTC5JY29uLkRlZmF1bHQoKQogICAgICAgICAgICAgICAgfQogICAgICAgICAgICApLmFkZFRvKG1hcF8zNzI1ZTM1ZmYwNDg0MDVhODNiZDhhYjY2MDA0YzA1Yik7CiAgICAgICAgCiAgICAKICAgICAgICAgICAgdmFyIHBvcHVwX2QxMzc2OGQ2ZTgzMDQ1MTNhMzUyZmE3MTM3MWM5NWE4ID0gTC5wb3B1cCh7bWF4V2lkdGg6ICczMDAnCiAgICAgICAgICAgIAogICAgICAgICAgICB9KTsKCiAgICAgICAgICAgIAogICAgICAgICAgICAgICAgdmFyIGh0bWxfMmU5MjM0MjU1NDc2NDBlOWI1YjA2NGM1NGZmOGFmMGMgPSAkKCc8ZGl2IGlkPSJodG1sXzJlOTIzNDI1NTQ3NjQwZTliNWIwNjRjNTRmZjhhZjBjIiBzdHlsZT0id2lkdGg6IDEwMC4wJTsgaGVpZ2h0OiAxMDAuMCU7Ij45ODE1NSAkNDIzNzM2PC9kaXY+JylbMF07CiAgICAgICAgICAgICAgICBwb3B1cF9kMTM3NjhkNmU4MzA0NTEzYTM1MmZhNzEzNzFjOTVhOC5zZXRDb250ZW50KGh0bWxfMmU5MjM0MjU1NDc2NDBlOWI1YjA2NGM1NGZmOGFmMGMpOwogICAgICAgICAgICAKCiAgICAgICAgICAgIG1hcmtlcl9jYjI5ZTYwNWZlMzc0M2I4YTlhYTIxNTVkMzVhOTM2Ni5iaW5kUG9wdXAocG9wdXBfZDEzNzY4ZDZlODMwNDUxM2EzNTJmYTcxMzcxYzk1YTgpCiAgICAgICAgICAgIDsKCiAgICAgICAgICAgIAogICAgICAgIAogICAgCiAgICAgICAgdmFyIG1hcmtlcl9jYjJmNzIwZTQwNDk0ODRlOWMzMzgwNzE5ZGI3NjNlYyA9IEwubWFya2VyKAogICAgICAgICAgICBbNDcuNDU1MjExODExMDIzNjIsIC0xMjIuMzUwMzAzMTQ5NjA2MzZdLAogICAgICAgICAgICB7CiAgICAgICAgICAgICAgICBpY29uOiBuZXcgTC5JY29uLkRlZmF1bHQoKQogICAgICAgICAgICAgICAgfQogICAgICAgICAgICApLmFkZFRvKG1hcF8zNzI1ZTM1ZmYwNDg0MDVhODNiZDhhYjY2MDA0YzA1Yik7CiAgICAgICAgCiAgICAKICAgICAgICAgICAgdmFyIHBvcHVwXzg3NzI5ZDEzZjhiMjRmZTBhYmRkYzkyMWE2NTdiMGViID0gTC5wb3B1cCh7bWF4V2lkdGg6ICczMDAnCiAgICAgICAgICAgIAogICAgICAgICAgICB9KTsKCiAgICAgICAgICAgIAogICAgICAgICAgICAgICAgdmFyIGh0bWxfMjkyMjM5YjVlMjBmNDZjOGExZDMzNzJmYTE0ZTI3NTIgPSAkKCc8ZGl2IGlkPSJodG1sXzI5MjIzOWI1ZTIwZjQ2YzhhMWQzMzcyZmExNGUyNzUyIiBzdHlsZT0id2lkdGg6IDEwMC4wJTsgaGVpZ2h0OiAxMDAuMCU7Ij45ODE2NiAkNDY0MzIyPC9kaXY+JylbMF07CiAgICAgICAgICAgICAgICBwb3B1cF84NzcyOWQxM2Y4YjI0ZmUwYWJkZGM5MjFhNjU3YjBlYi5zZXRDb250ZW50KGh0bWxfMjkyMjM5YjVlMjBmNDZjOGExZDMzNzJmYTE0ZTI3NTIpOwogICAgICAgICAgICAKCiAgICAgICAgICAgIG1hcmtlcl9jYjJmNzIwZTQwNDk0ODRlOWMzMzgwNzE5ZGI3NjNlYy5iaW5kUG9wdXAocG9wdXBfODc3MjlkMTNmOGIyNGZlMGFiZGRjOTIxYTY1N2IwZWIpCiAgICAgICAgICAgIDsKCiAgICAgICAgICAgIAogICAgICAgIAogICAgCiAgICAgICAgdmFyIG1hcmtlcl8yMzEwYWUwMzg1MTk0YzIyODMwMmMzMmRhZmRmMjIzNyA9IEwubWFya2VyKAogICAgICAgICAgICBbNDcuNDg5Njk5OTk5OTk5OTcsIC0xMjIuMzA3ODc3MzIzNDIwMDNdLAogICAgICAgICAgICB7CiAgICAgICAgICAgICAgICBpY29uOiBuZXcgTC5JY29uLkRlZmF1bHQoKQogICAgICAgICAgICAgICAgfQogICAgICAgICAgICApLmFkZFRvKG1hcF8zNzI1ZTM1ZmYwNDg0MDVhODNiZDhhYjY2MDA0YzA1Yik7CiAgICAgICAgCiAgICAKICAgICAgICAgICAgdmFyIHBvcHVwXzVmZTM3OGE5ODk4ODRlMWU5ZDM5YjBiY2EwMzczNGEzID0gTC5wb3B1cCh7bWF4V2lkdGg6ICczMDAnCiAgICAgICAgICAgIAogICAgICAgICAgICB9KTsKCiAgICAgICAgICAgIAogICAgICAgICAgICAgICAgdmFyIGh0bWxfYmNmOWRmNTRjYTFmNGMxZWJjZTBjNzA5ZDQ4Yjc3MjEgPSAkKCc8ZGl2IGlkPSJodG1sX2JjZjlkZjU0Y2ExZjRjMWViY2UwYzcwOWQ0OGI3NzIxIiBzdHlsZT0id2lkdGg6IDEwMC4wJTsgaGVpZ2h0OiAxMDAuMCU7Ij45ODE2OCAkMjQwMzI4PC9kaXY+JylbMF07CiAgICAgICAgICAgICAgICBwb3B1cF81ZmUzNzhhOTg5ODg0ZTFlOWQzOWIwYmNhMDM3MzRhMy5zZXRDb250ZW50KGh0bWxfYmNmOWRmNTRjYTFmNGMxZWJjZTBjNzA5ZDQ4Yjc3MjEpOwogICAgICAgICAgICAKCiAgICAgICAgICAgIG1hcmtlcl8yMzEwYWUwMzg1MTk0YzIyODMwMmMzMmRhZmRmMjIzNy5iaW5kUG9wdXAocG9wdXBfNWZlMzc4YTk4OTg4NGUxZTlkMzliMGJjYTAzNzM0YTMpCiAgICAgICAgICAgIDsKCiAgICAgICAgICAgIAogICAgICAgIAogICAgCiAgICAgICAgdmFyIG1hcmtlcl8xM2ZhMmM4YThiYzI0NjUyYTg0MzA1MDE1MmI5OGI3MyA9IEwubWFya2VyKAogICAgICAgICAgICBbNDcuNzQyMzgwNzg0MzEzNzMsIC0xMjIuMzY5MjgyMzUyOTQxMjFdLAogICAgICAgICAgICB7CiAgICAgICAgICAgICAgICBpY29uOiBuZXcgTC5JY29uLkRlZmF1bHQoKQogICAgICAgICAgICAgICAgfQogICAgICAgICAgICApLmFkZFRvKG1hcF8zNzI1ZTM1ZmYwNDg0MDVhODNiZDhhYjY2MDA0YzA1Yik7CiAgICAgICAgCiAgICAKICAgICAgICAgICAgdmFyIHBvcHVwXzI3ZDI0ODU4ZTMyYzRjZmViNWM0MTViNWVlZDVkNzYxID0gTC5wb3B1cCh7bWF4V2lkdGg6ICczMDAnCiAgICAgICAgICAgIAogICAgICAgICAgICB9KTsKCiAgICAgICAgICAgIAogICAgICAgICAgICAgICAgdmFyIGh0bWxfNDJjODFmYTkxMmU3NDJhYjhiNzRkZWU5YTRhMGQ3NzIgPSAkKCc8ZGl2IGlkPSJodG1sXzQyYzgxZmE5MTJlNzQyYWI4Yjc0ZGVlOWE0YTBkNzcyIiBzdHlsZT0id2lkdGg6IDEwMC4wJTsgaGVpZ2h0OiAxMDAuMCU7Ij45ODE3NyAkNjc2NDE5PC9kaXY+JylbMF07CiAgICAgICAgICAgICAgICBwb3B1cF8yN2QyNDg1OGUzMmM0Y2ZlYjVjNDE1YjVlZWQ1ZDc2MS5zZXRDb250ZW50KGh0bWxfNDJjODFmYTkxMmU3NDJhYjhiNzRkZWU5YTRhMGQ3NzIpOwogICAgICAgICAgICAKCiAgICAgICAgICAgIG1hcmtlcl8xM2ZhMmM4YThiYzI0NjUyYTg0MzA1MDE1MmI5OGI3My5iaW5kUG9wdXAocG9wdXBfMjdkMjQ4NThlMzJjNGNmZWI1YzQxNWI1ZWVkNWQ3NjEpCiAgICAgICAgICAgIDsKCiAgICAgICAgICAgIAogICAgICAgIAogICAgCiAgICAgICAgdmFyIG1hcmtlcl8wYzBhNzVmODlmNTI0OGEwOTM4ZTIzZjM5MzdkYWZlMiA9IEwubWFya2VyKAogICAgICAgICAgICBbNDcuNDk5MTE3NTU3MjUxOTEsIC0xMjIuMjQ2OTY5NDY1NjQ4NzVdLAogICAgICAgICAgICB7CiAgICAgICAgICAgICAgICBpY29uOiBuZXcgTC5JY29uLkRlZmF1bHQoKQogICAgICAgICAgICAgICAgfQogICAgICAgICAgICApLmFkZFRvKG1hcF8zNzI1ZTM1ZmYwNDg0MDVhODNiZDhhYjY2MDA0YzA1Yik7CiAgICAgICAgCiAgICAKICAgICAgICAgICAgdmFyIHBvcHVwXzNiNDAxYmM3MGJhNDQzODJhNmE2NDU1OGJhM2M3MWVmID0gTC5wb3B1cCh7bWF4V2lkdGg6ICczMDAnCiAgICAgICAgICAgIAogICAgICAgICAgICB9KTsKCiAgICAgICAgICAgIAogICAgICAgICAgICAgICAgdmFyIGh0bWxfYjQwYmM2YjlkMDdkNDk4Y2JmZDg3ZDVjOTI4ZjUzOGIgPSAkKCc8ZGl2IGlkPSJodG1sX2I0MGJjNmI5ZDA3ZDQ5OGNiZmQ4N2Q1YzkyOGY1MzhiIiBzdHlsZT0id2lkdGg6IDEwMC4wJTsgaGVpZ2h0OiAxMDAuMCU7Ij45ODE3OCAkMzEwNjEyPC9kaXY+JylbMF07CiAgICAgICAgICAgICAgICBwb3B1cF8zYjQwMWJjNzBiYTQ0MzgyYTZhNjQ1NThiYTNjNzFlZi5zZXRDb250ZW50KGh0bWxfYjQwYmM2YjlkMDdkNDk4Y2JmZDg3ZDVjOTI4ZjUzOGIpOwogICAgICAgICAgICAKCiAgICAgICAgICAgIG1hcmtlcl8wYzBhNzVmODlmNTI0OGEwOTM4ZTIzZjM5MzdkYWZlMi5iaW5kUG9wdXAocG9wdXBfM2I0MDFiYzcwYmE0NDM4MmE2YTY0NTU4YmEzYzcxZWYpCiAgICAgICAgICAgIDsKCiAgICAgICAgICAgIAogICAgICAgIAogICAgCiAgICAgICAgdmFyIG1hcmtlcl9iODlhMzBlN2E3NmI0MzgwYTYxMGRhNDc2NGYxMjQzNyA9IEwubWFya2VyKAogICAgICAgICAgICBbNDcuNDQ3MzA5NTU4ODIzNTIsIC0xMjIuMjgwOTkyNjQ3MDU4ODVdLAogICAgICAgICAgICB7CiAgICAgICAgICAgICAgICBpY29uOiBuZXcgTC5JY29uLkRlZmF1bHQoKQogICAgICAgICAgICAgICAgfQogICAgICAgICAgICApLmFkZFRvKG1hcF8zNzI1ZTM1ZmYwNDg0MDVhODNiZDhhYjY2MDA0YzA1Yik7CiAgICAgICAgCiAgICAKICAgICAgICAgICAgdmFyIHBvcHVwXzljMDExMDU4MzlkNjRhZjRiNTQ1NjY4ZGI4NDc0ZTdhID0gTC5wb3B1cCh7bWF4V2lkdGg6ICczMDAnCiAgICAgICAgICAgIAogICAgICAgICAgICB9KTsKCiAgICAgICAgICAgIAogICAgICAgICAgICAgICAgdmFyIGh0bWxfODUyOWNjZDIyODJiNGRjYzlhNDQ4N2Q0NjNhZGJhYjEgPSAkKCc8ZGl2IGlkPSJodG1sXzg1MjljY2QyMjgyYjRkY2M5YTQ0ODdkNDYzYWRiYWIxIiBzdHlsZT0id2lkdGg6IDEwMC4wJTsgaGVpZ2h0OiAxMDAuMCU7Ij45ODE4OCAkMjg5MDc4PC9kaXY+JylbMF07CiAgICAgICAgICAgICAgICBwb3B1cF85YzAxMTA1ODM5ZDY0YWY0YjU0NTY2OGRiODQ3NGU3YS5zZXRDb250ZW50KGh0bWxfODUyOWNjZDIyODJiNGRjYzlhNDQ4N2Q0NjNhZGJhYjEpOwogICAgICAgICAgICAKCiAgICAgICAgICAgIG1hcmtlcl9iODlhMzBlN2E3NmI0MzgwYTYxMGRhNDc2NGYxMjQzNy5iaW5kUG9wdXAocG9wdXBfOWMwMTEwNTgzOWQ2NGFmNGI1NDU2NjhkYjg0NzRlN2EpCiAgICAgICAgICAgIDsKCiAgICAgICAgICAgIAogICAgICAgIAogICAgCiAgICAgICAgdmFyIG1hcmtlcl8yZDNmNjFhODMyODU0ZWNjOTZkZDgxMzdhNWE3NDVjNiA9IEwubWFya2VyKAogICAgICAgICAgICBbNDcuMzkwNzg3ODU3MTQyODYsIC0xMjIuMzE1NzQyODU3MTQyODRdLAogICAgICAgICAgICB7CiAgICAgICAgICAgICAgICBpY29uOiBuZXcgTC5JY29uLkRlZmF1bHQoKQogICAgICAgICAgICAgICAgfQogICAgICAgICAgICApLmFkZFRvKG1hcF8zNzI1ZTM1ZmYwNDg0MDVhODNiZDhhYjY2MDA0YzA1Yik7CiAgICAgICAgCiAgICAKICAgICAgICAgICAgdmFyIHBvcHVwX2ZkM2Y3YzE2ZDFmZDQ5ZjNiMjYwNTFiODFiZTM2MWNlID0gTC5wb3B1cCh7bWF4V2lkdGg6ICczMDAnCiAgICAgICAgICAgIAogICAgICAgICAgICB9KTsKCiAgICAgICAgICAgIAogICAgICAgICAgICAgICAgdmFyIGh0bWxfOWZiNDYwMDlmYTU1NDBhNDg5ODc5NGRkZDE0NjgzYzQgPSAkKCc8ZGl2IGlkPSJodG1sXzlmYjQ2MDA5ZmE1NTQwYTQ4OTg3OTRkZGQxNDY4M2M0IiBzdHlsZT0id2lkdGg6IDEwMC4wJTsgaGVpZ2h0OiAxMDAuMCU7Ij45ODE5OCAkMzAyODk2PC9kaXY+JylbMF07CiAgICAgICAgICAgICAgICBwb3B1cF9mZDNmN2MxNmQxZmQ0OWYzYjI2MDUxYjgxYmUzNjFjZS5zZXRDb250ZW50KGh0bWxfOWZiNDYwMDlmYTU1NDBhNDg5ODc5NGRkZDE0NjgzYzQpOwogICAgICAgICAgICAKCiAgICAgICAgICAgIG1hcmtlcl8yZDNmNjFhODMyODU0ZWNjOTZkZDgxMzdhNWE3NDVjNi5iaW5kUG9wdXAocG9wdXBfZmQzZjdjMTZkMWZkNDlmM2IyNjA1MWI4MWJlMzYxY2UpCiAgICAgICAgICAgIDsKCiAgICAgICAgICAgIAogICAgICAgIAogICAgCiAgICAgICAgdmFyIG1hcmtlcl9jODY5ZDEyZDljN2M0MDMwODg2NWU3MDJiYjc2ZjhlOSA9IEwubWFya2VyKAogICAgICAgICAgICBbNDcuNjQ4MDk4MTA3MjU1NDgsIC0xMjIuMzk4NDYwNTY3ODIzMjJdLAogICAgICAgICAgICB7CiAgICAgICAgICAgICAgICBpY29uOiBuZXcgTC5JY29uLkRlZmF1bHQoKQogICAgICAgICAgICAgICAgfQogICAgICAgICAgICApLmFkZFRvKG1hcF8zNzI1ZTM1ZmYwNDg0MDVhODNiZDhhYjY2MDA0YzA1Yik7CiAgICAgICAgCiAgICAKICAgICAgICAgICAgdmFyIHBvcHVwXzU5MWUyMTAyMDJlODQyZDdhYjUwNzc3NTJlYWRiMTZlID0gTC5wb3B1cCh7bWF4V2lkdGg6ICczMDAnCiAgICAgICAgICAgIAogICAgICAgICAgICB9KTsKCiAgICAgICAgICAgIAogICAgICAgICAgICAgICAgdmFyIGh0bWxfY2ZlNTE2MTQ2OGQ3NDVmMmEwMWM2M2E0ZTA0ZmM2ODggPSAkKCc8ZGl2IGlkPSJodG1sX2NmZTUxNjE0NjhkNzQ1ZjJhMDFjNjNhNGUwNGZjNjg4IiBzdHlsZT0id2lkdGg6IDEwMC4wJTsgaGVpZ2h0OiAxMDAuMCU7Ij45ODE5OSAkNzkyMTg3PC9kaXY+JylbMF07CiAgICAgICAgICAgICAgICBwb3B1cF81OTFlMjEwMjAyZTg0MmQ3YWI1MDc3NzUyZWFkYjE2ZS5zZXRDb250ZW50KGh0bWxfY2ZlNTE2MTQ2OGQ3NDVmMmEwMWM2M2E0ZTA0ZmM2ODgpOwogICAgICAgICAgICAKCiAgICAgICAgICAgIG1hcmtlcl9jODY5ZDEyZDljN2M0MDMwODg2NWU3MDJiYjc2ZjhlOS5iaW5kUG9wdXAocG9wdXBfNTkxZTIxMDIwMmU4NDJkN2FiNTA3Nzc1MmVhZGIxNmUpCiAgICAgICAgICAgIDsKCiAgICAgICAgICAgIAogICAgICAgIAo8L3NjcmlwdD4=\" style=\"position:absolute;width:100%;height:100%;left:0;top:0;border:none !important;\" allowfullscreen webkitallowfullscreen mozallowfullscreen></iframe></div></div>"
      ],
      "text/plain": [
       "<folium.folium.Map at 0x244aad46da0>"
      ]
     },
     "execution_count": 12,
     "metadata": {},
     "output_type": "execute_result"
    }
   ],
   "source": [
    "for i in range(0, len(location_list)):\n",
    "    folium.Marker(location_list[i], popup=price[i]).add_to(map_zips)\n",
    "map_zips\n"
   ]
  },
  {
   "cell_type": "code",
   "execution_count": 13,
   "metadata": {
    "scrolled": true
   },
   "outputs": [
    {
     "data": {
      "text/plain": [
       "21597"
      ]
     },
     "execution_count": 13,
     "metadata": {},
     "output_type": "execute_result"
    }
   ],
   "source": [
    "coord = df[['lat', 'long']]\n",
    "coordinates = coord.values.tolist()\n",
    "len(coordinates)"
   ]
  },
  {
   "cell_type": "code",
   "execution_count": 14,
   "metadata": {
    "scrolled": true
   },
   "outputs": [
    {
     "data": {
      "text/html": [
       "<div>\n",
       "<style scoped>\n",
       "    .dataframe tbody tr th:only-of-type {\n",
       "        vertical-align: middle;\n",
       "    }\n",
       "\n",
       "    .dataframe tbody tr th {\n",
       "        vertical-align: top;\n",
       "    }\n",
       "\n",
       "    .dataframe thead th {\n",
       "        text-align: right;\n",
       "    }\n",
       "</style>\n",
       "<table border=\"1\" class=\"dataframe\">\n",
       "  <thead>\n",
       "    <tr style=\"text-align: right;\">\n",
       "      <th></th>\n",
       "      <th>id</th>\n",
       "      <th>date</th>\n",
       "      <th>price</th>\n",
       "      <th>bedrooms</th>\n",
       "      <th>bathrooms</th>\n",
       "      <th>sqft_living</th>\n",
       "      <th>sqft_lot</th>\n",
       "      <th>floors</th>\n",
       "      <th>waterfront</th>\n",
       "      <th>view</th>\n",
       "      <th>...</th>\n",
       "      <th>sqft_above</th>\n",
       "      <th>sqft_basement</th>\n",
       "      <th>yr_built</th>\n",
       "      <th>yr_renovated</th>\n",
       "      <th>zipcode</th>\n",
       "      <th>lat</th>\n",
       "      <th>long</th>\n",
       "      <th>sqft_living15</th>\n",
       "      <th>sqft_lot15</th>\n",
       "      <th>distance</th>\n",
       "    </tr>\n",
       "  </thead>\n",
       "  <tbody>\n",
       "    <tr>\n",
       "      <th>0</th>\n",
       "      <td>7129300520</td>\n",
       "      <td>10/13/2014</td>\n",
       "      <td>221900.0</td>\n",
       "      <td>3</td>\n",
       "      <td>1.00</td>\n",
       "      <td>1180</td>\n",
       "      <td>5650</td>\n",
       "      <td>1.0</td>\n",
       "      <td>NaN</td>\n",
       "      <td>0.0</td>\n",
       "      <td>...</td>\n",
       "      <td>1180</td>\n",
       "      <td>0.0</td>\n",
       "      <td>1955</td>\n",
       "      <td>0.0</td>\n",
       "      <td>98178</td>\n",
       "      <td>47.5112</td>\n",
       "      <td>-122.257</td>\n",
       "      <td>1340</td>\n",
       "      <td>5650</td>\n",
       "      <td>7.995528</td>\n",
       "    </tr>\n",
       "    <tr>\n",
       "      <th>1</th>\n",
       "      <td>6414100192</td>\n",
       "      <td>12/9/2014</td>\n",
       "      <td>538000.0</td>\n",
       "      <td>3</td>\n",
       "      <td>2.25</td>\n",
       "      <td>2570</td>\n",
       "      <td>7242</td>\n",
       "      <td>2.0</td>\n",
       "      <td>0.0</td>\n",
       "      <td>0.0</td>\n",
       "      <td>...</td>\n",
       "      <td>2170</td>\n",
       "      <td>400.0</td>\n",
       "      <td>1951</td>\n",
       "      <td>1991.0</td>\n",
       "      <td>98125</td>\n",
       "      <td>47.7210</td>\n",
       "      <td>-122.319</td>\n",
       "      <td>1690</td>\n",
       "      <td>7639</td>\n",
       "      <td>7.689150</td>\n",
       "    </tr>\n",
       "    <tr>\n",
       "      <th>2</th>\n",
       "      <td>5631500400</td>\n",
       "      <td>2/25/2015</td>\n",
       "      <td>180000.0</td>\n",
       "      <td>2</td>\n",
       "      <td>1.00</td>\n",
       "      <td>770</td>\n",
       "      <td>10000</td>\n",
       "      <td>1.0</td>\n",
       "      <td>0.0</td>\n",
       "      <td>0.0</td>\n",
       "      <td>...</td>\n",
       "      <td>770</td>\n",
       "      <td>0.0</td>\n",
       "      <td>1933</td>\n",
       "      <td>NaN</td>\n",
       "      <td>98028</td>\n",
       "      <td>47.7379</td>\n",
       "      <td>-122.233</td>\n",
       "      <td>2720</td>\n",
       "      <td>8062</td>\n",
       "      <td>7.741887</td>\n",
       "    </tr>\n",
       "    <tr>\n",
       "      <th>3</th>\n",
       "      <td>2487200875</td>\n",
       "      <td>12/9/2014</td>\n",
       "      <td>604000.0</td>\n",
       "      <td>4</td>\n",
       "      <td>3.00</td>\n",
       "      <td>1960</td>\n",
       "      <td>5000</td>\n",
       "      <td>1.0</td>\n",
       "      <td>0.0</td>\n",
       "      <td>0.0</td>\n",
       "      <td>...</td>\n",
       "      <td>1050</td>\n",
       "      <td>910.0</td>\n",
       "      <td>1965</td>\n",
       "      <td>0.0</td>\n",
       "      <td>98136</td>\n",
       "      <td>47.5208</td>\n",
       "      <td>-122.393</td>\n",
       "      <td>1360</td>\n",
       "      <td>5000</td>\n",
       "      <td>10.403648</td>\n",
       "    </tr>\n",
       "    <tr>\n",
       "      <th>4</th>\n",
       "      <td>1954400510</td>\n",
       "      <td>2/18/2015</td>\n",
       "      <td>510000.0</td>\n",
       "      <td>3</td>\n",
       "      <td>2.00</td>\n",
       "      <td>1680</td>\n",
       "      <td>8080</td>\n",
       "      <td>1.0</td>\n",
       "      <td>0.0</td>\n",
       "      <td>0.0</td>\n",
       "      <td>...</td>\n",
       "      <td>1680</td>\n",
       "      <td>0.0</td>\n",
       "      <td>1987</td>\n",
       "      <td>0.0</td>\n",
       "      <td>98074</td>\n",
       "      <td>47.6168</td>\n",
       "      <td>-122.045</td>\n",
       "      <td>1800</td>\n",
       "      <td>7503</td>\n",
       "      <td>8.828511</td>\n",
       "    </tr>\n",
       "  </tbody>\n",
       "</table>\n",
       "<p>5 rows × 22 columns</p>\n",
       "</div>"
      ],
      "text/plain": [
       "           id        date     price  bedrooms  bathrooms  sqft_living  \\\n",
       "0  7129300520  10/13/2014  221900.0         3       1.00         1180   \n",
       "1  6414100192   12/9/2014  538000.0         3       2.25         2570   \n",
       "2  5631500400   2/25/2015  180000.0         2       1.00          770   \n",
       "3  2487200875   12/9/2014  604000.0         4       3.00         1960   \n",
       "4  1954400510   2/18/2015  510000.0         3       2.00         1680   \n",
       "\n",
       "   sqft_lot  floors  waterfront  view    ...      sqft_above  sqft_basement  \\\n",
       "0      5650     1.0         NaN   0.0    ...            1180            0.0   \n",
       "1      7242     2.0         0.0   0.0    ...            2170          400.0   \n",
       "2     10000     1.0         0.0   0.0    ...             770            0.0   \n",
       "3      5000     1.0         0.0   0.0    ...            1050          910.0   \n",
       "4      8080     1.0         0.0   0.0    ...            1680            0.0   \n",
       "\n",
       "   yr_built yr_renovated  zipcode      lat     long  sqft_living15  \\\n",
       "0      1955          0.0    98178  47.5112 -122.257           1340   \n",
       "1      1951       1991.0    98125  47.7210 -122.319           1690   \n",
       "2      1933          NaN    98028  47.7379 -122.233           2720   \n",
       "3      1965          0.0    98136  47.5208 -122.393           1360   \n",
       "4      1987          0.0    98074  47.6168 -122.045           1800   \n",
       "\n",
       "   sqft_lot15   distance  \n",
       "0        5650   7.995528  \n",
       "1        7639   7.689150  \n",
       "2        8062   7.741887  \n",
       "3        5000  10.403648  \n",
       "4        7503   8.828511  \n",
       "\n",
       "[5 rows x 22 columns]"
      ]
     },
     "execution_count": 14,
     "metadata": {},
     "output_type": "execute_result"
    }
   ],
   "source": [
    "distances = []\n",
    "for i in range(len(coordinates)):\n",
    "    coords_1 = (47.625840, -122.233540) # Bellevue    #(47.608013, -122.335167) Seattle\n",
    "    coords_2 = coordinates[i]\n",
    "    distances.append(geopy.distance.vincenty(coords_1, coords_2).miles)\n",
    "\n",
    "df['distance'] = pd.DataFrame(distances)\n",
    "df.head()"
   ]
  },
  {
   "cell_type": "code",
   "execution_count": 15,
   "metadata": {},
   "outputs": [
    {
     "data": {
      "text/plain": [
       "count    21597.000000\n",
       "mean        10.860158\n",
       "std          6.196645\n",
       "min          0.147549\n",
       "25%          6.518003\n",
       "50%          9.014470\n",
       "75%         13.836673\n",
       "max         43.284758\n",
       "Name: distance, dtype: float64"
      ]
     },
     "execution_count": 15,
     "metadata": {},
     "output_type": "execute_result"
    }
   ],
   "source": [
    "df.distance.describe()"
   ]
  },
  {
   "cell_type": "code",
   "execution_count": 16,
   "metadata": {},
   "outputs": [
    {
     "data": {
      "text/plain": [
       "-0.3996844228649356"
      ]
     },
     "execution_count": 16,
     "metadata": {},
     "output_type": "execute_result"
    }
   ],
   "source": [
    "df.price.corr(df.distance)"
   ]
  },
  {
   "cell_type": "markdown",
   "metadata": {},
   "source": [
    "### Drop Columns"
   ]
  },
  {
   "cell_type": "code",
   "execution_count": null,
   "metadata": {},
   "outputs": [],
   "source": [
    "#column_names = ['id', 'zipcode', 'lat', 'long']\n",
    "location_df = df.iloc[:, 16:19]\n",
    "location_df.head()"
   ]
  },
  {
   "cell_type": "code",
   "execution_count": null,
   "metadata": {},
   "outputs": [],
   "source": [
    "# remove date - not time series analysis and we have the years as time reference better suited to an OLS regression. \n",
    "# remove id as the integer index appears to be a simpler and more effective identification\n",
    "# remove location data for now\n",
    "to_drop = ['id', 'date', 'zipcode']    #'lat', 'long']\n",
    "df.drop(to_drop, axis=1, inplace=True)\n"
   ]
  },
  {
   "cell_type": "markdown",
   "metadata": {},
   "source": [
    "### Placeholders and Missing Values"
   ]
  },
  {
   "cell_type": "code",
   "execution_count": null,
   "metadata": {
    "scrolled": true
   },
   "outputs": [],
   "source": [
    "# visual inspection of the numerical variables indicates no other placeholders (very unusual values). However, extreme values \n",
    "# will be further explored below. \n",
    "for col in df.columns:\n",
    "    print(col)\n",
    "    print(df[col].unique())"
   ]
  },
  {
   "cell_type": "markdown",
   "metadata": {},
   "source": [
    "#### sqft_basement"
   ]
  },
  {
   "cell_type": "code",
   "execution_count": null,
   "metadata": {},
   "outputs": [],
   "source": [
    "# As sqrt_basement should be a numerical data type, but is a string, I had reason to believe there may be a string value present.\n",
    "# The data were visually inspected and a '?' placeholder is present in the data\n",
    "(df['sqft_basement'] == '?').sum()"
   ]
  },
  {
   "cell_type": "code",
   "execution_count": null,
   "metadata": {
    "scrolled": true
   },
   "outputs": [],
   "source": [
    "# sqft_basement has 454 unknown values \n",
    "# First we can change the '?' placeholder to np.NaN\n",
    "\n",
    "df['sqft_basement'].replace('?', np.NaN, inplace=True) "
   ]
  },
  {
   "cell_type": "code",
   "execution_count": null,
   "metadata": {
    "scrolled": false
   },
   "outputs": [],
   "source": [
    "# change the variable into a float so that we can make use of decsriptive stats to deal with the unknown values\n",
    "df['sqft_basement'] = df['sqft_basement'].astype(float)\n",
    "df['sqft_basement'].describe()"
   ]
  },
  {
   "cell_type": "code",
   "execution_count": null,
   "metadata": {},
   "outputs": [],
   "source": [
    "def value_finder(data, value):\n",
    "    placeholder_lst = []\n",
    "    for col in data.columns:\n",
    "        placeholder_lst.append({'Column': col, value: len(df[df[col] == value].index)})\n",
    "    return placeholder_lst"
   ]
  },
  {
   "cell_type": "code",
   "execution_count": null,
   "metadata": {
    "scrolled": true
   },
   "outputs": [],
   "source": [
    "# Based on the above statistics, the data were further investigated for values of 0.0\n",
    "#%%time\n",
    "value_finder(df, 0.0)"
   ]
  },
  {
   "cell_type": "code",
   "execution_count": null,
   "metadata": {},
   "outputs": [],
   "source": [
    "# 2% of the data in sqft_basement is null. This is a small enough percentage where replacement via central measure should not impact \n",
    "# the distribution or analysis substantially\n",
    "df.sqft_basement.isna().sum()/len(df.sqft_basement)*100"
   ]
  },
  {
   "cell_type": "code",
   "execution_count": null,
   "metadata": {
    "scrolled": true
   },
   "outputs": [],
   "source": [
    "# Inspection of sqft_basement reveals that the distribution is positively skewed. Therefore, in this case the median rather than \n",
    "# the mean can be used as a replacement value (i.e., the central measure least likely to change the shape of the distribution)\n",
    "df['sqft_basement'].replace(np.NaN, 0.0, inplace=True) \n",
    "df.head()"
   ]
  },
  {
   "cell_type": "code",
   "execution_count": null,
   "metadata": {
    "scrolled": true
   },
   "outputs": [],
   "source": [
    "#df.plot.scatter(x='sqft_basement', y='price')\n",
    "sns.regplot(x='sqft_basement', y='price', data =df)"
   ]
  },
  {
   "cell_type": "code",
   "execution_count": null,
   "metadata": {
    "scrolled": true
   },
   "outputs": [],
   "source": [
    "# despite many values of zero, sqft_basement was left in the analysis. \n",
    "print('Pearson correlation coefficent between sqft basement and price = {}'.format(round(df.sqft_basement.corr(df.price), 2)))"
   ]
  },
  {
   "cell_type": "markdown",
   "metadata": {},
   "source": [
    "#### MIssing Data"
   ]
  },
  {
   "cell_type": "code",
   "execution_count": null,
   "metadata": {},
   "outputs": [],
   "source": [
    "msno.matrix(df)\n",
    "#plt.autoscale(False)\n",
    "#sns.heatmap(df.isnull(), cbar=False);\n"
   ]
  },
  {
   "cell_type": "code",
   "execution_count": null,
   "metadata": {
    "scrolled": false
   },
   "outputs": [],
   "source": [
    "df.isna().sum()"
   ]
  },
  {
   "cell_type": "markdown",
   "metadata": {},
   "source": [
    "#### WATERFRONT"
   ]
  },
  {
   "cell_type": "code",
   "execution_count": null,
   "metadata": {},
   "outputs": [],
   "source": [
    "# Waterfront indicates whether a house has a view to the waterfront. \n",
    "df.waterfront.unique()\n",
    "df.waterfront.value_counts()"
   ]
  },
  {
   "cell_type": "code",
   "execution_count": null,
   "metadata": {},
   "outputs": [],
   "source": [
    "#Null values were temporarily dropped to explore further\n",
    "df.waterfront.dropna(axis=0, inplace=True);\n",
    "df.waterfront.isna().sum()"
   ]
  },
  {
   "cell_type": "code",
   "execution_count": null,
   "metadata": {
    "scrolled": true
   },
   "outputs": [],
   "source": [
    "waterfront_ave = round(df.groupby(['waterfront']).mean(), 2)\n",
    "waterfront_ave.head()"
   ]
  },
  {
   "cell_type": "code",
   "execution_count": null,
   "metadata": {},
   "outputs": [],
   "source": [
    "# replace waterfront missing values with NaN category\n",
    "\n",
    "df.waterfront = df.waterfront.astype(str)\n",
    "\n",
    "df.waterfront.replace(np.NaN, 'NaN', inplace=True)\n",
    "df.waterfront.replace(0.0, 'False', inplace=True)\n",
    "df.waterfront.replace(1.0, 'True', inplace=True)"
   ]
  },
  {
   "cell_type": "code",
   "execution_count": null,
   "metadata": {},
   "outputs": [],
   "source": [
    "f, (ax1, ax2, ax3) = plt.subplots(3, figsize=(9,9))\n",
    "sns.boxplot(x=\"waterfront\", y=\"price\", data=df, ax=ax1)\n",
    "sns.boxplot(x=\"waterfront\", y=\"sqft_living\", data=df, ax=ax2)\n",
    "sns.boxplot(x=\"waterfront\", y=\"grade\", data=df, ax=ax3)\n",
    "f.tight_layout()"
   ]
  },
  {
   "cell_type": "code",
   "execution_count": null,
   "metadata": {},
   "outputs": [],
   "source": [
    "# waterfront contains only a very small percentage of houses; however, there appears to be a real difference in size and price,\n",
    "# with the waterfront = 1 median being within outlier range for price and beyond the 75th percentile for sqft_living. \n",
    "# These houses are perhaps best left out of the analysis altogether, as they may represent a different population of mansions and \n",
    "# wealthier properties. "
   ]
  },
  {
   "cell_type": "code",
   "execution_count": null,
   "metadata": {
    "scrolled": true
   },
   "outputs": [],
   "source": [
    "percentage_waterfront_view = 146/len(df.waterfront)*100\n",
    "print(round(percentage_waterfront_view,2))"
   ]
  },
  {
   "cell_type": "markdown",
   "metadata": {},
   "source": [
    "Houses with a waterfront view made up 0.7% of the data, but clearly had median values out of range for those properties without\n",
    "a view (i.e., we could argue that they come from a significantly different population). Visual inspection indicates that the \n",
    "category of missing values is more similar to the non-view category within waterfront and will therefore be treated a such. Houses with a waterfront view were therefore removed from the dataset and the column was dropped. "
   ]
  },
  {
   "cell_type": "code",
   "execution_count": null,
   "metadata": {
    "scrolled": true
   },
   "outputs": [],
   "source": [
    "df = df[df['waterfront'] != '1.0']\n",
    "#df.where(df['waterfront'] != 1.0, inplace=True)\n",
    "#df.loc[df['waterfront'] != 1.0]"
   ]
  },
  {
   "cell_type": "code",
   "execution_count": null,
   "metadata": {},
   "outputs": [],
   "source": [
    "# check that the rows were indeed dropped\n",
    "df.waterfront.unique()"
   ]
  },
  {
   "cell_type": "code",
   "execution_count": null,
   "metadata": {
    "scrolled": true
   },
   "outputs": [],
   "source": [
    "# remove the waterfront column\n",
    "df.drop('waterfront', axis=1, inplace=True);"
   ]
  },
  {
   "cell_type": "code",
   "execution_count": null,
   "metadata": {
    "scrolled": false
   },
   "outputs": [],
   "source": [
    "df.head()"
   ]
  },
  {
   "cell_type": "code",
   "execution_count": null,
   "metadata": {},
   "outputs": [],
   "source": [
    "df.price.corr(df.distance)"
   ]
  },
  {
   "cell_type": "markdown",
   "metadata": {},
   "source": [
    "#### VIEW"
   ]
  },
  {
   "cell_type": "code",
   "execution_count": null,
   "metadata": {},
   "outputs": [],
   "source": [
    "df.view.isna().sum()"
   ]
  },
  {
   "cell_type": "code",
   "execution_count": null,
   "metadata": {},
   "outputs": [],
   "source": [
    "df.view.value_counts()"
   ]
  },
  {
   "cell_type": "code",
   "execution_count": null,
   "metadata": {
    "scrolled": true
   },
   "outputs": [],
   "source": [
    "#temp_explore = df.dropna(subset=['view']).plot(x='view', y='price', kind='scatter')\n",
    "df.plot(x='view', y='price', kind='scatter')"
   ]
  },
  {
   "cell_type": "code",
   "execution_count": null,
   "metadata": {},
   "outputs": [],
   "source": [
    "print('Pearson correlation coefficent between view and price = {}'.format(df.view.corr(df.grade)))"
   ]
  },
  {
   "cell_type": "markdown",
   "metadata": {},
   "source": [
    "View is a measure of whether or not the property has been viewed. The value counts and scatter plot show that it is clearly interval data, with 0 being no views and the maximum number of views being 4. The vast majority of properties have not been viewed, which is resulting in an extreme possitive skew. There are also 62 missing values. Furthermore, when viewed in relation to the target variable, there appears to be no noteworthy relationship between between these variables. This is confirmed by the modest correlation between the two, which is likely being increased by the few apparent outliers. View will therefore be dropped from the data set. "
   ]
  },
  {
   "cell_type": "code",
   "execution_count": null,
   "metadata": {},
   "outputs": [],
   "source": [
    "df.drop('view', axis=1, inplace=True)"
   ]
  },
  {
   "cell_type": "code",
   "execution_count": null,
   "metadata": {
    "scrolled": true
   },
   "outputs": [],
   "source": [
    "df.head()"
   ]
  },
  {
   "cell_type": "markdown",
   "metadata": {},
   "source": [
    "#### YEAR RENOVATED"
   ]
  },
  {
   "cell_type": "code",
   "execution_count": null,
   "metadata": {},
   "outputs": [],
   "source": [
    "df.yr_renovated.isna().sum()"
   ]
  },
  {
   "cell_type": "code",
   "execution_count": null,
   "metadata": {},
   "outputs": [],
   "source": [
    "df.hist('yr_renovated')"
   ]
  },
  {
   "cell_type": "code",
   "execution_count": null,
   "metadata": {
    "scrolled": true
   },
   "outputs": [],
   "source": [
    "df_temp = df.loc[df['yr_renovated'] > 0.0]\n",
    "len(df_temp)/len(df)*100\n",
    "#f_temp.plot.scatter('yr_renovated', 'price');"
   ]
  },
  {
   "cell_type": "code",
   "execution_count": null,
   "metadata": {},
   "outputs": [],
   "source": [
    "df_temp.hist('yr_renovated')"
   ]
  },
  {
   "cell_type": "code",
   "execution_count": null,
   "metadata": {},
   "outputs": [],
   "source": [
    "print('Pearson correlation coefficent between price and year renovated = {}'.format(round(df_temp.price.corr(df.yr_renovated), 2)))"
   ]
  },
  {
   "cell_type": "markdown",
   "metadata": {},
   "source": [
    "Due to the very small percentage of houses with the year of renovations recorded (3%) this variable will be dropped. It is clear that houses that were renovated have been given a value of 0, indicating that in addition to all of the missing data for this column, a value of 0 also indicates missing data. "
   ]
  },
  {
   "cell_type": "code",
   "execution_count": null,
   "metadata": {},
   "outputs": [],
   "source": [
    "df.drop('yr_renovated', axis=1, inplace=True)"
   ]
  },
  {
   "cell_type": "code",
   "execution_count": null,
   "metadata": {},
   "outputs": [],
   "source": [
    "df.head()"
   ]
  },
  {
   "cell_type": "markdown",
   "metadata": {},
   "source": [
    "### Data Type Corrections"
   ]
  },
  {
   "cell_type": "markdown",
   "metadata": {},
   "source": [
    "- price: target variable (float)\n",
    "- bedrooms: number of bedrooms (int)\n",
    "- bathrooms: number of bathrooms (float)\n",
    "- sqft_living: square footage of the home (int)\n",
    "- sqft_lot: square footage of the lot (int)\n",
    "- floors: Total floors (levels) in house (int)\n",
    "- grade: overall grade given to the housing unit, based on King County grading system (int)\n",
    "- sqft_above: square footage of house apart from basement (int)\n",
    "- sqft_basement: square footage of the basement (float)\n",
    "- yr_built: Built year (years)\n",
    "- sqft_living15: Living room area in 2015(implies-- some renovations) This might or might not have affected the lotsize area\n",
    "- sqft_lot15: lotSize area in 2015(implies-- some renovations \n"
   ]
  },
  {
   "cell_type": "code",
   "execution_count": null,
   "metadata": {},
   "outputs": [],
   "source": [
    "df.sqft_basement = df.sqft_basement.astype(int)\n"
   ]
  },
  {
   "cell_type": "code",
   "execution_count": null,
   "metadata": {},
   "outputs": [],
   "source": [
    "df.info()"
   ]
  },
  {
   "cell_type": "code",
   "execution_count": null,
   "metadata": {},
   "outputs": [],
   "source": [
    "df.head()"
   ]
  },
  {
   "cell_type": "markdown",
   "metadata": {},
   "source": [
    "### Feature Engineering and Multicollinearity"
   ]
  },
  {
   "cell_type": "code",
   "execution_count": null,
   "metadata": {},
   "outputs": [],
   "source": [
    "# Year built was replaced with a variable called age\n",
    "df['age'] = 2018 - df['yr_built']"
   ]
  },
  {
   "cell_type": "code",
   "execution_count": null,
   "metadata": {
    "scrolled": true
   },
   "outputs": [],
   "source": [
    "df.age.hist()"
   ]
  },
  {
   "cell_type": "code",
   "execution_count": null,
   "metadata": {},
   "outputs": [],
   "source": [
    "df.drop('yr_built', axis=1, inplace=True)\n"
   ]
  },
  {
   "cell_type": "code",
   "execution_count": null,
   "metadata": {
    "scrolled": true
   },
   "outputs": [],
   "source": [
    "df.head()"
   ]
  },
  {
   "cell_type": "code",
   "execution_count": null,
   "metadata": {
    "scrolled": true
   },
   "outputs": [],
   "source": [
    "df['renovated_living'] = df['sqft_living'] - df['sqft_living15']\n",
    "df['renovated_lot'] = df['sqft_lot'] - df['sqft_lot15']\n"
   ]
  },
  {
   "cell_type": "code",
   "execution_count": null,
   "metadata": {
    "scrolled": true
   },
   "outputs": [],
   "source": [
    "# Two new variables were created for the size of the renovations made to the living and lot. \n",
    "df.renovated_living.hist()\n",
    "print(df.renovated_living.describe().round())"
   ]
  },
  {
   "cell_type": "code",
   "execution_count": null,
   "metadata": {
    "scrolled": false
   },
   "outputs": [],
   "source": [
    "df.renovated_lot.describe().round()"
   ]
  },
  {
   "cell_type": "markdown",
   "metadata": {},
   "source": [
    "### Removing extreme values"
   ]
  },
  {
   "cell_type": "code",
   "execution_count": null,
   "metadata": {},
   "outputs": [],
   "source": [
    "normalized_df=(df-df.mean())/df.std()\n",
    "len(normalized_df)"
   ]
  },
  {
   "cell_type": "code",
   "execution_count": null,
   "metadata": {},
   "outputs": [],
   "source": [
    "merged = df.merge(normalized_df, suffixes=('', '_z'), left_index=True, right_index=True)\n",
    "merged.columns"
   ]
  },
  {
   "cell_type": "code",
   "execution_count": null,
   "metadata": {},
   "outputs": [],
   "source": [
    "#len(merged.loc[merged['price_z'] > 2.5])/len(merged)  #\n",
    "tails = len((merged.loc[merged['price_z'] > 3]) | (merged.loc[merged['price_z'] < - 3]))/len(merged)        \n",
    "tails*100"
   ]
  },
  {
   "cell_type": "code",
   "execution_count": null,
   "metadata": {},
   "outputs": [],
   "source": [
    "merged.loc[merged['price_z'] > 10]"
   ]
  },
  {
   "cell_type": "code",
   "execution_count": null,
   "metadata": {},
   "outputs": [],
   "source": [
    "merged.loc[merged['price'] > 3999999]"
   ]
  },
  {
   "cell_type": "markdown",
   "metadata": {},
   "source": [
    "Houses over 4 million were shown to have extremely high z scores (> 10) and were excluded. Usually values over 3-4 STD can be considered outliers, but price is not normally distributed, so extreme cases were chosen for the time being. Further outlier analysis will be considered for other extreme cases. "
   ]
  },
  {
   "cell_type": "code",
   "execution_count": null,
   "metadata": {},
   "outputs": [],
   "source": [
    "df2 = df.loc[df['price'] < 3999999]"
   ]
  },
  {
   "cell_type": "code",
   "execution_count": null,
   "metadata": {},
   "outputs": [],
   "source": [
    "df2.head()\n",
    "len(df2)"
   ]
  },
  {
   "cell_type": "code",
   "execution_count": null,
   "metadata": {},
   "outputs": [],
   "source": [
    "df3 = df2"
   ]
  },
  {
   "cell_type": "code",
   "execution_count": null,
   "metadata": {},
   "outputs": [],
   "source": [
    "df3.head()"
   ]
  },
  {
   "cell_type": "code",
   "execution_count": null,
   "metadata": {},
   "outputs": [],
   "source": [
    "# Keep track of total number of subplots\n",
    "k = len(df.columns)\n",
    "# n will be the number of chart columns. Change this to suit individual needs.  \n",
    "# m will be the calculated number of required rows based on k and n\n",
    "n = 2\n",
    "m = (k - 1) // n + 1\n",
    "#Create a figure and array of axes with required number of rows and columns.\n",
    "fig, axes = plt.subplots(m, n, figsize=(12,12))\n",
    "#Iterate through columns, tracking the column name and which number we are at i. Within each iteration, plot.\n",
    "\n",
    "for i, (name, col) in enumerate(df.iteritems()):\n",
    "    r, c = i // n, i % n\n",
    "    ax = axes[r, c]\n",
    "    col.hist(ax=ax)\n",
    "    ax2 = col.plot.kde(ax=ax, secondary_y=True, title=name)\n",
    "    ax2.set_ylim(0)\n",
    "\n",
    "fig.tight_layout()"
   ]
  },
  {
   "cell_type": "code",
   "execution_count": null,
   "metadata": {},
   "outputs": [],
   "source": [
    "df2.lat.hist()"
   ]
  },
  {
   "cell_type": "code",
   "execution_count": null,
   "metadata": {},
   "outputs": [],
   "source": [
    "data_norm = pd.DataFrame([])\n",
    "data_norm[\"logprice\"] = np.log(df2[\"price\"])\n",
    "data_norm['sqrtage'] = np.sqrt(df2['age'])\n",
    "data_norm['logsqft_living'] = np.sqrt(df2['sqft_living'])\n",
    "data_norm['logdist'] = np.log(df2['distance'] +1)\n",
    "data_norm['logsqft_lot15'] = np.log(df2['sqft_lot15'] +1)\n",
    "data_norm['logsqft_living15'] = np.log(df2['sqft_living15'])\n",
    "data_norm.hist(figsize  = [10,6]);"
   ]
  },
  {
   "cell_type": "code",
   "execution_count": null,
   "metadata": {},
   "outputs": [],
   "source": [
    "df3 = df3.merge(data_norm, left_index=True, right_index=True)\n"
   ]
  },
  {
   "cell_type": "code",
   "execution_count": null,
   "metadata": {
    "scrolled": true
   },
   "outputs": [],
   "source": [
    "df3.head()"
   ]
  },
  {
   "cell_type": "code",
   "execution_count": null,
   "metadata": {},
   "outputs": [],
   "source": [
    "to_drop = ['price', 'sqft_living', 'distance','sqft_living15', 'sqft_lot15']\n",
    "df3.drop(to_drop, axis=1, inplace=True)"
   ]
  },
  {
   "cell_type": "code",
   "execution_count": null,
   "metadata": {},
   "outputs": [],
   "source": [
    "# Set the style of the visualization\n",
    "sns.set(style=\"white\")\n",
    "\n",
    "# Create a covariance matrix\n",
    "corr = df3.corr()\n",
    "\n",
    "# Generate a mask the size of our covariance matrix\n",
    "mask = np.zeros_like(corr, dtype=np.bool)\n",
    "mask[np.triu_indices_from(mask)] = True\n",
    "\n",
    "# Set up the matplotlib figure\n",
    "f, ax = plt.subplots(figsize=(16,13))\n",
    "\n",
    "# Generate a custom diverging colormap\n",
    "cmap = sns.diverging_palette(220,10, as_cmap=True)\n",
    "\n",
    "# Draw the heatmap with the mask and correct aspect ratio\n",
    "sns.heatmap(corr, mask=mask, cmap=cmap, vmax=.8, center=0, square=True, linewidths=.4, annot=True, cbar_kws={'shrink':0.6})"
   ]
  },
  {
   "cell_type": "markdown",
   "metadata": {},
   "source": [
    "- Age was found to have no correlation with price. Interestingly, though, it did have significant inverse correlations with a number of other variables that did correlate with price (for instance, bathrooms, floors, grade), and so it may have an indirect relationship with price.\n",
    "- The size of the lot did not seem related to price, in all instances (original lot size, recent lot size and renovations to lot). Therefore, all lot variables will be dropped.\n",
    "- Condition showed no relationship with price and will be dropped"
   ]
  },
  {
   "cell_type": "code",
   "execution_count": null,
   "metadata": {
    "scrolled": true
   },
   "outputs": [],
   "source": [
    "#sns.scatterplot(x='grade', y='age', data=df)"
   ]
  },
  {
   "cell_type": "code",
   "execution_count": null,
   "metadata": {},
   "outputs": [],
   "source": [
    "to_drop = ['renovated_lot', 'sqft_lot15', 'condition','sqft_lot']\n",
    "df2.drop(to_drop, axis=1, inplace=True)\n"
   ]
  },
  {
   "cell_type": "code",
   "execution_count": null,
   "metadata": {
    "scrolled": true
   },
   "outputs": [],
   "source": [
    "df.describe()"
   ]
  },
  {
   "cell_type": "code",
   "execution_count": null,
   "metadata": {},
   "outputs": [],
   "source": [
    "# drop negative values for boxcox transformation\n",
    "#df.drop('renovated_living', axis=1, inplace=True)\n",
    "#df.drop('long', axis=1, inplace=True)"
   ]
  },
  {
   "cell_type": "code",
   "execution_count": null,
   "metadata": {
    "scrolled": true
   },
   "outputs": [],
   "source": [
    "df2.describe()"
   ]
  },
  {
   "cell_type": "code",
   "execution_count": null,
   "metadata": {},
   "outputs": [],
   "source": [
    "# Set the style of the visualization\n",
    "sns.set(style=\"white\")\n",
    "\n",
    "# Create a covariance matrix\n",
    "corr = df2.corr()\n",
    "\n",
    "# Generate a mask the size of our covariance matrix\n",
    "mask = np.zeros_like(corr, dtype=np.bool)\n",
    "mask[np.triu_indices_from(mask)] = True\n",
    "\n",
    "# Set up the matplotlib figure\n",
    "f, ax = plt.subplots(figsize=(13,10))\n",
    "\n",
    "# Generate a custom diverging colormap\n",
    "cmap = sns.diverging_palette(220,10, as_cmap=True)\n",
    "\n",
    "# Draw the heatmap with the mask and correct aspect ratio\n",
    "sns.heatmap(corr, mask=mask, cmap=cmap, vmax=.8, center=0, square=True, linewidths=.5, annot=True, fmt=\".2f\", cbar_kws={'shrink':0.5})"
   ]
  },
  {
   "cell_type": "markdown",
   "metadata": {},
   "source": [
    "### Feature Selection and Model Building"
   ]
  },
  {
   "cell_type": "markdown",
   "metadata": {},
   "source": [
    "### Hierarchical Selection (based on interpretation)\n",
    "\n",
    "Interpretation was based on visual inspection of the correlation matrix and understanding of the variables\n",
    "- Many of the variables are measures of the size of the property and intercorrelated; therefore, I determined beforehand that only some of these variables are accounting uniquely for variance in price. sqft_living had the highest correlation with price and from this was most likely to be significantly related to price. \n",
    "- Distance, lat and long all had moderate relationships with price\n",
    "- Grade also a strong correlation with price\n",
    "- Age had no relationship to price; however, it did have moderate inverse relationships with certain variables that were correlated with price, which is an indication that it may be a moderator. "
   ]
  },
  {
   "cell_type": "markdown",
   "metadata": {},
   "source": [
    "##### Selection of size features "
   ]
  },
  {
   "cell_type": "code",
   "execution_count": null,
   "metadata": {},
   "outputs": [],
   "source": []
  },
  {
   "cell_type": "markdown",
   "metadata": {},
   "source": [
    "- Model 1:   price ~ sqft_living                          = 49.1% \n",
    "- Model 2.1: price ~ sqft_living + grade                  = 54.0% (R-square change: 0.049)\n",
    "- Model 2.2: price ~ sqft_living + age                    = 52.3% (R-square change: 0.023)\n",
    "- Model 3:   price ~ sqft_living + grade + age            = 61.2% (R-square change: 0.121)\n",
    "- Model 4:   price ~ sqft_living + grade + age + distance = 68.9% (R-square change: 0.077)\n",
    "\n",
    "All other variables failed to account for more than 1% variance and in some introduced error and dimensionality into the model, resulting in a lower R-squared. "
   ]
  },
  {
   "cell_type": "code",
   "execution_count": null,
   "metadata": {
    "scrolled": true
   },
   "outputs": [],
   "source": [
    "# all other variables accounted for less variance when added into the model\n",
    "formula1 = \"logprice ~ grade + logdist + logsqft_living +sqft_lot+ lat + condition\"                     #logsqft_living  \n",
    "model1 = ols(formula= formula1, data=df3_z).fit()\n",
    "model1.summary()"
   ]
  },
  {
   "cell_type": "code",
   "execution_count": null,
   "metadata": {},
   "outputs": [],
   "source": [
    "formula2 = \"logprice ~ logsqft_living+grade\"   \n",
    "model2 = ols(formula= formula2, data=df3_z).fit()\n",
    "model2.summary()"
   ]
  },
  {
   "cell_type": "code",
   "execution_count": null,
   "metadata": {},
   "outputs": [],
   "source": [
    "formula3 = \"logprice ~ logsqft_living+sqrtage\"    \n",
    "model3 = ols(formula= formula3, data=df3_z).fit()\n",
    "model3.summary()"
   ]
  },
  {
   "cell_type": "code",
   "execution_count": null,
   "metadata": {},
   "outputs": [],
   "source": [
    "formula4 = \"logprice ~ logsqft_living+grade+sqrtage\"   \n",
    "model4 = ols(formula= formula4, data=df3_z).fit()\n",
    "model4.summary()"
   ]
  },
  {
   "cell_type": "code",
   "execution_count": null,
   "metadata": {},
   "outputs": [],
   "source": [
    "formula5 = \"logprice ~ logsqft_living+grade+sqrtage+logdist\"   \n",
    "model5 = ols(formula= formula5, data=df3_z).fit()\n",
    "model5.summary()"
   ]
  },
  {
   "cell_type": "code",
   "execution_count": null,
   "metadata": {},
   "outputs": [],
   "source": [
    "#bathrooms+bedrooms+sqft_basement+floors+sqft_above+sqft_living15\"\n",
    "formula6 = \"logprice ~ logsqft_living+grade+sqrtage+logdist+lat+bathrooms+bedrooms+sqft_basement+floors+sqft_above+logsqft_living15\"       \n",
    "model6 = ols(formula= formula6, data=df3_z).fit()\n",
    "model6.summary()"
   ]
  },
  {
   "cell_type": "code",
   "execution_count": null,
   "metadata": {},
   "outputs": [],
   "source": [
    "anovaResults = anova_lm(model1, model2, model3, model4, model5, model6)\n",
    "anovaResults\n",
    "#np.round()"
   ]
  },
  {
   "cell_type": "markdown",
   "metadata": {},
   "source": [
    "##### Selection of location features"
   ]
  },
  {
   "cell_type": "code",
   "execution_count": null,
   "metadata": {},
   "outputs": [],
   "source": [
    "formula2_1 = \"logprice ~ logsqft_living+grade+sqrtage+logdist\"   \n",
    "model2_1 = ols(formula= formula2_1, data=df3_z).fit()\n",
    "model2_1.summary()"
   ]
  },
  {
   "cell_type": "code",
   "execution_count": null,
   "metadata": {
    "scrolled": true
   },
   "outputs": [],
   "source": [
    "formula2_2 = \"logprice ~ logsqft_living+grade+sqrtage+logdist+lat\"   \n",
    "model2_2 = ols(formula= formula2_2, data=df3_z).fit()\n",
    "model2_2.summary()"
   ]
  },
  {
   "cell_type": "code",
   "execution_count": null,
   "metadata": {},
   "outputs": [],
   "source": [
    "formula2_3 = \"price ~ sqft_living+grade+age+lat+long+distance\"   \n",
    "model2_3 = ols(formula= formula2_3, data=df2).fit()\n",
    "model2_3.summary()"
   ]
  },
  {
   "cell_type": "markdown",
   "metadata": {},
   "source": [
    "Model2.1: price ~ sqft_living+grade+age+distance = 68.9%\n",
    "Model2.2: price ~ sqft_living+grade+age+lat+long = 65.8%\n",
    "Model2.3: price ~ sqft_living+grade+age+lat+long+distance = 68.9%"
   ]
  },
  {
   "cell_type": "code",
   "execution_count": null,
   "metadata": {
    "scrolled": true
   },
   "outputs": [],
   "source": [
    "anova_location_data = anova_lm(model2_1, model2_2)\n",
    "anova_location_data"
   ]
  },
  {
   "cell_type": "markdown",
   "metadata": {},
   "source": [
    "### Recursive Feature Selection"
   ]
  },
  {
   "cell_type": "code",
   "execution_count": null,
   "metadata": {},
   "outputs": [],
   "source": [
    "king_features = df3.drop('logprice', axis=1);"
   ]
  },
  {
   "cell_type": "code",
   "execution_count": null,
   "metadata": {
    "scrolled": true
   },
   "outputs": [],
   "source": [
    "king_features.columns;"
   ]
  },
  {
   "cell_type": "code",
   "execution_count": null,
   "metadata": {},
   "outputs": [],
   "source": [
    "df2.head();"
   ]
  },
  {
   "cell_type": "code",
   "execution_count": null,
   "metadata": {},
   "outputs": [],
   "source": [
    "target = df3['logprice'];"
   ]
  },
  {
   "cell_type": "code",
   "execution_count": null,
   "metadata": {},
   "outputs": [],
   "source": [
    "x = king_features\n",
    "y = target"
   ]
  },
  {
   "cell_type": "code",
   "execution_count": null,
   "metadata": {},
   "outputs": [],
   "source": [
    "from sklearn.feature_selection import RFE\n",
    "from sklearn.linear_model import LinearRegression\n",
    "\n",
    "linreg = LinearRegression()\n",
    "selector = RFE(linreg, n_features_to_select = 14)\n",
    "selector = selector.fit(x, y)"
   ]
  },
  {
   "cell_type": "code",
   "execution_count": null,
   "metadata": {
    "scrolled": true
   },
   "outputs": [],
   "source": [
    "selector.support_ "
   ]
  },
  {
   "cell_type": "code",
   "execution_count": null,
   "metadata": {},
   "outputs": [],
   "source": [
    "selected_columns = x.columns[selector.support_ ]\n",
    "linreg.fit(x[selected_columns],y)"
   ]
  },
  {
   "cell_type": "code",
   "execution_count": null,
   "metadata": {
    "scrolled": true
   },
   "outputs": [],
   "source": [
    "LinearRegression(copy_X=True, fit_intercept=True, n_jobs=1, normalize=False)"
   ]
  },
  {
   "cell_type": "code",
   "execution_count": null,
   "metadata": {},
   "outputs": [],
   "source": [
    "yhat = linreg.predict(x[selected_columns])"
   ]
  },
  {
   "cell_type": "code",
   "execution_count": null,
   "metadata": {},
   "outputs": [],
   "source": [
    "SS_Residual = np.sum((y-yhat)**2)\n",
    "SS_Total = np.sum((y-np.mean(y))**2)\n",
    "r_squared = 1 - (float(SS_Residual))/SS_Total\n",
    "adjusted_r_squared = 1 - (1-r_squared)*(len(y)-1)/(len(y)-x.shape[1]-1)"
   ]
  },
  {
   "cell_type": "code",
   "execution_count": null,
   "metadata": {},
   "outputs": [],
   "source": [
    "print(SS_Residual)\n",
    "print(SS_Total)\n",
    "print(r_squared)\n",
    "print(adjusted_r_squared)"
   ]
  },
  {
   "cell_type": "code",
   "execution_count": null,
   "metadata": {},
   "outputs": [],
   "source": [
    "df3_z = (df3-df3.mean())/df3.std()\n",
    "df3_z.head()"
   ]
  },
  {
   "cell_type": "code",
   "execution_count": null,
   "metadata": {},
   "outputs": [],
   "source": [
    "xz = df3_z.drop('logprice', axis=1)\n",
    "yz = df3_z.logprice"
   ]
  },
  {
   "cell_type": "code",
   "execution_count": null,
   "metadata": {},
   "outputs": [],
   "source": [
    "from sklearn.metrics import mean_squared_error\n",
    "from sklearn.model_selection import cross_val_score\n",
    "\n",
    "cv_5_results = np.mean(cross_val_score(linreg, xz, yz, cv=5, scoring=\"neg_mean_squared_error\"))\n",
    "cv_10_results = np.mean(cross_val_score(linreg, xz, yz, cv=10, scoring=\"neg_mean_squared_error\"))\n",
    "cv_20_results = np.mean(cross_val_score(linreg, xz, yz, cv=20, scoring=\"neg_mean_squared_error\"))\n",
    "\n",
    "print(1 - (- cv_5_results))\n",
    "print(1 - (- cv_10_results))\n",
    "print(1 - (- cv_20_results))"
   ]
  },
  {
   "cell_type": "code",
   "execution_count": null,
   "metadata": {},
   "outputs": [],
   "source": [
    "mod1 = linreg.fit(xz,yz)\n",
    "LinearRegression(copy_X=True, fit_intercept=True, n_jobs=1, normalize=False)\n",
    "linreg.coef_"
   ]
  },
  {
   "cell_type": "code",
   "execution_count": null,
   "metadata": {},
   "outputs": [],
   "source": [
    "yhat1 = linreg.predict(xz)"
   ]
  },
  {
   "cell_type": "code",
   "execution_count": null,
   "metadata": {},
   "outputs": [],
   "source": [
    "SS_Residual = np.sum((yz-yhat1)**2)\n",
    "SS_Total = np.sum((yz-np.mean(yz))**2)\n",
    "r_squared = 1 - (float(SS_Residual))/SS_Total\n",
    "adjusted_r_squared = 1 - (1-r_squared)*(len(yz)-1)/(len(yz)-xz.shape[1]-1)"
   ]
  },
  {
   "cell_type": "code",
   "execution_count": null,
   "metadata": {},
   "outputs": [],
   "source": [
    "print(SS_Residual)\n",
    "print(SS_Total)\n",
    "print(r_squared)\n",
    "print(adjusted_r_squared)"
   ]
  },
  {
   "cell_type": "code",
   "execution_count": null,
   "metadata": {},
   "outputs": [],
   "source": [
    "X_int = sm.add_constant(xz)\n",
    "mod2 = sm.OLS(yz,X_int).fit()\n",
    "mod2.summary()"
   ]
  },
  {
   "cell_type": "markdown",
   "metadata": {},
   "source": [
    "### Stepwise Selection"
   ]
  },
  {
   "cell_type": "code",
   "execution_count": null,
   "metadata": {},
   "outputs": [],
   "source": [
    "import statsmodels.api as sm\n",
    "\n",
    "def stepwise_selection(X, y, \n",
    "                       initial_list=[], \n",
    "                       threshold_in=0.01, \n",
    "                       threshold_out = 0.05, \n",
    "                       verbose=True):\n",
    "    \"\"\" Perform a forward-backward feature selection \n",
    "    based on p-value from statsmodels.api.OLS\n",
    "    Arguments:\n",
    "        X - pandas.DataFrame with candidate features\n",
    "        y - list-like with the target\n",
    "        initial_list - list of features to start with (column names of X)\n",
    "        threshold_in - include a feature if its p-value < threshold_in\n",
    "        threshold_out - exclude a feature if its p-value > threshold_out\n",
    "        verbose - whether to print the sequence of inclusions and exclusions\n",
    "    Returns: list of selected features \n",
    "    Always set threshold_in < threshold_out to avoid infinite looping.\n",
    "    See https://en.wikipedia.org/wiki/Stepwise_regression for the details\n",
    "    \"\"\"\n",
    "    included = list(initial_list)\n",
    "    while True:\n",
    "        changed=False\n",
    "        # forward step\n",
    "        excluded = list(set(X.columns)-set(included))\n",
    "        new_pval = pd.Series(index=excluded)\n",
    "        for new_column in excluded:\n",
    "            model = sm.OLS(y, sm.add_constant(pd.DataFrame(X[included+[new_column]]))).fit()\n",
    "            new_pval[new_column] = model.pvalues[new_column]\n",
    "        best_pval = new_pval.min()\n",
    "        if best_pval < threshold_in:\n",
    "            best_feature = new_pval.idxmin()\n",
    "            included.append(best_feature)\n",
    "            changed=True\n",
    "            if verbose:\n",
    "                print('Add  {:30} with p-value {:.6}'.format(best_feature, best_pval))\n",
    "\n",
    "        # backward step\n",
    "        model = sm.OLS(y, sm.add_constant(pd.DataFrame(X[included]))).fit()\n",
    "        # use all coefs except intercept\n",
    "        pvalues = model.pvalues.iloc[1:]\n",
    "        worst_pval = pvalues.max() # null if pvalues is empty\n",
    "        if worst_pval > threshold_out:\n",
    "            changed=True\n",
    "            worst_feature = pvalues.argmax()\n",
    "            included.remove(worst_feature)\n",
    "            if verbose:\n",
    "                print('Drop {:30} with p-value {:.6}'.format(worst_feature, worst_pval))\n",
    "        if not changed:\n",
    "            break\n",
    "    return included"
   ]
  },
  {
   "cell_type": "code",
   "execution_count": null,
   "metadata": {},
   "outputs": [],
   "source": [
    "result = stepwise_selection(xz, yz, verbose = True)\n",
    "print('resulting features:')\n",
    "print(result)"
   ]
  },
  {
   "cell_type": "markdown",
   "metadata": {},
   "source": [
    "### Forwards Selection"
   ]
  },
  {
   "cell_type": "code",
   "execution_count": null,
   "metadata": {},
   "outputs": [],
   "source": [
    "import statsmodels.formula.api as smf"
   ]
  },
  {
   "cell_type": "code",
   "execution_count": null,
   "metadata": {},
   "outputs": [],
   "source": [
    "\n",
    "def forward_selected(data, response):\n",
    "    \"\"\"Linear model designed by forward selection.\n",
    "\n",
    "    Parameters:\n",
    "    -----------\n",
    "    data : pandas DataFrame with all possible predictors and response\n",
    "\n",
    "    response: string, name of response column in data\n",
    "\n",
    "    Returns:\n",
    "    --------\n",
    "    model: an \"optimal\" fitted statsmodels linear model\n",
    "           with an intercept\n",
    "           selected by forward selection\n",
    "           evaluated by adjusted R-squared\n",
    "    \"\"\"\n",
    "    remaining = set(data.columns)\n",
    "    remaining.remove(response)\n",
    "    selected = []\n",
    "    current_score, best_new_score = 0.0, 0.0\n",
    "    while remaining and current_score == best_new_score:\n",
    "        scores_with_candidates = []\n",
    "        for candidate in remaining:\n",
    "            formula = \"{} ~ {} + 1\".format(response,\n",
    "                                           ' + '.join(selected + [candidate]))\n",
    "            score = smf.ols(formula, data).fit().rsquared_adj\n",
    "            scores_with_candidates.append((score, candidate))\n",
    "        scores_with_candidates.sort()\n",
    "        best_new_score, best_candidate = scores_with_candidates.pop()\n",
    "        if current_score < best_new_score:\n",
    "            remaining.remove(best_candidate)\n",
    "            selected.append(best_candidate)\n",
    "            current_score = best_new_score\n",
    "    formula = \"{} ~ {} + 1\".format(response,\n",
    "                                   ' + '.join(selected))\n",
    "    model = smf.ols(formula, data).fit()\n",
    "    return model"
   ]
  },
  {
   "cell_type": "code",
   "execution_count": null,
   "metadata": {},
   "outputs": [],
   "source": [
    "model = forward_selected(df3_z, 'logprice')\n",
    "\n",
    "print(model.model.formula)\n",
    "# sl ~ rk + yr + 1\n",
    "\n",
    "print(model.rsquared_adj)"
   ]
  },
  {
   "cell_type": "markdown",
   "metadata": {},
   "source": [
    "### Transformations and Diagnostics"
   ]
  },
  {
   "cell_type": "code",
   "execution_count": null,
   "metadata": {},
   "outputs": [],
   "source": [
    "df2_final = df2.loc[:,['price', 'sqft_living', 'grade', 'age', 'distance']]"
   ]
  },
  {
   "cell_type": "code",
   "execution_count": null,
   "metadata": {},
   "outputs": [],
   "source": [
    "x = df2_final.drop('price', axis=1)"
   ]
  },
  {
   "cell_type": "code",
   "execution_count": null,
   "metadata": {},
   "outputs": [],
   "source": [
    "y = df2.price"
   ]
  },
  {
   "cell_type": "code",
   "execution_count": null,
   "metadata": {},
   "outputs": [],
   "source": [
    "linreg = LinearRegression()\n",
    "linreg.fit(x,y)"
   ]
  },
  {
   "cell_type": "code",
   "execution_count": null,
   "metadata": {},
   "outputs": [],
   "source": [
    "LinearRegression(copy_X=True, fit_intercept=True, n_jobs=1, normalize=False)"
   ]
  },
  {
   "cell_type": "code",
   "execution_count": null,
   "metadata": {},
   "outputs": [],
   "source": [
    "yhat = linreg.predict(x)"
   ]
  },
  {
   "cell_type": "code",
   "execution_count": null,
   "metadata": {},
   "outputs": [],
   "source": [
    "residuals = y - yhat\n",
    "#residuals.hist()\n",
    "sns.distplot(residuals)\n",
    "plt.xlim(-1000000, 1000000)"
   ]
  },
  {
   "cell_type": "code",
   "execution_count": null,
   "metadata": {},
   "outputs": [],
   "source": [
    "SS_Residual = np.sum((y-yhat)**2)\n",
    "SS_Total = np.sum((y-np.mean(y))**2)\n",
    "r_squared = 1 - (float(SS_Residual))/SS_Total\n",
    "adjusted_r_squared = 1 - (1-r_squared)*(len(y)-1)/(len(y)-x.shape[1]-1)"
   ]
  },
  {
   "cell_type": "code",
   "execution_count": null,
   "metadata": {
    "scrolled": true
   },
   "outputs": [],
   "source": [
    "print(SS_Residual)\n",
    "print(SS_Total)\n",
    "print(r_squared)\n",
    "print(adjusted_r_squared)"
   ]
  },
  {
   "cell_type": "code",
   "execution_count": null,
   "metadata": {},
   "outputs": [],
   "source": [
    "final_formula = \"price ~ sqft_living+grade+age+distance\"   \n",
    "fmodel = ols(formula= final_formula, data=df2_final).fit()"
   ]
  },
  {
   "cell_type": "code",
   "execution_count": null,
   "metadata": {},
   "outputs": [],
   "source": [
    "#sns.set(style=\"ticks\", color_codes=True)\n",
    "#sns.pairplot(df_final, kind='reg', diag_kind='kde', plot_kws={'line_kws':{'color': 'red', 'linewidth':1}});"
   ]
  },
  {
   "cell_type": "code",
   "execution_count": null,
   "metadata": {},
   "outputs": [],
   "source": [
    "fig, ax = plt.subplots(figsize=(12,8))\n",
    "fig = sm.graphics.influence_plot(fmodel, ax=ax, criterion=\"cooks\")"
   ]
  },
  {
   "cell_type": "code",
   "execution_count": null,
   "metadata": {
    "scrolled": true
   },
   "outputs": [],
   "source": [
    "m = fmodel\n",
    "infl = m.get_influence()\n",
    "sm_fr = infl.summary_frame()\n",
    "sm_fr.head()\n"
   ]
  },
  {
   "cell_type": "code",
   "execution_count": null,
   "metadata": {
    "scrolled": true
   },
   "outputs": [],
   "source": [
    "sm_fr.loc[(sm_fr['standard_resid'] > 3) |  (sm_fr['standard_resid'] < -3)]  "
   ]
  },
  {
   "cell_type": "code",
   "execution_count": null,
   "metadata": {
    "scrolled": true
   },
   "outputs": [],
   "source": [
    "328/len(df2_final)*100"
   ]
  },
  {
   "cell_type": "code",
   "execution_count": null,
   "metadata": {},
   "outputs": [],
   "source": [
    "len(df2_final)"
   ]
  },
  {
   "cell_type": "code",
   "execution_count": null,
   "metadata": {},
   "outputs": [],
   "source": [
    "merged2 = df2_final.merge(sm_fr, suffixes=('', '_z'), left_index=True, right_index=True)\n",
    "len(merged2)"
   ]
  },
  {
   "cell_type": "code",
   "execution_count": null,
   "metadata": {
    "scrolled": true
   },
   "outputs": [],
   "source": [
    "merged2.loc[(merged2['standard_resid'] > 3) |  (merged2['standard_resid'] < -3)] "
   ]
  },
  {
   "cell_type": "code",
   "execution_count": null,
   "metadata": {},
   "outputs": [],
   "source": [
    "final = merged2.drop(merged2[(merged2.standard_resid < -3) | (merged2.standard_resid > 3)].index)"
   ]
  },
  {
   "cell_type": "code",
   "execution_count": null,
   "metadata": {},
   "outputs": [],
   "source": [
    "len(final)"
   ]
  },
  {
   "cell_type": "code",
   "execution_count": null,
   "metadata": {},
   "outputs": [],
   "source": [
    "final_formula = \"price ~ sqft_living+grade+age+distance\"   \n",
    "fmodel2 = ols(formula= final_formula, data=final).fit()\n",
    "fmodel2.summary()"
   ]
  },
  {
   "cell_type": "code",
   "execution_count": null,
   "metadata": {},
   "outputs": [],
   "source": [
    "to_drop = ['dfb_Intercept', 'dfb_sqft_living', 'dfb_grade', 'dfb_age', 'dfb_distance', 'cooks_d', 'standard_resid', 'hat_diag', 'dffits_internal', 'student_resid', 'dffits']\n",
    "final.drop(to_drop, axis=1, inplace=True)"
   ]
  },
  {
   "cell_type": "code",
   "execution_count": null,
   "metadata": {
    "scrolled": true
   },
   "outputs": [],
   "source": [
    "final.head()"
   ]
  },
  {
   "cell_type": "code",
   "execution_count": null,
   "metadata": {},
   "outputs": [],
   "source": [
    "# min-max scaling susceptible to outliers, use z scores\n",
    "scaled = (df2_final-df2_final.mean())/df2_final.std()\n",
    "len(scaled)"
   ]
  },
  {
   "cell_type": "code",
   "execution_count": null,
   "metadata": {},
   "outputs": [],
   "source": [
    "scaled.head()"
   ]
  },
  {
   "cell_type": "code",
   "execution_count": null,
   "metadata": {},
   "outputs": [],
   "source": [
    "scaled2 = (final-final.mean())/final.std()\n",
    "len(scaled2)"
   ]
  },
  {
   "cell_type": "code",
   "execution_count": null,
   "metadata": {},
   "outputs": [],
   "source": [
    "x1 = scaled2.drop('price', axis=1)\n",
    "y1 = scaled2.price"
   ]
  },
  {
   "cell_type": "code",
   "execution_count": null,
   "metadata": {},
   "outputs": [],
   "source": [
    "cv_5_results = np.mean(cross_val_score(linreg, x1, y1, cv=5, scoring=\"neg_mean_squared_error\"))\n",
    "cv_10_results = np.mean(cross_val_score(linreg, x1, y1, cv=10, scoring=\"neg_mean_squared_error\"))\n",
    "cv_20_results = np.mean(cross_val_score(linreg, x1, y1, cv=20, scoring=\"neg_mean_squared_error\"))\n",
    "\n",
    "print(1 - (- cv_5_results))\n",
    "print(1 - (- cv_10_results))\n",
    "print(1 - (- cv_20_results))"
   ]
  },
  {
   "cell_type": "code",
   "execution_count": null,
   "metadata": {},
   "outputs": [],
   "source": []
  },
  {
   "cell_type": "code",
   "execution_count": null,
   "metadata": {},
   "outputs": [],
   "source": [
    "x2 = final.drop('price', axis=1)\n",
    "y2 = final.price"
   ]
  },
  {
   "cell_type": "code",
   "execution_count": null,
   "metadata": {},
   "outputs": [],
   "source": [
    "from sklearn.metrics import mean_squared_error\n",
    "from sklearn.model_selection import cross_val_score\n",
    "\n",
    "cv_5_results = np.mean(cross_val_score(linreg, x2, y2, cv=5, scoring=\"neg_mean_squared_error\"))\n",
    "cv_10_results = np.mean(cross_val_score(linreg, x2, y2, cv=10, scoring=\"neg_mean_squared_error\"))\n",
    "cv_20_results = np.mean(cross_val_score(linreg, x2, y2, cv=20, scoring=\"neg_mean_squared_error\"))\n",
    "\n",
    "print(cv_5_results)\n",
    "print(cv_10_results)\n",
    "print(cv_20_results)"
   ]
  },
  {
   "cell_type": "code",
   "execution_count": null,
   "metadata": {},
   "outputs": [],
   "source": [
    "x3 = scaled.drop('price', axis=1)\n",
    "y3 = scaled.price"
   ]
  },
  {
   "cell_type": "code",
   "execution_count": null,
   "metadata": {},
   "outputs": [],
   "source": [
    "cv_5_results = np.mean(cross_val_score(linreg, x3, y3, cv=5, scoring=\"neg_mean_squared_error\"))\n",
    "cv_10_results = np.mean(cross_val_score(linreg, x3, y3, cv=10, scoring=\"neg_mean_squared_error\"))\n",
    "cv_20_results = np.mean(cross_val_score(linreg, x3, y3, cv=20, scoring=\"neg_mean_squared_error\"))\n",
    "\n",
    "print(1 - (- cv_5_results))\n",
    "print(1 - (- cv_10_results))\n",
    "print(1 - (- cv_20_results))"
   ]
  },
  {
   "cell_type": "code",
   "execution_count": null,
   "metadata": {},
   "outputs": [],
   "source": []
  },
  {
   "cell_type": "code",
   "execution_count": null,
   "metadata": {},
   "outputs": [],
   "source": []
  },
  {
   "cell_type": "markdown",
   "metadata": {},
   "source": [
    "### EXTRA"
   ]
  },
  {
   "cell_type": "code",
   "execution_count": null,
   "metadata": {},
   "outputs": [],
   "source": []
  },
  {
   "cell_type": "code",
   "execution_count": null,
   "metadata": {},
   "outputs": [],
   "source": []
  },
  {
   "cell_type": "code",
   "execution_count": null,
   "metadata": {},
   "outputs": [],
   "source": [
    "#df_num[(np.abs(stats.zscore(df)) < 3).all(axis=1)]"
   ]
  },
  {
   "cell_type": "code",
   "execution_count": null,
   "metadata": {},
   "outputs": [],
   "source": [
    "#df_num.price.value_counts(normalize=True) < 0.01;"
   ]
  },
  {
   "cell_type": "code",
   "execution_count": null,
   "metadata": {},
   "outputs": [],
   "source": [
    "def placeholder1(data, placeholder):\n",
    "    placeholder_lst = []\n",
    "    for col in data.columns:\n",
    "        placeholder_lst.append({'Column': col, placeholder: len(df[df[col] == placeholder].index)})\n",
    "    return placeholder_lst"
   ]
  },
  {
   "cell_type": "code",
   "execution_count": null,
   "metadata": {},
   "outputs": [],
   "source": [
    "df.plot.scatter('price', 'sqft_living')\n",
    "#plt.colorbar()\n",
    "#plt.xlim()\n",
    "#sns.scatterplot(x = \"price\", y = \"sqft_living\", data=df)"
   ]
  },
  {
   "cell_type": "markdown",
   "metadata": {},
   "source": [
    "BUILDING GRADE\n",
    "    \tRepresents the construction quality of improvements. Grades run from grade 1 to 13. Generally defined as:\n",
    "\n",
    "1-3 Falls short of minimum building standards. Normally cabin or inferior structure.\n",
    "\n",
    "4 Generally older, low quality construction. Does not meet code.\n",
    "\n",
    "5 Low construction costs and workmanship. Small, simple design.\n",
    "\n",
    "6 Lowest grade currently meeting building code. Low quality materials and simple designs.\n",
    "\n",
    "7 Average grade of construction and design. Commonly seen in plats and older sub-divisions.\n",
    "\n",
    "8 Just above average in construction and design. Usually better materials in both the exterior and interior finish work.\n",
    "\n",
    "9 Better architectural design with extra interior and exterior design and quality.\n",
    "\n",
    "10 Homes of this quality generally have high quality features. Finish work is better and more design quality is seen in the floor plans. Generally have a larger square footage.\n",
    "\n",
    "11 Custom design and higher quality finish work with added amenities of solid woods, bathroom fixtures and more luxurious options.\n",
    "\n",
    "12 Custom design and excellent builders. All materials are of the highest quality and all conveniences are present.\n",
    "\n",
    "13 Generally custom designed and built. Mansion level. Large amount of highest quality cabinet work, wood trim, marble, entry ways etc. "
   ]
  },
  {
   "cell_type": "markdown",
   "metadata": {},
   "source": [
    "#### Further analysis:\n",
    "- location based spatial analysis\n",
    "- modeling missing data for better replacement\n"
   ]
  },
  {
   "cell_type": "code",
   "execution_count": null,
   "metadata": {},
   "outputs": [],
   "source": [
    "def map_points(df, lat_col='lat', lon_col='long', zoom_start=11, \\\n",
    "                plot_points=False, pt_radius=15, \\\n",
    "                draw_heatmap=False, heat_map_weights_col=None, \\\n",
    "                heat_map_weights_normalize=True, heat_map_radius=15):\n",
    "    \"\"\"Creates a map given a dataframe of points. Can also produce a heatmap overlay\n",
    "\n",
    "    Arg:\n",
    "        df: dataframe containing points to maps\n",
    "        lat_col: Column containing latitude (string)\n",
    "        lon_col: Column containing longitude (string)\n",
    "        zoom_start: Integer representing the initial zoom of the map\n",
    "        plot_points: Add points to map (boolean)\n",
    "        pt_radius: Size of each point\n",
    "        draw_heatmap: Add heatmap to map (boolean)\n",
    "        heat_map_weights_col: Column containing heatmap weights\n",
    "        heat_map_weights_normalize: Normalize heatmap weights (boolean)\n",
    "        heat_map_radius: Size of heatmap point\n",
    "\n",
    "    Returns:\n",
    "        folium map object\n",
    "    \"\"\"\n",
    "\n",
    "    ## center map in the middle of points center in\n",
    "    middle_lat = df[lat_col].median()\n",
    "    middle_lon = df[lon_col].median()\n",
    "\n",
    "    curr_map = folium.Map(location=[middle_lat, middle_lon],\n",
    "                          zoom_start=zoom_start)\n",
    "\n",
    "    # add points to map\n",
    "    if plot_points:\n",
    "        for _, row in df.iterrows():\n",
    "            folium.CircleMarker([row[lat_col], row[lon_col]],\n",
    "                                radius=pt_radius,\n",
    "                                popup=row['zipcode'],\n",
    "                                fill_color=\"#3db7e4\", # divvy color\n",
    "                               ).add_to(curr_map)\n",
    "\n",
    "    # add heatmap\n",
    "    if draw_heatmap:\n",
    "        # convert to (n, 2) or (n, 3) matrix format\n",
    "        if heat_map_weights_col is None:\n",
    "            cols_to_pull = [lat_col, lon_col]\n",
    "        else:\n",
    "            # if we have to normalize\n",
    "            if heat_map_weights_normalize:\n",
    "                df[heat_map_weights_col] = \\\n",
    "                    df[heat_map_weights_col] / df[heat_map_weights_col].sum()\n",
    "\n",
    "            cols_to_pull = [lat_col, lon_col, heat_map_weights_col]\n",
    "\n",
    "        stations = df[cols_to_pull].as_matrix()\n",
    "        curr_map.add_children(plugins.HeatMap(stations, radius=heat_map_radius))\n",
    "\n",
    "    return curr_map"
   ]
  },
  {
   "cell_type": "code",
   "execution_count": null,
   "metadata": {},
   "outputs": [],
   "source": [
    "map_points(df, plot_points=True, draw_heatmap=True, heat_map_weights_normalize=True,\n",
    "          heat_map_weights_col='price')"
   ]
  },
  {
   "cell_type": "code",
   "execution_count": null,
   "metadata": {},
   "outputs": [],
   "source": [
    "#outcome = 'price'\n",
    "#predictors = df.drop('price', axis=1)\n",
    "#pred_sum = \"+\".join(predictors.columns)\n",
    "#formula = outcome + \"~\" + pred_sum"
   ]
  },
  {
   "cell_type": "code",
   "execution_count": null,
   "metadata": {},
   "outputs": [],
   "source": []
  }
 ],
 "metadata": {
  "kernelspec": {
   "display_name": "Python 3",
   "language": "python",
   "name": "python3"
  },
  "language_info": {
   "codemirror_mode": {
    "name": "ipython",
    "version": 3
   },
   "file_extension": ".py",
   "mimetype": "text/x-python",
   "name": "python",
   "nbconvert_exporter": "python",
   "pygments_lexer": "ipython3",
   "version": "3.7.0"
  }
 },
 "nbformat": 4,
 "nbformat_minor": 2
}
