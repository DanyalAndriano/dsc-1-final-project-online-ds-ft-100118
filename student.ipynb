{
 "cells": [
  {
   "cell_type": "markdown",
   "metadata": {},
   "source": [
    "## Final Project Submission\n",
    "\n",
    "Please fill out:\n",
    "* Student name: Danyal Andriano\n",
    "* Student pace: self paced / part time / full time\n",
    "* Scheduled project review date/time: \n",
    "* Instructor name: \n"
   ]
  },
  {
   "cell_type": "code",
   "execution_count": 1,
   "metadata": {},
   "outputs": [],
   "source": [
    "#Import libraries\n",
    "import pandas as pd\n",
    "import matplotlib.pyplot as plt\n",
    "import numpy as np\n",
    "import scipy\n",
    "from scipy import stats\n",
    "from math import sqrt\n",
    "import sqlite3\n",
    "import seaborn as sns\n",
    "import missingno as msno\n",
    "from pandasql import sqldf\n",
    "%matplotlib inline"
   ]
  },
  {
   "cell_type": "code",
   "execution_count": 2,
   "metadata": {},
   "outputs": [
    {
     "data": {
      "text/html": [
       "<div>\n",
       "<style scoped>\n",
       "    .dataframe tbody tr th:only-of-type {\n",
       "        vertical-align: middle;\n",
       "    }\n",
       "\n",
       "    .dataframe tbody tr th {\n",
       "        vertical-align: top;\n",
       "    }\n",
       "\n",
       "    .dataframe thead th {\n",
       "        text-align: right;\n",
       "    }\n",
       "</style>\n",
       "<table border=\"1\" class=\"dataframe\">\n",
       "  <thead>\n",
       "    <tr style=\"text-align: right;\">\n",
       "      <th></th>\n",
       "      <th>id</th>\n",
       "      <th>date</th>\n",
       "      <th>price</th>\n",
       "      <th>bedrooms</th>\n",
       "      <th>bathrooms</th>\n",
       "      <th>sqft_living</th>\n",
       "      <th>sqft_lot</th>\n",
       "      <th>floors</th>\n",
       "      <th>waterfront</th>\n",
       "      <th>view</th>\n",
       "      <th>...</th>\n",
       "      <th>grade</th>\n",
       "      <th>sqft_above</th>\n",
       "      <th>sqft_basement</th>\n",
       "      <th>yr_built</th>\n",
       "      <th>yr_renovated</th>\n",
       "      <th>zipcode</th>\n",
       "      <th>lat</th>\n",
       "      <th>long</th>\n",
       "      <th>sqft_living15</th>\n",
       "      <th>sqft_lot15</th>\n",
       "    </tr>\n",
       "  </thead>\n",
       "  <tbody>\n",
       "    <tr>\n",
       "      <th>0</th>\n",
       "      <td>7129300520</td>\n",
       "      <td>10/13/2014</td>\n",
       "      <td>221900.0</td>\n",
       "      <td>3</td>\n",
       "      <td>1.00</td>\n",
       "      <td>1180</td>\n",
       "      <td>5650</td>\n",
       "      <td>1.0</td>\n",
       "      <td>NaN</td>\n",
       "      <td>0.0</td>\n",
       "      <td>...</td>\n",
       "      <td>7</td>\n",
       "      <td>1180</td>\n",
       "      <td>0.0</td>\n",
       "      <td>1955</td>\n",
       "      <td>0.0</td>\n",
       "      <td>98178</td>\n",
       "      <td>47.5112</td>\n",
       "      <td>-122.257</td>\n",
       "      <td>1340</td>\n",
       "      <td>5650</td>\n",
       "    </tr>\n",
       "    <tr>\n",
       "      <th>1</th>\n",
       "      <td>6414100192</td>\n",
       "      <td>12/9/2014</td>\n",
       "      <td>538000.0</td>\n",
       "      <td>3</td>\n",
       "      <td>2.25</td>\n",
       "      <td>2570</td>\n",
       "      <td>7242</td>\n",
       "      <td>2.0</td>\n",
       "      <td>0.0</td>\n",
       "      <td>0.0</td>\n",
       "      <td>...</td>\n",
       "      <td>7</td>\n",
       "      <td>2170</td>\n",
       "      <td>400.0</td>\n",
       "      <td>1951</td>\n",
       "      <td>1991.0</td>\n",
       "      <td>98125</td>\n",
       "      <td>47.7210</td>\n",
       "      <td>-122.319</td>\n",
       "      <td>1690</td>\n",
       "      <td>7639</td>\n",
       "    </tr>\n",
       "    <tr>\n",
       "      <th>2</th>\n",
       "      <td>5631500400</td>\n",
       "      <td>2/25/2015</td>\n",
       "      <td>180000.0</td>\n",
       "      <td>2</td>\n",
       "      <td>1.00</td>\n",
       "      <td>770</td>\n",
       "      <td>10000</td>\n",
       "      <td>1.0</td>\n",
       "      <td>0.0</td>\n",
       "      <td>0.0</td>\n",
       "      <td>...</td>\n",
       "      <td>6</td>\n",
       "      <td>770</td>\n",
       "      <td>0.0</td>\n",
       "      <td>1933</td>\n",
       "      <td>NaN</td>\n",
       "      <td>98028</td>\n",
       "      <td>47.7379</td>\n",
       "      <td>-122.233</td>\n",
       "      <td>2720</td>\n",
       "      <td>8062</td>\n",
       "    </tr>\n",
       "    <tr>\n",
       "      <th>3</th>\n",
       "      <td>2487200875</td>\n",
       "      <td>12/9/2014</td>\n",
       "      <td>604000.0</td>\n",
       "      <td>4</td>\n",
       "      <td>3.00</td>\n",
       "      <td>1960</td>\n",
       "      <td>5000</td>\n",
       "      <td>1.0</td>\n",
       "      <td>0.0</td>\n",
       "      <td>0.0</td>\n",
       "      <td>...</td>\n",
       "      <td>7</td>\n",
       "      <td>1050</td>\n",
       "      <td>910.0</td>\n",
       "      <td>1965</td>\n",
       "      <td>0.0</td>\n",
       "      <td>98136</td>\n",
       "      <td>47.5208</td>\n",
       "      <td>-122.393</td>\n",
       "      <td>1360</td>\n",
       "      <td>5000</td>\n",
       "    </tr>\n",
       "    <tr>\n",
       "      <th>4</th>\n",
       "      <td>1954400510</td>\n",
       "      <td>2/18/2015</td>\n",
       "      <td>510000.0</td>\n",
       "      <td>3</td>\n",
       "      <td>2.00</td>\n",
       "      <td>1680</td>\n",
       "      <td>8080</td>\n",
       "      <td>1.0</td>\n",
       "      <td>0.0</td>\n",
       "      <td>0.0</td>\n",
       "      <td>...</td>\n",
       "      <td>8</td>\n",
       "      <td>1680</td>\n",
       "      <td>0.0</td>\n",
       "      <td>1987</td>\n",
       "      <td>0.0</td>\n",
       "      <td>98074</td>\n",
       "      <td>47.6168</td>\n",
       "      <td>-122.045</td>\n",
       "      <td>1800</td>\n",
       "      <td>7503</td>\n",
       "    </tr>\n",
       "  </tbody>\n",
       "</table>\n",
       "<p>5 rows × 21 columns</p>\n",
       "</div>"
      ],
      "text/plain": [
       "           id        date     price  bedrooms  bathrooms  sqft_living  \\\n",
       "0  7129300520  10/13/2014  221900.0         3       1.00         1180   \n",
       "1  6414100192   12/9/2014  538000.0         3       2.25         2570   \n",
       "2  5631500400   2/25/2015  180000.0         2       1.00          770   \n",
       "3  2487200875   12/9/2014  604000.0         4       3.00         1960   \n",
       "4  1954400510   2/18/2015  510000.0         3       2.00         1680   \n",
       "\n",
       "   sqft_lot  floors  waterfront  view     ...      grade  sqft_above  \\\n",
       "0      5650     1.0         NaN   0.0     ...          7        1180   \n",
       "1      7242     2.0         0.0   0.0     ...          7        2170   \n",
       "2     10000     1.0         0.0   0.0     ...          6         770   \n",
       "3      5000     1.0         0.0   0.0     ...          7        1050   \n",
       "4      8080     1.0         0.0   0.0     ...          8        1680   \n",
       "\n",
       "   sqft_basement yr_built  yr_renovated  zipcode      lat     long  \\\n",
       "0            0.0     1955           0.0    98178  47.5112 -122.257   \n",
       "1          400.0     1951        1991.0    98125  47.7210 -122.319   \n",
       "2            0.0     1933           NaN    98028  47.7379 -122.233   \n",
       "3          910.0     1965           0.0    98136  47.5208 -122.393   \n",
       "4            0.0     1987           0.0    98074  47.6168 -122.045   \n",
       "\n",
       "   sqft_living15  sqft_lot15  \n",
       "0           1340        5650  \n",
       "1           1690        7639  \n",
       "2           2720        8062  \n",
       "3           1360        5000  \n",
       "4           1800        7503  \n",
       "\n",
       "[5 rows x 21 columns]"
      ]
     },
     "execution_count": 2,
     "metadata": {},
     "output_type": "execute_result"
    }
   ],
   "source": [
    "#Import data \n",
    "df = pd.read_csv('kc_house_data.csv')\n",
    "df.head()"
   ]
  },
  {
   "cell_type": "markdown",
   "metadata": {},
   "source": [
    "## Data Clean-up"
   ]
  },
  {
   "cell_type": "code",
   "execution_count": 3,
   "metadata": {},
   "outputs": [
    {
     "data": {
      "text/plain": [
       "Index(['id', 'date', 'price', 'bedrooms', 'bathrooms', 'sqft_living',\n",
       "       'sqft_lot', 'floors', 'waterfront', 'view', 'condition', 'grade',\n",
       "       'sqft_above', 'sqft_basement', 'yr_built', 'yr_renovated', 'zipcode',\n",
       "       'lat', 'long', 'sqft_living15', 'sqft_lot15'],\n",
       "      dtype='object')"
      ]
     },
     "execution_count": 3,
     "metadata": {},
     "output_type": "execute_result"
    }
   ],
   "source": [
    "# Column headings stripped of white spaces and made lower case for easier processing\n",
    "df.columns.str.lower().str.strip()"
   ]
  },
  {
   "cell_type": "markdown",
   "metadata": {},
   "source": [
    "### Correcting Data Type"
   ]
  },
  {
   "cell_type": "code",
   "execution_count": 4,
   "metadata": {
    "scrolled": true
   },
   "outputs": [
    {
     "name": "stdout",
     "output_type": "stream",
     "text": [
      "<class 'pandas.core.frame.DataFrame'>\n",
      "RangeIndex: 21597 entries, 0 to 21596\n",
      "Data columns (total 21 columns):\n",
      "id               21597 non-null int64\n",
      "date             21597 non-null object\n",
      "price            21597 non-null float64\n",
      "bedrooms         21597 non-null int64\n",
      "bathrooms        21597 non-null float64\n",
      "sqft_living      21597 non-null int64\n",
      "sqft_lot         21597 non-null int64\n",
      "floors           21597 non-null float64\n",
      "waterfront       19221 non-null float64\n",
      "view             21534 non-null float64\n",
      "condition        21597 non-null int64\n",
      "grade            21597 non-null int64\n",
      "sqft_above       21597 non-null int64\n",
      "sqft_basement    21597 non-null object\n",
      "yr_built         21597 non-null int64\n",
      "yr_renovated     17755 non-null float64\n",
      "zipcode          21597 non-null int64\n",
      "lat              21597 non-null float64\n",
      "long             21597 non-null float64\n",
      "sqft_living15    21597 non-null int64\n",
      "sqft_lot15       21597 non-null int64\n",
      "dtypes: float64(8), int64(11), object(2)\n",
      "memory usage: 3.5+ MB\n"
     ]
    }
   ],
   "source": [
    "df.info()"
   ]
  },
  {
   "cell_type": "markdown",
   "metadata": {},
   "source": [
    "The data consists of 20 variable columns and an index. There are 21596 entries. Since n far exceeds p (the number of variables in the set) we should have no power issues. There appears to be missing data for certain variables. "
   ]
  },
  {
   "cell_type": "code",
   "execution_count": 15,
   "metadata": {},
   "outputs": [],
   "source": [
    "df_num = df_num[['price', 'bedrooms', 'bathrooms', 'sqft_living', 'floors', 'view', 'grade', 'sqft_above']]"
   ]
  },
  {
   "cell_type": "code",
   "execution_count": 17,
   "metadata": {
    "scrolled": true
   },
   "outputs": [],
   "source": [
    "#df_num.price.value_counts(normalize=True) < 0.01;"
   ]
  },
  {
   "cell_type": "code",
   "execution_count": 18,
   "metadata": {},
   "outputs": [
    {
     "data": {
      "text/html": [
       "<div>\n",
       "<style scoped>\n",
       "    .dataframe tbody tr th:only-of-type {\n",
       "        vertical-align: middle;\n",
       "    }\n",
       "\n",
       "    .dataframe tbody tr th {\n",
       "        vertical-align: top;\n",
       "    }\n",
       "\n",
       "    .dataframe thead th {\n",
       "        text-align: right;\n",
       "    }\n",
       "</style>\n",
       "<table border=\"1\" class=\"dataframe\">\n",
       "  <thead>\n",
       "    <tr style=\"text-align: right;\">\n",
       "      <th></th>\n",
       "      <th>price</th>\n",
       "      <th>bedrooms</th>\n",
       "      <th>bathrooms</th>\n",
       "      <th>sqft_living</th>\n",
       "      <th>floors</th>\n",
       "      <th>view</th>\n",
       "      <th>grade</th>\n",
       "      <th>sqft_above</th>\n",
       "    </tr>\n",
       "  </thead>\n",
       "  <tbody>\n",
       "    <tr>\n",
       "      <th>0</th>\n",
       "      <td>-0.866696</td>\n",
       "      <td>-0.402894</td>\n",
       "      <td>-1.451039</td>\n",
       "      <td>-0.980629</td>\n",
       "      <td>-0.915531</td>\n",
       "      <td>-0.305429</td>\n",
       "      <td>-0.560787</td>\n",
       "      <td>-0.735234</td>\n",
       "    </tr>\n",
       "    <tr>\n",
       "      <th>1</th>\n",
       "      <td>-0.006251</td>\n",
       "      <td>-0.402894</td>\n",
       "      <td>0.174482</td>\n",
       "      <td>0.533357</td>\n",
       "      <td>0.937409</td>\n",
       "      <td>-0.305429</td>\n",
       "      <td>-0.560787</td>\n",
       "      <td>0.460766</td>\n",
       "    </tr>\n",
       "    <tr>\n",
       "      <th>2</th>\n",
       "      <td>-0.980751</td>\n",
       "      <td>-1.482459</td>\n",
       "      <td>-1.451039</td>\n",
       "      <td>-1.427201</td>\n",
       "      <td>-0.915531</td>\n",
       "      <td>-0.305429</td>\n",
       "      <td>-1.413157</td>\n",
       "      <td>-1.230546</td>\n",
       "    </tr>\n",
       "    <tr>\n",
       "      <th>3</th>\n",
       "      <td>0.173405</td>\n",
       "      <td>0.676671</td>\n",
       "      <td>1.149794</td>\n",
       "      <td>-0.131054</td>\n",
       "      <td>-0.915531</td>\n",
       "      <td>-0.305429</td>\n",
       "      <td>-0.560787</td>\n",
       "      <td>-0.892284</td>\n",
       "    </tr>\n",
       "    <tr>\n",
       "      <th>4</th>\n",
       "      <td>-0.082469</td>\n",
       "      <td>-0.402894</td>\n",
       "      <td>-0.150622</td>\n",
       "      <td>-0.436030</td>\n",
       "      <td>-0.915531</td>\n",
       "      <td>-0.305429</td>\n",
       "      <td>0.291583</td>\n",
       "      <td>-0.131194</td>\n",
       "    </tr>\n",
       "  </tbody>\n",
       "</table>\n",
       "</div>"
      ],
      "text/plain": [
       "      price  bedrooms  bathrooms  sqft_living    floors      view     grade  \\\n",
       "0 -0.866696 -0.402894  -1.451039    -0.980629 -0.915531 -0.305429 -0.560787   \n",
       "1 -0.006251 -0.402894   0.174482     0.533357  0.937409 -0.305429 -0.560787   \n",
       "2 -0.980751 -1.482459  -1.451039    -1.427201 -0.915531 -0.305429 -1.413157   \n",
       "3  0.173405  0.676671   1.149794    -0.131054 -0.915531 -0.305429 -0.560787   \n",
       "4 -0.082469 -0.402894  -0.150622    -0.436030 -0.915531 -0.305429  0.291583   \n",
       "\n",
       "   sqft_above  \n",
       "0   -0.735234  \n",
       "1    0.460766  \n",
       "2   -1.230546  \n",
       "3   -0.892284  \n",
       "4   -0.131194  "
      ]
     },
     "execution_count": 18,
     "metadata": {},
     "output_type": "execute_result"
    }
   ],
   "source": [
    "df_z = pd.DataFrame()\n",
    "for col in df_num.columns:\n",
    "    df_z[col] = (df_num[col] - df_num[col].mean())/df_num[col].std()\n",
    "df_z.head()\n"
   ]
  },
  {
   "cell_type": "code",
   "execution_count": 19,
   "metadata": {
    "scrolled": true
   },
   "outputs": [
    {
     "data": {
      "text/html": [
       "<div>\n",
       "<style scoped>\n",
       "    .dataframe tbody tr th:only-of-type {\n",
       "        vertical-align: middle;\n",
       "    }\n",
       "\n",
       "    .dataframe tbody tr th {\n",
       "        vertical-align: top;\n",
       "    }\n",
       "\n",
       "    .dataframe thead th {\n",
       "        text-align: right;\n",
       "    }\n",
       "</style>\n",
       "<table border=\"1\" class=\"dataframe\">\n",
       "  <thead>\n",
       "    <tr style=\"text-align: right;\">\n",
       "      <th></th>\n",
       "      <th>price</th>\n",
       "      <th>bedrooms</th>\n",
       "      <th>bathrooms</th>\n",
       "      <th>sqft_living</th>\n",
       "      <th>floors</th>\n",
       "      <th>view</th>\n",
       "      <th>grade</th>\n",
       "      <th>sqft_above</th>\n",
       "      <th>price_z</th>\n",
       "      <th>bedrooms_z</th>\n",
       "      <th>bathrooms_z</th>\n",
       "      <th>sqft_living_z</th>\n",
       "      <th>floors_z</th>\n",
       "      <th>view_z</th>\n",
       "      <th>grade_z</th>\n",
       "      <th>sqft_above_z</th>\n",
       "    </tr>\n",
       "  </thead>\n",
       "  <tbody>\n",
       "    <tr>\n",
       "      <th>0</th>\n",
       "      <td>221900.0</td>\n",
       "      <td>3</td>\n",
       "      <td>1.00</td>\n",
       "      <td>1180</td>\n",
       "      <td>1.0</td>\n",
       "      <td>0.0</td>\n",
       "      <td>7</td>\n",
       "      <td>1180</td>\n",
       "      <td>-0.866696</td>\n",
       "      <td>-0.402894</td>\n",
       "      <td>-1.451039</td>\n",
       "      <td>-0.980629</td>\n",
       "      <td>-0.915531</td>\n",
       "      <td>-0.305429</td>\n",
       "      <td>-0.560787</td>\n",
       "      <td>-0.735234</td>\n",
       "    </tr>\n",
       "    <tr>\n",
       "      <th>1</th>\n",
       "      <td>538000.0</td>\n",
       "      <td>3</td>\n",
       "      <td>2.25</td>\n",
       "      <td>2570</td>\n",
       "      <td>2.0</td>\n",
       "      <td>0.0</td>\n",
       "      <td>7</td>\n",
       "      <td>2170</td>\n",
       "      <td>-0.006251</td>\n",
       "      <td>-0.402894</td>\n",
       "      <td>0.174482</td>\n",
       "      <td>0.533357</td>\n",
       "      <td>0.937409</td>\n",
       "      <td>-0.305429</td>\n",
       "      <td>-0.560787</td>\n",
       "      <td>0.460766</td>\n",
       "    </tr>\n",
       "    <tr>\n",
       "      <th>2</th>\n",
       "      <td>180000.0</td>\n",
       "      <td>2</td>\n",
       "      <td>1.00</td>\n",
       "      <td>770</td>\n",
       "      <td>1.0</td>\n",
       "      <td>0.0</td>\n",
       "      <td>6</td>\n",
       "      <td>770</td>\n",
       "      <td>-0.980751</td>\n",
       "      <td>-1.482459</td>\n",
       "      <td>-1.451039</td>\n",
       "      <td>-1.427201</td>\n",
       "      <td>-0.915531</td>\n",
       "      <td>-0.305429</td>\n",
       "      <td>-1.413157</td>\n",
       "      <td>-1.230546</td>\n",
       "    </tr>\n",
       "    <tr>\n",
       "      <th>3</th>\n",
       "      <td>604000.0</td>\n",
       "      <td>4</td>\n",
       "      <td>3.00</td>\n",
       "      <td>1960</td>\n",
       "      <td>1.0</td>\n",
       "      <td>0.0</td>\n",
       "      <td>7</td>\n",
       "      <td>1050</td>\n",
       "      <td>0.173405</td>\n",
       "      <td>0.676671</td>\n",
       "      <td>1.149794</td>\n",
       "      <td>-0.131054</td>\n",
       "      <td>-0.915531</td>\n",
       "      <td>-0.305429</td>\n",
       "      <td>-0.560787</td>\n",
       "      <td>-0.892284</td>\n",
       "    </tr>\n",
       "    <tr>\n",
       "      <th>4</th>\n",
       "      <td>510000.0</td>\n",
       "      <td>3</td>\n",
       "      <td>2.00</td>\n",
       "      <td>1680</td>\n",
       "      <td>1.0</td>\n",
       "      <td>0.0</td>\n",
       "      <td>8</td>\n",
       "      <td>1680</td>\n",
       "      <td>-0.082469</td>\n",
       "      <td>-0.402894</td>\n",
       "      <td>-0.150622</td>\n",
       "      <td>-0.436030</td>\n",
       "      <td>-0.915531</td>\n",
       "      <td>-0.305429</td>\n",
       "      <td>0.291583</td>\n",
       "      <td>-0.131194</td>\n",
       "    </tr>\n",
       "  </tbody>\n",
       "</table>\n",
       "</div>"
      ],
      "text/plain": [
       "      price  bedrooms  bathrooms  sqft_living  floors  view  grade  \\\n",
       "0  221900.0         3       1.00         1180     1.0   0.0      7   \n",
       "1  538000.0         3       2.25         2570     2.0   0.0      7   \n",
       "2  180000.0         2       1.00          770     1.0   0.0      6   \n",
       "3  604000.0         4       3.00         1960     1.0   0.0      7   \n",
       "4  510000.0         3       2.00         1680     1.0   0.0      8   \n",
       "\n",
       "   sqft_above   price_z  bedrooms_z  bathrooms_z  sqft_living_z  floors_z  \\\n",
       "0        1180 -0.866696   -0.402894    -1.451039      -0.980629 -0.915531   \n",
       "1        2170 -0.006251   -0.402894     0.174482       0.533357  0.937409   \n",
       "2         770 -0.980751   -1.482459    -1.451039      -1.427201 -0.915531   \n",
       "3        1050  0.173405    0.676671     1.149794      -0.131054 -0.915531   \n",
       "4        1680 -0.082469   -0.402894    -0.150622      -0.436030 -0.915531   \n",
       "\n",
       "     view_z   grade_z  sqft_above_z  \n",
       "0 -0.305429 -0.560787     -0.735234  \n",
       "1 -0.305429 -0.560787      0.460766  \n",
       "2 -0.305429 -1.413157     -1.230546  \n",
       "3 -0.305429 -0.560787     -0.892284  \n",
       "4 -0.305429  0.291583     -0.131194  "
      ]
     },
     "execution_count": 19,
     "metadata": {},
     "output_type": "execute_result"
    }
   ],
   "source": [
    "merged = df_num.merge(df_z, suffixes=('', '_z'), left_index=True, right_index=True)\n",
    "merged.head()\n",
    "merged2 = merged\n",
    "merged2.head()"
   ]
  },
  {
   "cell_type": "code",
   "execution_count": 26,
   "metadata": {
    "scrolled": true
   },
   "outputs": [
    {
     "data": {
      "text/plain": [
       "0.026207343612538778"
      ]
     },
     "execution_count": 26,
     "metadata": {},
     "output_type": "execute_result"
    }
   ],
   "source": [
    "len(merged.loc[merged['price_z'] > 2.5])/len(merged)\n",
    "#merged = (merged.iloc[:,8:] > 3) | (merged.iloc[:,8:] < 3) "
   ]
  },
  {
   "cell_type": "markdown",
   "metadata": {},
   "source": [
    "- sqft_basement is float, but contains place holders for unknown data. Explore further below for decision to be made. \n",
    "- waterfront appears to be bool, but to have missing values; left for further exploration below\n",
    "- view appears to be bool but to also have some missing values; left for further analysis below\n",
    "- year data is interval; further analysis to determine how feature will be used for modeling\n",
    "- zipcode and location data will be removed from the main dataset for now and returned to later... there are too many cities and zipcodes to use as a categorical set of predictors in the model. However, location data could be used to access other demographic data and zipcodes can be used grossly to divide the county into 4 segments (East, West, North, South) if time permits. "
   ]
  },
  {
   "cell_type": "markdown",
   "metadata": {},
   "source": [
    "### Drop Columns"
   ]
  },
  {
   "cell_type": "code",
   "execution_count": null,
   "metadata": {},
   "outputs": [],
   "source": [
    "location_df = df.iloc[:, 14:17]\n",
    "location_df.head()"
   ]
  },
  {
   "cell_type": "code",
   "execution_count": null,
   "metadata": {
    "scrolled": true
   },
   "outputs": [],
   "source": [
    "# remove date - not time series analysis and we have the years as time reference better suited to an OLS regression. \n",
    "# remove id as the integer index appears to be a simpler and more effective identification\n",
    "# remove location data for now\n",
    "to_drop = ['date', 'zipcode', 'lat', 'long']\n",
    "df.drop(to_drop, axis=1, inplace=True)\n"
   ]
  },
  {
   "cell_type": "markdown",
   "metadata": {},
   "source": [
    "### Placeholders and Missing Data"
   ]
  },
  {
   "cell_type": "code",
   "execution_count": null,
   "metadata": {},
   "outputs": [],
   "source": [
    "# check for obvious placeholders \n",
    "\n",
    "def placeholder(data, placeholder, missing = np.NaN):\n",
    "    \"\"\"\n",
    "    DocString for placeholder function:\n",
    "    ___________________________________\n",
    "    input\n",
    "    data: dataframe, iterable\n",
    "    placeholder: int, str, float\n",
    "    placeholder2: np.NaN\n",
    "    \n",
    "    return: dict of counts\n",
    "    \"\"\"\n",
    "    counts = 0\n",
    "    counts2 = 0\n",
    "    placeholder_lst = []\n",
    "    for col in data.columns:\n",
    "        for value in data[col]:\n",
    "            if value == placeholder:\n",
    "                counts += 1\n",
    "            elif value == missing:\n",
    "                counts2 += 1\n",
    "    placeholder_lst.append({'Column': col, placeholder: counts, missing: counts2})\n",
    "    return placeholder_lst"
   ]
  },
  {
   "cell_type": "code",
   "execution_count": null,
   "metadata": {},
   "outputs": [],
   "source": [
    "placeholder(df, '?')"
   ]
  },
  {
   "cell_type": "code",
   "execution_count": null,
   "metadata": {},
   "outputs": [],
   "source": [
    "# df.sqft_basement = df.sqft_basement.astype(float)"
   ]
  },
  {
   "cell_type": "code",
   "execution_count": null,
   "metadata": {
    "scrolled": false
   },
   "outputs": [],
   "source": [
    "msno.matrix(df);"
   ]
  },
  {
   "cell_type": "markdown",
   "metadata": {},
   "source": [
    "Notable missing data were apparent for three variables - waterfront, view and yr_renovated. These variables will be further explored to determine how best to deal with the missing values."
   ]
  },
  {
   "cell_type": "code",
   "execution_count": null,
   "metadata": {
    "scrolled": true
   },
   "outputs": [],
   "source": [
    "df.isna().sum()"
   ]
  },
  {
   "cell_type": "code",
   "execution_count": null,
   "metadata": {},
   "outputs": [],
   "source": [
    "# Waterfront indicates whether a house has a view to the waterfront. \n",
    "df.waterfront.unique()\n",
    "df.waterfront.value_counts()\n",
    " "
   ]
  },
  {
   "cell_type": "markdown",
   "metadata": {},
   "source": [
    "<img src=\"king_county.png\" style=\"width: 700px\">"
   ]
  },
  {
   "cell_type": "markdown",
   "metadata": {},
   "source": [
    "Further inspection shows that this data type is in fact boolean. It is not indicated whether a value of 1 means that a view is present, \n",
    "however, inspecting the county visually suggetss that a minority of area borders water. We can assume based on this that only \n",
    "146 houses in this dataset are on the waterfront."
   ]
  },
  {
   "cell_type": "code",
   "execution_count": null,
   "metadata": {},
   "outputs": [],
   "source": [
    "#Null values were temporarily dropped to explore further\n",
    "df.waterfront.dropna(axis=0, inplace=True);\n",
    "df.waterfront.isna().sum()\n"
   ]
  },
  {
   "cell_type": "code",
   "execution_count": null,
   "metadata": {},
   "outputs": [],
   "source": [
    "waterfront_ave = round(df.groupby(['waterfront']).mean(), 2)\n",
    "waterfront_ave.head()"
   ]
  },
  {
   "cell_type": "code",
   "execution_count": null,
   "metadata": {},
   "outputs": [],
   "source": [
    "# replace waterfront missing values with NaN category\n",
    "\n",
    "df.waterfront = df.waterfront.astype(str)\n",
    "\n",
    "df.waterfront.replace(np.NaN, 'NaN', inplace=True)\n",
    "df.waterfront.replace(0.0, 'False', inplace=True)\n",
    "df.waterfront.replace(1.0, 'True', inplace=True)"
   ]
  },
  {
   "cell_type": "code",
   "execution_count": null,
   "metadata": {},
   "outputs": [],
   "source": [
    "f, axes = plt.subplots(1,2, figsize=(12,5))\n",
    "sns.boxplot(x=\"waterfront\", y=\"price\", data=df, ax=axes[0])\n",
    "sns.boxplot(x=\"waterfront\", y=\"sqft_living\", data=df, ax=axes[1])\n",
    "f.tight_layout()"
   ]
  },
  {
   "cell_type": "code",
   "execution_count": null,
   "metadata": {},
   "outputs": [],
   "source": [
    "# waterfront contains only a very small percentage of houses; however, there appears to be a real difference in size and price. \n",
    "# These houses are perhaps best left out of the analysis altogether, as they may represent outliers and a different population. "
   ]
  },
  {
   "cell_type": "code",
   "execution_count": null,
   "metadata": {},
   "outputs": [],
   "source": []
  },
  {
   "cell_type": "code",
   "execution_count": null,
   "metadata": {},
   "outputs": [],
   "source": []
  },
  {
   "cell_type": "code",
   "execution_count": null,
   "metadata": {},
   "outputs": [],
   "source": []
  },
  {
   "cell_type": "code",
   "execution_count": null,
   "metadata": {},
   "outputs": [],
   "source": []
  },
  {
   "cell_type": "code",
   "execution_count": null,
   "metadata": {},
   "outputs": [],
   "source": []
  },
  {
   "cell_type": "code",
   "execution_count": null,
   "metadata": {},
   "outputs": [],
   "source": []
  },
  {
   "cell_type": "code",
   "execution_count": null,
   "metadata": {},
   "outputs": [],
   "source": []
  },
  {
   "cell_type": "code",
   "execution_count": null,
   "metadata": {},
   "outputs": [],
   "source": []
  },
  {
   "cell_type": "markdown",
   "metadata": {},
   "source": [
    "### EXTRA"
   ]
  },
  {
   "cell_type": "code",
   "execution_count": null,
   "metadata": {},
   "outputs": [],
   "source": [
    "#### calculate outliers using z-scores and standard deviations\n",
    "def extreme_values(data):\n",
    "    z_dict = []\n",
    "    for col in data.columns:\n",
    "        if(data[col].dtype == float or data[col].dtype == int):\n",
    "            for value in data[col]:\n",
    "                id_val = data.loc[data['id'] == value]\n",
    "                z = (value - data[col].mean())/data[col].std()\n",
    "                if z > 4 or z < -4:\n",
    "                    z_dict.append({'id': id_val, 'variable': col, 'extreme_value': value, 'z_score': z})\n",
    "    extreme = pd.DataFrame(z_dict)\n",
    "    return extreme"
   ]
  },
  {
   "cell_type": "code",
   "execution_count": null,
   "metadata": {},
   "outputs": [],
   "source": [
    "threshold = 0.03\n",
    "for col in df_num2:\n",
    "    counts = df_num2[col].value_counts(normalize=True)\n",
    "    df_num3 = df_num2.loc[df_num2[col].isin(counts[counts > threshold].index), :]"
   ]
  },
  {
   "cell_type": "code",
   "execution_count": null,
   "metadata": {},
   "outputs": [],
   "source": [
    "#df_num[(np.abs(stats.zscore(df)) < 3).all(axis=1)]"
   ]
  },
  {
   "cell_type": "code",
   "execution_count": null,
   "metadata": {},
   "outputs": [],
   "source": []
  },
  {
   "cell_type": "code",
   "execution_count": null,
   "metadata": {},
   "outputs": [],
   "source": []
  }
 ],
 "metadata": {
  "kernelspec": {
   "display_name": "Python 3",
   "language": "python",
   "name": "python3"
  },
  "language_info": {
   "codemirror_mode": {
    "name": "ipython",
    "version": 3
   },
   "file_extension": ".py",
   "mimetype": "text/x-python",
   "name": "python",
   "nbconvert_exporter": "python",
   "pygments_lexer": "ipython3",
   "version": "3.6.5"
  }
 },
 "nbformat": 4,
 "nbformat_minor": 2
}
